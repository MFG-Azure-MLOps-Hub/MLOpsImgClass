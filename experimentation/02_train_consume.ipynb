{
  "cells": [
    {
      "cell_type": "markdown",
      "metadata": {},
      "source": [
        "Copyright (c) Microsoft Corporation. All rights reserved.\n",
        "\n",
        "Licensed under the MIT License."
      ]
    },
    {
      "cell_type": "markdown",
      "metadata": {},
      "source": [
        "![Impressions](https://PixelServer20190423114238.azurewebsites.net/api/impressions/MachineLearningNotebooks/how-to-use-azureml/ml-frameworks/keras/train-hyperparameter-tune-deploy-with-keras/train-hyperparameter-tune-deploy-with-keras.png)"
      ]
    },
    {
      "cell_type": "markdown",
      "metadata": {
        "nbpresent": {
          "id": "bf74d2e9-2708-49b1-934b-e0ede342f475"
        }
      },
      "source": [
        "# Training, hyperparameter tune, and deploy with Keras\n",
        "\n",
        "## Introduction\n",
        "This tutorial shows how to train a simple deep neural network using the MNIST dataset and Keras on Azure Machine Learning. MNIST is a popular dataset consisting of 70,000 grayscale images. Each image is a handwritten digit of `28x28` pixels, representing number from 0 to 9. The goal is to create a multi-class classifier to identify the digit each image represents, and deploy it as a web service in Azure.\n",
        "\n",
        "For more information about the MNIST dataset, please visit [Yan LeCun's website](http://yann.lecun.com/exdb/mnist/).\n",
        "\n",
        "## Prerequisite:\n",
        "* Understand the [architecture and terms](https://docs.microsoft.com/azure/machine-learning/service/concept-azure-machine-learning-architecture) introduced by Azure Machine Learning\n",
        "* If you are using an Azure Machine Learning Notebook VM, you are all set. Otherwise, go through the [configuration notebook](../../../../configuration.ipynb) to:\n",
        "    * install the AML SDK\n",
        "    * create a workspace and its configuration file (`config.json`)\n",
        "* For local scoring test, you will also need to have `tensorflow` and `keras` installed in the current Jupyter kernel."
      ]
    },
    {
      "cell_type": "markdown",
      "metadata": {},
      "source": [
        "Let's get started. First let's import some Python libraries."
      ]
    },
    {
      "cell_type": "code",
      "execution_count": 1,
      "metadata": {
        "nbpresent": {
          "id": "c377ea0c-0cd9-4345-9be2-e20fb29c94c3"
        }
      },
      "outputs": [],
      "source": [
        "%matplotlib inline\n",
        "import numpy as np\n",
        "import os\n",
        "import matplotlib.pyplot as plt"
      ]
    },
    {
      "cell_type": "code",
      "execution_count": 2,
      "metadata": {
        "nbpresent": {
          "id": "edaa7f2f-2439-4148-b57a-8c794c0945ec"
        }
      },
      "outputs": [
        {
          "output_type": "stream",
          "name": "stdout",
          "text": [
            "Azure ML SDK Version:  1.12.0\n"
          ]
        }
      ],
      "source": [
        "import azureml\n",
        "from azureml.core import Workspace\n",
        "\n",
        "# check core SDK version number\n",
        "print(\"Azure ML SDK Version: \", azureml.core.VERSION)"
      ]
    },
    {
      "cell_type": "markdown",
      "metadata": {},
      "source": [
        "## Initialize workspace\n",
        "Initialize a [Workspace](https://docs.microsoft.com/azure/machine-learning/service/concept-azure-machine-learning-architecture#workspace) object from the existing workspace you created in the Prerequisites step. `Workspace.from_config()` creates a workspace object from the details stored in `config.json`."
      ]
    },
    {
      "cell_type": "code",
      "execution_count": 4,
      "metadata": {},
      "outputs": [
        {
          "output_type": "stream",
          "name": "stdout",
          "text": [
            "Workspace name: mfgmlops-AML-WS\nAzure region: centralus\nSubscription id: 10609c53-2ee3-4ff1-b438-46f7e9de2cc6\nResource group: mfgmlops-RG\n"
          ]
        }
      ],
      "source": [
        "ws = Workspace.from_config()\n",
        "print('Workspace name: ' + ws.name, \n",
        "      'Azure region: ' + ws.location, \n",
        "      'Subscription id: ' + ws.subscription_id, \n",
        "      'Resource group: ' + ws.resource_group, sep='\\n')"
      ]
    },
    {
      "cell_type": "markdown",
      "metadata": {
        "nbpresent": {
          "id": "59f52294-4a25-4c92-bab8-3b07f0f44d15"
        }
      },
      "source": [
        "## Create an Azure ML experiment\n",
        "Let's create an experiment named \"keras-mnist\" and a folder to hold the training scripts. The script runs will be recorded under the experiment in Azure."
      ]
    },
    {
      "cell_type": "code",
      "execution_count": 5,
      "metadata": {
        "nbpresent": {
          "id": "bc70f780-c240-4779-96f3-bc5ef9a37d59"
        }
      },
      "outputs": [],
      "source": [
        "from azureml.core import Experiment\n",
        "\n",
        "script_folder = './keras-mnist'\n",
        "os.makedirs(script_folder, exist_ok=True)\n",
        "\n",
        "exp = Experiment(workspace=ws, name='keras-mnist')"
      ]
    },
    {
      "cell_type": "markdown",
      "metadata": {},
      "source": [
        "## Explore data\n",
        "\n",
        "Before you train a model, you need to understand the data that you are using to train it. In this section you learn how to:\n",
        "\n",
        "* Download the MNIST dataset\n",
        "* Display some sample images\n",
        "\n",
        "### Download the MNIST dataset\n",
        "\n",
        "Download the MNIST dataset and save the files into a `data` directory locally.  Images and labels for both training and testing are downloaded."
      ]
    },
    {
      "cell_type": "code",
      "execution_count": 6,
      "metadata": {},
      "outputs": [
        {
          "output_type": "execute_result",
          "data": {
            "text/plain": [
              "('c:\\\\Users\\\\ganwa\\\\git\\\\MLOpsImgClass\\\\experimentation\\\\data\\\\t10k-labels-idx1-ubyte.gz',\n",
              " <http.client.HTTPMessage at 0x1d3cbd96a48>)"
            ]
          },
          "metadata": {},
          "execution_count": 6
        }
      ],
      "source": [
        "import urllib.request\n",
        "\n",
        "data_folder = os.path.join(os.getcwd(), 'data')\n",
        "os.makedirs(data_folder, exist_ok=True)\n",
        "\n",
        "urllib.request.urlretrieve('https://azureopendatastorage.blob.core.windows.net/mnist/train-images-idx3-ubyte.gz',\n",
        "                           filename=os.path.join(data_folder, 'train-images-idx3-ubyte.gz'))\n",
        "urllib.request.urlretrieve('https://azureopendatastorage.blob.core.windows.net/mnist/train-labels-idx1-ubyte.gz',\n",
        "                           filename=os.path.join(data_folder, 'train-labels-idx1-ubyte.gz'))\n",
        "urllib.request.urlretrieve('https://azureopendatastorage.blob.core.windows.net/mnist/t10k-images-idx3-ubyte.gz',\n",
        "                           filename=os.path.join(data_folder, 't10k-images-idx3-ubyte.gz'))\n",
        "urllib.request.urlretrieve('https://azureopendatastorage.blob.core.windows.net/mnist/t10k-labels-idx1-ubyte.gz',\n",
        "                           filename=os.path.join(data_folder, 't10k-labels-idx1-ubyte.gz'))"
      ]
    },
    {
      "cell_type": "markdown",
      "metadata": {},
      "source": [
        "### Display some sample images\n",
        "\n",
        "Load the compressed files into `numpy` arrays. Then use `matplotlib` to plot 30 random images from the dataset with their labels above them. Note this step requires a `load_data` function that's included in an `utils.py` file. This file is included in the sample folder. Please make sure it is placed in the same folder as this notebook. The `load_data` function simply parses the compressed files into numpy arrays."
      ]
    },
    {
      "cell_type": "code",
      "execution_count": 7,
      "metadata": {},
      "outputs": [
        {
          "output_type": "display_data",
          "data": {
            "text/plain": "<Figure size 1152x432 with 30 Axes>",
            "image/svg+xml": "<?xml version=\"1.0\" encoding=\"utf-8\" standalone=\"no\"?>\r\n<!DOCTYPE svg PUBLIC \"-//W3C//DTD SVG 1.1//EN\"\r\n  \"http://www.w3.org/Graphics/SVG/1.1/DTD/svg11.dtd\">\r\n<!-- Created with matplotlib (https://matplotlib.org/) -->\r\n<svg height=\"64.977028pt\" version=\"1.1\" viewBox=\"0 0 910.7 64.977028\" width=\"910.7pt\" xmlns=\"http://www.w3.org/2000/svg\" xmlns:xlink=\"http://www.w3.org/1999/xlink\">\r\n <defs>\r\n  <style type=\"text/css\">\r\n*{stroke-linecap:butt;stroke-linejoin:round;}\r\n  </style>\r\n </defs>\r\n <g id=\"figure_1\">\r\n  <g id=\"patch_1\">\r\n   <path d=\"M 0 64.977028 \r\nL 910.7 64.977028 \r\nL 910.7 0 \r\nL 0 0 \r\nz\r\n\" style=\"fill:none;\"/>\r\n  </g>\r\n  <g id=\"axes_1\">\r\n   <g id=\"patch_2\">\r\n    <path d=\"M 10.7 54.277028 \r\nL 35.638547 54.277028 \r\nL 35.638547 29.33848 \r\nL 10.7 29.33848 \r\nz\r\n\" style=\"fill:#ffffff;\"/>\r\n   </g>\r\n   <g clip-path=\"url(#pdc81e2fbfc)\">\r\n    <image height=\"25\" id=\"image6613d5c4ed\" transform=\"scale(1 -1)translate(0 -25)\" width=\"25\" x=\"10.7\" xlink:href=\"data:image/png;base64,\r\niVBORw0KGgoAAAANSUhEUgAAABkAAAAZCAYAAADE6YVjAAAABHNCSVQICAgIfAhkiAAAAmNJREFUSIntlT9LI1EUxc/MGx7OhBBUsJEIGkiljUIQpzYGYyBdEJMPEMgnUEtJEUhpIaSykRTpLVOksUgVJBL/FEJQgiGCRSYTM2eLZQVBZ2dc7fZ0j8e7P+69h/MUksQPS/1pwH/Iz0Fs28bFxQVKpRLu7u7gyy/0IMdxeHt7y5WVFQaDQWYyGbZaLb6+vnp5Tk+Qfr/PdDpNIQRVVaWUkrOzsyyXy7y+vv53SKvV4ubmJlVVpaIo1DSNhmHQMAxKKRkKhXh8fMzhcEjHcfxDbNumaZrUNI3T09MUQjCbzfLx8ZFPT088OjpiJBKhEILLy8vsdrv+Iaenp9Q0jUtLS6xUKoxGo5ybm2OxWOTDwwNt22aj0aAQgouLi2w2mx/W0dxMcXJyApLY2NjA7u4uDMPA/v4+Dg8P0el0EI/HMRwO35zGTxznCvmjqakpGIaBdDqNYDCISqWCWq2GarUKKSUCgQBSqRQWFhb8Q1RVhaIob2dd17G1tYXV1VWcn5+jXq+j1+thb28PyWQSMzMzHxdy20kul6MQgqZp8uXl5d2dZVkcDAbs9XocjUZuZdwX//z8zPX1deq6zkKhQMuyXIt9JtdYCYVC2NnZwXg8xuXlJWzb/tv6/I+LJLvdLvP5POfn53l2dsbJZOK7E0+xMhgMGIvFmEgkeH9/7xviKYV1XUcqlUK73Ua9XodlWd87LvJ3Ct/c3DAWi3FtbY3tdvvTnPpyJ4qiIBwO4+DgAKPRCFdXV5hMJp4b8fxpSSlhmia2t7cRCAQ8AwBAIb1/cY7jwLIsCCEgpXyXBt8G+ap+Aer/zYSYXxLYAAAAAElFTkSuQmCC\" y=\"-29.277028\"/>\r\n   </g>\r\n   <g id=\"matplotlib.axis_1\">\r\n    <g id=\"xtick_1\">\r\n     <g id=\"line2d_1\">\r\n      <defs>\r\n       <path d=\"M 0 0 \r\nL 0 3.5 \r\n\" id=\"m034dcb9cfc\" style=\"stroke:#000000;stroke-width:0.8;\"/>\r\n      </defs>\r\n      <g>\r\n       <use style=\"stroke:#000000;stroke-width:0.8;\" x=\"11.145331\" xlink:href=\"#m034dcb9cfc\" y=\"54.277028\"/>\r\n      </g>\r\n     </g>\r\n    </g>\r\n   </g>\r\n   <g id=\"matplotlib.axis_2\">\r\n    <g id=\"ytick_1\">\r\n     <g id=\"line2d_2\">\r\n      <defs>\r\n       <path d=\"M 0 0 \r\nL -3.5 0 \r\n\" id=\"mcd130c91b7\" style=\"stroke:#000000;stroke-width:0.8;\"/>\r\n      </defs>\r\n      <g>\r\n       <use style=\"stroke:#000000;stroke-width:0.8;\" x=\"10.7\" xlink:href=\"#mcd130c91b7\" y=\"29.783812\"/>\r\n      </g>\r\n     </g>\r\n    </g>\r\n   </g>\r\n   <g id=\"line2d_3\">\r\n    <path clip-path=\"url(#pdc81e2fbfc)\" d=\"M 10.7 29.783812 \r\nL 35.638547 29.783812 \r\n\" style=\"fill:none;stroke:#1f77b4;stroke-linecap:square;stroke-width:1.5;\"/>\r\n   </g>\r\n   <g id=\"line2d_4\">\r\n    <path clip-path=\"url(#pdc81e2fbfc)\" d=\"M 11.145331 54.277028 \r\nL 11.145331 29.33848 \r\n\" style=\"fill:none;stroke:#1f77b4;stroke-linecap:square;stroke-width:1.5;\"/>\r\n   </g>\r\n   <g id=\"patch_3\">\r\n    <path d=\"M 10.7 54.277028 \r\nL 10.7 29.33848 \r\n\" style=\"fill:none;stroke:#000000;stroke-linecap:square;stroke-linejoin:miter;stroke-width:0.8;\"/>\r\n   </g>\r\n   <g id=\"patch_4\">\r\n    <path d=\"M 35.638547 54.277028 \r\nL 35.638547 29.33848 \r\n\" style=\"fill:none;stroke:#000000;stroke-linecap:square;stroke-linejoin:miter;stroke-width:0.8;\"/>\r\n   </g>\r\n   <g id=\"patch_5\">\r\n    <path d=\"M 10.7 54.277028 \r\nL 35.638547 54.277028 \r\n\" style=\"fill:none;stroke:#000000;stroke-linecap:square;stroke-linejoin:miter;stroke-width:0.8;\"/>\r\n   </g>\r\n   <g id=\"patch_6\">\r\n    <path d=\"M 10.7 29.33848 \r\nL 35.638547 29.33848 \r\n\" style=\"fill:none;stroke:#000000;stroke-linecap:square;stroke-linejoin:miter;stroke-width:0.8;\"/>\r\n   </g>\r\n   <g id=\"text_1\">\r\n    <!-- 6 -->\r\n    <defs>\r\n     <path d=\"M 33.015625 40.375 \r\nQ 26.375 40.375 22.484375 35.828125 \r\nQ 18.609375 31.296875 18.609375 23.390625 \r\nQ 18.609375 15.53125 22.484375 10.953125 \r\nQ 26.375 6.390625 33.015625 6.390625 \r\nQ 39.65625 6.390625 43.53125 10.953125 \r\nQ 47.40625 15.53125 47.40625 23.390625 \r\nQ 47.40625 31.296875 43.53125 35.828125 \r\nQ 39.65625 40.375 33.015625 40.375 \r\nz\r\nM 52.59375 71.296875 \r\nL 52.59375 62.3125 \r\nQ 48.875 64.0625 45.09375 64.984375 \r\nQ 41.3125 65.921875 37.59375 65.921875 \r\nQ 27.828125 65.921875 22.671875 59.328125 \r\nQ 17.53125 52.734375 16.796875 39.40625 \r\nQ 19.671875 43.65625 24.015625 45.921875 \r\nQ 28.375 48.1875 33.59375 48.1875 \r\nQ 44.578125 48.1875 50.953125 41.515625 \r\nQ 57.328125 34.859375 57.328125 23.390625 \r\nQ 57.328125 12.15625 50.6875 5.359375 \r\nQ 44.046875 -1.421875 33.015625 -1.421875 \r\nQ 20.359375 -1.421875 13.671875 8.265625 \r\nQ 6.984375 17.96875 6.984375 36.375 \r\nQ 6.984375 53.65625 15.1875 63.9375 \r\nQ 23.390625 74.21875 37.203125 74.21875 \r\nQ 40.921875 74.21875 44.703125 73.484375 \r\nQ 48.484375 72.75 52.59375 71.296875 \r\nz\r\n\" id=\"DejaVuSans-54\"/>\r\n    </defs>\r\n    <g transform=\"translate(20.051955 20.877188)scale(0.18 -0.18)\">\r\n     <use xlink:href=\"#DejaVuSans-54\"/>\r\n    </g>\r\n   </g>\r\n  </g>\r\n  <g id=\"axes_2\">\r\n   <g id=\"patch_7\">\r\n    <path d=\"M 40.626257 54.277028 \r\nL 65.564804 54.277028 \r\nL 65.564804 29.33848 \r\nL 40.626257 29.33848 \r\nz\r\n\" style=\"fill:#ffffff;\"/>\r\n   </g>\r\n   <g clip-path=\"url(#pdf20d35e9d)\">\r\n    <image height=\"25\" id=\"image43d7298b72\" transform=\"scale(1 -1)translate(0 -25)\" width=\"25\" x=\"40.626257\" xlink:href=\"data:image/png;base64,\r\niVBORw0KGgoAAAANSUhEUgAAABkAAAAZCAYAAADE6YVjAAAABHNCSVQICAgIfAhkiAAAArhJREFUSIndlj1P6mAUx0/PU01AigIaTUws1ckJ48DiB2Bg0MRBF1ET4kDiYiTGWb8Co+EDMDgwaEjQMKhjR0YHXxIH0xjUAoXn73BDowJX4V7vcP9Jh/ac8/x6Xvr0UQCAflj804D/C6J2emjbNp2cnND19TVJKUlRlA/2+fl5mpubo0Ag0GbrKHxSvV5HNpvF5OQkVFUFM0NVVfcSQkDXdWxubsKyrM/hHdUGsW0biUQCAwMDXSFCCHg8HuRyOTSbzS8hHXviOA61JntqaoqKxSIdHBxQNBoln8/n+mxvb1Mul+u9XLZtY3V1FcwMZkY6nYaUElJKVCoVHB8fIxKJuHav1/tlNh0zEUIQMxMzU7lcJsuySFEU8vl8tLS0RPv7+2QYBgkhqNFoUD6fp+fn5+9nUqvVcHh4iGAw6PZha2sL9Xrd9alUKjg7O0M4HIaqqhgZGUGpVOqaSRsEAJ6enpBOp+H1esHMmJmZgWmakFJ+8IvH4+6LrK+v91Yuv99POzs7lEwmaWFhge7v7ymTydDDw8MHPyllqxruoHyrXC05jgPLslAoFBAMBjE8PIxUKoXb21vX5/z8HOFwGEIILC8v4+Xl5fvlei/btnF0dARN06BpGlZWVnB1dYVarQbHcZBKpcDMmJ2dhWma/UFaoGw2C03TMDg4CMMwUCqV0Gg0sLe3B2aGruu4uLjoHwIAr6+vyGQy7tRNTEygUChgbW0NzIxIJIJyufxnkBbo9PQU0WgUQgj3gxRCIJFIdI3raav3eDwUi8Vod3eXxsbGiJlJURQSQlAoFOoa19f/ZHp6mvx+v3s/NDREGxsbfxdimiY9Pj7+WoCZYrEY6brePaCXnrR0eXkJwzDAzFhcXMTNzU3bbvBeCtD7aaVardLd3R1Vq1UaHR2l8fHx3/r3BelV/+Qg8QYPxM++hMxeeQAAAABJRU5ErkJggg==\" y=\"-29.277028\"/>\r\n   </g>\r\n   <g id=\"matplotlib.axis_3\">\r\n    <g id=\"xtick_2\">\r\n     <g id=\"line2d_5\">\r\n      <g>\r\n       <use style=\"stroke:#000000;stroke-width:0.8;\" x=\"41.071588\" xlink:href=\"#m034dcb9cfc\" y=\"54.277028\"/>\r\n      </g>\r\n     </g>\r\n    </g>\r\n   </g>\r\n   <g id=\"matplotlib.axis_4\">\r\n    <g id=\"ytick_2\">\r\n     <g id=\"line2d_6\">\r\n      <g>\r\n       <use style=\"stroke:#000000;stroke-width:0.8;\" x=\"40.626257\" xlink:href=\"#mcd130c91b7\" y=\"29.783812\"/>\r\n      </g>\r\n     </g>\r\n    </g>\r\n   </g>\r\n   <g id=\"line2d_7\">\r\n    <path clip-path=\"url(#pdf20d35e9d)\" d=\"M 40.626257 29.783812 \r\nL 65.564804 29.783812 \r\n\" style=\"fill:none;stroke:#1f77b4;stroke-linecap:square;stroke-width:1.5;\"/>\r\n   </g>\r\n   <g id=\"line2d_8\">\r\n    <path clip-path=\"url(#pdf20d35e9d)\" d=\"M 41.071588 54.277028 \r\nL 41.071588 29.33848 \r\n\" style=\"fill:none;stroke:#1f77b4;stroke-linecap:square;stroke-width:1.5;\"/>\r\n   </g>\r\n   <g id=\"patch_8\">\r\n    <path d=\"M 40.626257 54.277028 \r\nL 40.626257 29.33848 \r\n\" style=\"fill:none;stroke:#000000;stroke-linecap:square;stroke-linejoin:miter;stroke-width:0.8;\"/>\r\n   </g>\r\n   <g id=\"patch_9\">\r\n    <path d=\"M 65.564804 54.277028 \r\nL 65.564804 29.33848 \r\n\" style=\"fill:none;stroke:#000000;stroke-linecap:square;stroke-linejoin:miter;stroke-width:0.8;\"/>\r\n   </g>\r\n   <g id=\"patch_10\">\r\n    <path d=\"M 40.626257 54.277028 \r\nL 65.564804 54.277028 \r\n\" style=\"fill:none;stroke:#000000;stroke-linecap:square;stroke-linejoin:miter;stroke-width:0.8;\"/>\r\n   </g>\r\n   <g id=\"patch_11\">\r\n    <path d=\"M 40.626257 29.33848 \r\nL 65.564804 29.33848 \r\n\" style=\"fill:none;stroke:#000000;stroke-linecap:square;stroke-linejoin:miter;stroke-width:0.8;\"/>\r\n   </g>\r\n   <g id=\"text_2\">\r\n    <!-- 0 -->\r\n    <defs>\r\n     <path d=\"M 31.78125 66.40625 \r\nQ 24.171875 66.40625 20.328125 58.90625 \r\nQ 16.5 51.421875 16.5 36.375 \r\nQ 16.5 21.390625 20.328125 13.890625 \r\nQ 24.171875 6.390625 31.78125 6.390625 \r\nQ 39.453125 6.390625 43.28125 13.890625 \r\nQ 47.125 21.390625 47.125 36.375 \r\nQ 47.125 51.421875 43.28125 58.90625 \r\nQ 39.453125 66.40625 31.78125 66.40625 \r\nz\r\nM 31.78125 74.21875 \r\nQ 44.046875 74.21875 50.515625 64.515625 \r\nQ 56.984375 54.828125 56.984375 36.375 \r\nQ 56.984375 17.96875 50.515625 8.265625 \r\nQ 44.046875 -1.421875 31.78125 -1.421875 \r\nQ 19.53125 -1.421875 13.0625 8.265625 \r\nQ 6.59375 17.96875 6.59375 36.375 \r\nQ 6.59375 54.828125 13.0625 64.515625 \r\nQ 19.53125 74.21875 31.78125 74.21875 \r\nz\r\n\" id=\"DejaVuSans-48\"/>\r\n    </defs>\r\n    <g transform=\"translate(49.978212 20.877188)scale(0.18 -0.18)\">\r\n     <use xlink:href=\"#DejaVuSans-48\"/>\r\n    </g>\r\n   </g>\r\n  </g>\r\n  <g id=\"axes_3\">\r\n   <g id=\"patch_12\">\r\n    <path d=\"M 70.552514 54.277028 \r\nL 95.491061 54.277028 \r\nL 95.491061 29.33848 \r\nL 70.552514 29.33848 \r\nz\r\n\" style=\"fill:#ffffff;\"/>\r\n   </g>\r\n   <g clip-path=\"url(#pba5eb7eabe)\">\r\n    <image height=\"25\" id=\"image267a3f6af7\" transform=\"scale(1 -1)translate(0 -25)\" width=\"25\" x=\"70.552514\" xlink:href=\"data:image/png;base64,\r\niVBORw0KGgoAAAANSUhEUgAAABkAAAAZCAYAAADE6YVjAAAABHNCSVQICAgIfAhkiAAAAQhJREFUSInl1j2qg0AYheF3BjVJYeNfZZHG2sWkcjsuymUE7KwsFBQbSZlE8csWZrzXS+Ce/vCMeJRRIiIcHH008J3I+/2maRqqqmIYBrZtMyuKRaZpkqIoRGstZVnK8/k06hk/iYgwjiN1XQMwjiOmmzFGlFL4vk8URaYVewTAcRxOp9NxyLZttG3L/X4/DhER5nnm8XgchwBove+zsnrxcRyTJAkiYrwsKwTA8zzO57NNxQ4REfq+p+s6lFIopX4f+Un+KfInEw6CgDAMj0O01lyvV/I8ByAMQ+OFOTYnulwuZFnG6/Xidrvhuq5RT9lcJJZlYRgG1nUlTVPjP7IVsjffN+G9+QCj8LNkN44JrQAAAABJRU5ErkJggg==\" y=\"-29.277028\"/>\r\n   </g>\r\n   <g id=\"matplotlib.axis_5\">\r\n    <g id=\"xtick_3\">\r\n     <g id=\"line2d_9\">\r\n      <g>\r\n       <use style=\"stroke:#000000;stroke-width:0.8;\" x=\"70.997845\" xlink:href=\"#m034dcb9cfc\" y=\"54.277028\"/>\r\n      </g>\r\n     </g>\r\n    </g>\r\n   </g>\r\n   <g id=\"matplotlib.axis_6\">\r\n    <g id=\"ytick_3\">\r\n     <g id=\"line2d_10\">\r\n      <g>\r\n       <use style=\"stroke:#000000;stroke-width:0.8;\" x=\"70.552514\" xlink:href=\"#mcd130c91b7\" y=\"29.783812\"/>\r\n      </g>\r\n     </g>\r\n    </g>\r\n   </g>\r\n   <g id=\"line2d_11\">\r\n    <path clip-path=\"url(#pba5eb7eabe)\" d=\"M 70.552514 29.783812 \r\nL 95.491061 29.783812 \r\n\" style=\"fill:none;stroke:#1f77b4;stroke-linecap:square;stroke-width:1.5;\"/>\r\n   </g>\r\n   <g id=\"line2d_12\">\r\n    <path clip-path=\"url(#pba5eb7eabe)\" d=\"M 70.997845 54.277028 \r\nL 70.997845 29.33848 \r\n\" style=\"fill:none;stroke:#1f77b4;stroke-linecap:square;stroke-width:1.5;\"/>\r\n   </g>\r\n   <g id=\"patch_13\">\r\n    <path d=\"M 70.552514 54.277028 \r\nL 70.552514 29.33848 \r\n\" style=\"fill:none;stroke:#000000;stroke-linecap:square;stroke-linejoin:miter;stroke-width:0.8;\"/>\r\n   </g>\r\n   <g id=\"patch_14\">\r\n    <path d=\"M 95.491061 54.277028 \r\nL 95.491061 29.33848 \r\n\" style=\"fill:none;stroke:#000000;stroke-linecap:square;stroke-linejoin:miter;stroke-width:0.8;\"/>\r\n   </g>\r\n   <g id=\"patch_15\">\r\n    <path d=\"M 70.552514 54.277028 \r\nL 95.491061 54.277028 \r\n\" style=\"fill:none;stroke:#000000;stroke-linecap:square;stroke-linejoin:miter;stroke-width:0.8;\"/>\r\n   </g>\r\n   <g id=\"patch_16\">\r\n    <path d=\"M 70.552514 29.33848 \r\nL 95.491061 29.33848 \r\n\" style=\"fill:none;stroke:#000000;stroke-linecap:square;stroke-linejoin:miter;stroke-width:0.8;\"/>\r\n   </g>\r\n   <g id=\"text_3\">\r\n    <!-- 1 -->\r\n    <defs>\r\n     <path d=\"M 12.40625 8.296875 \r\nL 28.515625 8.296875 \r\nL 28.515625 63.921875 \r\nL 10.984375 60.40625 \r\nL 10.984375 69.390625 \r\nL 28.421875 72.90625 \r\nL 38.28125 72.90625 \r\nL 38.28125 8.296875 \r\nL 54.390625 8.296875 \r\nL 54.390625 0 \r\nL 12.40625 0 \r\nz\r\n\" id=\"DejaVuSans-49\"/>\r\n    </defs>\r\n    <g transform=\"translate(79.904469 20.877188)scale(0.18 -0.18)\">\r\n     <use xlink:href=\"#DejaVuSans-49\"/>\r\n    </g>\r\n   </g>\r\n  </g>\r\n  <g id=\"axes_4\">\r\n   <g id=\"patch_17\">\r\n    <path d=\"M 100.478771 54.277028 \r\nL 125.417318 54.277028 \r\nL 125.417318 29.33848 \r\nL 100.478771 29.33848 \r\nz\r\n\" style=\"fill:#ffffff;\"/>\r\n   </g>\r\n   <g clip-path=\"url(#pf10b05b563)\">\r\n    <image height=\"25\" id=\"image8739a98a15\" transform=\"scale(1 -1)translate(0 -25)\" width=\"25\" x=\"100.478771\" xlink:href=\"data:image/png;base64,\r\niVBORw0KGgoAAAANSUhEUgAAABkAAAAZCAYAAADE6YVjAAAABHNCSVQICAgIfAhkiAAAAgVJREFUSInllrHP6VAYxp9WS2MikRCToAODRAwWEiuDwcBosxj7B/gf7P4Hm0XEImG1ioRBSBoSVZKqnvdOt/f2fl+vuvdzl/skZzhv2+eXt8/p6eGIiPBm8e8G/IcQy7Jwv98dYzQaQdd1e26aJhhjnz4v/M788XhA13VMJhMMh0PHtfF4jFKpBEmSAAChUAidTgeZTAY+n89pRC4yTZOm0ykVCgWKxWLE87xjACCO4+y53++ner1Os9mMzuczMcZsL1fI8XikZDL5wdwNwvM8iaJI4XCYBoMBGYZhe7m+LsYYdF131FKpFJrNJmazGebz+acZXK9XGIbhPZNflc/noSgK2u02VquVa9C5XA6C8MP6Jch3ybIMWZY93++6hAOBACqViqO23+9xOBxcO3CVW/CWZdFisSCfz0ccxxHHcSRJErVaLdpsNo7V80yuECIiXdep1+uRJEk2SBAEqlarpKrq10CIiC6XCymK8mEJr9drz5Cn20owGES5XEY0GnXUV6sVLMv6u0x+1u12o2636+gkHo+Tpmlf0wkAiKKIWq2GRCJh1+73u7cu4HEXFgQBxWIR2WzWs/HLEMYYVFXF6XR6L2S73UJVVbvWaDQgiqI3ipfgGGOkaRr1+32KRCIEgJbLpecPkiPyflq53W7Y7XYwDAPpdNr+YT3TS5A/1T85SHwDIpyzEWxZlXQAAAAASUVORK5CYII=\" y=\"-29.277028\"/>\r\n   </g>\r\n   <g id=\"matplotlib.axis_7\">\r\n    <g id=\"xtick_4\">\r\n     <g id=\"line2d_13\">\r\n      <g>\r\n       <use style=\"stroke:#000000;stroke-width:0.8;\" x=\"100.924102\" xlink:href=\"#m034dcb9cfc\" y=\"54.277028\"/>\r\n      </g>\r\n     </g>\r\n    </g>\r\n   </g>\r\n   <g id=\"matplotlib.axis_8\">\r\n    <g id=\"ytick_4\">\r\n     <g id=\"line2d_14\">\r\n      <g>\r\n       <use style=\"stroke:#000000;stroke-width:0.8;\" x=\"100.478771\" xlink:href=\"#mcd130c91b7\" y=\"29.783812\"/>\r\n      </g>\r\n     </g>\r\n    </g>\r\n   </g>\r\n   <g id=\"line2d_15\">\r\n    <path clip-path=\"url(#pf10b05b563)\" d=\"M 100.478771 29.783812 \r\nL 125.417318 29.783812 \r\n\" style=\"fill:none;stroke:#1f77b4;stroke-linecap:square;stroke-width:1.5;\"/>\r\n   </g>\r\n   <g id=\"line2d_16\">\r\n    <path clip-path=\"url(#pf10b05b563)\" d=\"M 100.924102 54.277028 \r\nL 100.924102 29.33848 \r\n\" style=\"fill:none;stroke:#1f77b4;stroke-linecap:square;stroke-width:1.5;\"/>\r\n   </g>\r\n   <g id=\"patch_18\">\r\n    <path d=\"M 100.478771 54.277028 \r\nL 100.478771 29.33848 \r\n\" style=\"fill:none;stroke:#000000;stroke-linecap:square;stroke-linejoin:miter;stroke-width:0.8;\"/>\r\n   </g>\r\n   <g id=\"patch_19\">\r\n    <path d=\"M 125.417318 54.277028 \r\nL 125.417318 29.33848 \r\n\" style=\"fill:none;stroke:#000000;stroke-linecap:square;stroke-linejoin:miter;stroke-width:0.8;\"/>\r\n   </g>\r\n   <g id=\"patch_20\">\r\n    <path d=\"M 100.478771 54.277028 \r\nL 125.417318 54.277028 \r\n\" style=\"fill:none;stroke:#000000;stroke-linecap:square;stroke-linejoin:miter;stroke-width:0.8;\"/>\r\n   </g>\r\n   <g id=\"patch_21\">\r\n    <path d=\"M 100.478771 29.33848 \r\nL 125.417318 29.33848 \r\n\" style=\"fill:none;stroke:#000000;stroke-linecap:square;stroke-linejoin:miter;stroke-width:0.8;\"/>\r\n   </g>\r\n   <g id=\"text_4\">\r\n    <!-- 6 -->\r\n    <g transform=\"translate(109.830726 20.877188)scale(0.18 -0.18)\">\r\n     <use xlink:href=\"#DejaVuSans-54\"/>\r\n    </g>\r\n   </g>\r\n  </g>\r\n  <g id=\"axes_5\">\r\n   <g id=\"patch_22\">\r\n    <path d=\"M 130.405028 54.277028 \r\nL 155.343575 54.277028 \r\nL 155.343575 29.33848 \r\nL 130.405028 29.33848 \r\nz\r\n\" style=\"fill:#ffffff;\"/>\r\n   </g>\r\n   <g clip-path=\"url(#pbe416eba9f)\">\r\n    <image height=\"25\" id=\"imagea5aeb19f78\" transform=\"scale(1 -1)translate(0 -25)\" width=\"25\" x=\"130.405028\" xlink:href=\"data:image/png;base64,\r\niVBORw0KGgoAAAANSUhEUgAAABkAAAAZCAYAAADE6YVjAAAABHNCSVQICAgIfAhkiAAAAk1JREFUSIndlr1LK0EUxc9mPzAsssomRdJpkS4iYqMiJGCRpJSksIhisLKz8F8QFEHERitBBFMlZUqFFUyTaps0WghJoVi4JIxmiecVDx48SHai4iveLefOPb8Zzr2zq5AkfjhCPw0AAE22QQiBp6cndLtd6LqOaDSK8fFxqKo6OoWS2NvbYyKRIABalsX19XU+Pj7Kyv6KQEiz2aSmaVxcXOTx8TEzmQxt22axWOT9/T37/f73IRcXFzQMgycnJ+z1emy1Wjw8POTk5CRLpRKFECNBpJ4AQCQSga7riMfj2N7ehuu6KJfLME0TR0dHUn8+3V3hcBilUgmRSASnp6fgCBPwpRZeXl7G5uYmVFXF2tqaFBQICYfDA9cVRcHKygpisRiq1Spc1w0+VZBh7XabY2NjPDs7G5h3HIeGYbBQKAQaL50TXde5uro6tJOmp6dp2zZfXl6Gakg9IYnr62s4jjMwn8/n4XkeDg4OhmpIIRsbG3h9fcXl5eXA/NTUFHzfx+3t7dch+/v7+Pj4wPPz88D8/Py8TEIOmZiYwO7uLhqNBiqVCjzPw83NDTqdDgBgZmZGCpFOfCgUQqFQQL1ex87ODizLwsLCAubm5n4LaCM8GrLuIknf91mr1WiaJgEwmUzy4eGBQgh2u10C4NLS0tD6kSAk+f7+zqurK9q2TQCcnZ1lOp1mKpWioijMZrPfh5CkEILn5+dMJBLUNO3Prba2tlitVofWKeTnvvFvb29wXRd3d3cQQiCXyyGZTAbWfBrylfgnPxL/D+QXE0gh1F5kDOEAAAAASUVORK5CYII=\" y=\"-29.277028\"/>\r\n   </g>\r\n   <g id=\"matplotlib.axis_9\">\r\n    <g id=\"xtick_5\">\r\n     <g id=\"line2d_17\">\r\n      <g>\r\n       <use style=\"stroke:#000000;stroke-width:0.8;\" x=\"130.850359\" xlink:href=\"#m034dcb9cfc\" y=\"54.277028\"/>\r\n      </g>\r\n     </g>\r\n    </g>\r\n   </g>\r\n   <g id=\"matplotlib.axis_10\">\r\n    <g id=\"ytick_5\">\r\n     <g id=\"line2d_18\">\r\n      <g>\r\n       <use style=\"stroke:#000000;stroke-width:0.8;\" x=\"130.405028\" xlink:href=\"#mcd130c91b7\" y=\"29.783812\"/>\r\n      </g>\r\n     </g>\r\n    </g>\r\n   </g>\r\n   <g id=\"line2d_19\">\r\n    <path clip-path=\"url(#pbe416eba9f)\" d=\"M 130.405028 29.783812 \r\nL 155.343575 29.783812 \r\n\" style=\"fill:none;stroke:#1f77b4;stroke-linecap:square;stroke-width:1.5;\"/>\r\n   </g>\r\n   <g id=\"line2d_20\">\r\n    <path clip-path=\"url(#pbe416eba9f)\" d=\"M 130.850359 54.277028 \r\nL 130.850359 29.33848 \r\n\" style=\"fill:none;stroke:#1f77b4;stroke-linecap:square;stroke-width:1.5;\"/>\r\n   </g>\r\n   <g id=\"patch_23\">\r\n    <path d=\"M 130.405028 54.277028 \r\nL 130.405028 29.33848 \r\n\" style=\"fill:none;stroke:#000000;stroke-linecap:square;stroke-linejoin:miter;stroke-width:0.8;\"/>\r\n   </g>\r\n   <g id=\"patch_24\">\r\n    <path d=\"M 155.343575 54.277028 \r\nL 155.343575 29.33848 \r\n\" style=\"fill:none;stroke:#000000;stroke-linecap:square;stroke-linejoin:miter;stroke-width:0.8;\"/>\r\n   </g>\r\n   <g id=\"patch_25\">\r\n    <path d=\"M 130.405028 54.277028 \r\nL 155.343575 54.277028 \r\n\" style=\"fill:none;stroke:#000000;stroke-linecap:square;stroke-linejoin:miter;stroke-width:0.8;\"/>\r\n   </g>\r\n   <g id=\"patch_26\">\r\n    <path d=\"M 130.405028 29.33848 \r\nL 155.343575 29.33848 \r\n\" style=\"fill:none;stroke:#000000;stroke-linecap:square;stroke-linejoin:miter;stroke-width:0.8;\"/>\r\n   </g>\r\n   <g id=\"text_5\">\r\n    <!-- 0 -->\r\n    <g transform=\"translate(139.756983 20.877188)scale(0.18 -0.18)\">\r\n     <use xlink:href=\"#DejaVuSans-48\"/>\r\n    </g>\r\n   </g>\r\n  </g>\r\n  <g id=\"axes_6\">\r\n   <g id=\"patch_27\">\r\n    <path d=\"M 160.331285 54.277028 \r\nL 185.269832 54.277028 \r\nL 185.269832 29.33848 \r\nL 160.331285 29.33848 \r\nz\r\n\" style=\"fill:#ffffff;\"/>\r\n   </g>\r\n   <g clip-path=\"url(#pea57ab6f5a)\">\r\n    <image height=\"25\" id=\"image21aa1699aa\" transform=\"scale(1 -1)translate(0 -25)\" width=\"25\" x=\"160.331285\" xlink:href=\"data:image/png;base64,\r\niVBORw0KGgoAAAANSUhEUgAAABkAAAAZCAYAAADE6YVjAAAABHNCSVQICAgIfAhkiAAAAilJREFUSIntlb1LanEYx79HT2Q6JBjiCRx8IZrkRKPgv+ASugj+BYZToJMgiEtbU7W5u+gUFdQmilsUKnJUEBE6YHU8b3KephvF5R6Pt7zT/Y6/5+XDw/PyY4iIsGaxVh0Nw8B8PofNZsPW1hYYhrEMsVl1lCQJuVwOxWIRiqJYBqwEcTgc4HkevV4Ps9lsPRCWZREOh9Hr9fD8/LweCMMw8Pv92NnZQavVgqZpPw8BAJ/PB57ncX19DVmW1wPZ3NxENBrF09MTxuMxrE6/ZQgRwW634/DwEB6PB/V6Hbqu/wzk7e0NgiDg/v4eoijC7XYjEong9PQUo9HIUjWmyyjLMlKpFB4fH+F2u6GqKuLxOA4ODlCr1XB+fo5SqQS73W4KYczOynQ6xf7+Pi4uLhCLxdBoNNBsNjEcDnF7ewtVVdFut7G7u2teCplI0zQ6Ojqi4+NjUlWViIh0Xadut0snJyfEcRxlMpkP259kCiEienh4oGAwSHd3d2QYxsf7y8sLXV1dEcdxNJlMvgfRdZ0KhQIlEgl6fX39zeb1emkwGJjmWDpdLMsim83C5XKhWq1+sSmKgsVisSyFtT1xOp2IRqO4ubn5chyz2SySyeT3Gv9ZoihSOp2mcrlMkiRRp9Ohvb096vf7S2NNR/izDMPAaDTC2dkZAoEAarUatre3UalUsLGxYRprGfJL4/EYl5eXEAQB+XweoVBo6S+5MuRvtNIV/g/5J5B36oAaLFxFocIAAAAASUVORK5CYII=\" y=\"-29.277028\"/>\r\n   </g>\r\n   <g id=\"matplotlib.axis_11\">\r\n    <g id=\"xtick_6\">\r\n     <g id=\"line2d_21\">\r\n      <g>\r\n       <use style=\"stroke:#000000;stroke-width:0.8;\" x=\"160.776616\" xlink:href=\"#m034dcb9cfc\" y=\"54.277028\"/>\r\n      </g>\r\n     </g>\r\n    </g>\r\n   </g>\r\n   <g id=\"matplotlib.axis_12\">\r\n    <g id=\"ytick_6\">\r\n     <g id=\"line2d_22\">\r\n      <g>\r\n       <use style=\"stroke:#000000;stroke-width:0.8;\" x=\"160.331285\" xlink:href=\"#mcd130c91b7\" y=\"29.783812\"/>\r\n      </g>\r\n     </g>\r\n    </g>\r\n   </g>\r\n   <g id=\"line2d_23\">\r\n    <path clip-path=\"url(#pea57ab6f5a)\" d=\"M 160.331285 29.783812 \r\nL 185.269832 29.783812 \r\n\" style=\"fill:none;stroke:#1f77b4;stroke-linecap:square;stroke-width:1.5;\"/>\r\n   </g>\r\n   <g id=\"line2d_24\">\r\n    <path clip-path=\"url(#pea57ab6f5a)\" d=\"M 160.776616 54.277028 \r\nL 160.776616 29.33848 \r\n\" style=\"fill:none;stroke:#1f77b4;stroke-linecap:square;stroke-width:1.5;\"/>\r\n   </g>\r\n   <g id=\"patch_28\">\r\n    <path d=\"M 160.331285 54.277028 \r\nL 160.331285 29.33848 \r\n\" style=\"fill:none;stroke:#000000;stroke-linecap:square;stroke-linejoin:miter;stroke-width:0.8;\"/>\r\n   </g>\r\n   <g id=\"patch_29\">\r\n    <path d=\"M 185.269832 54.277028 \r\nL 185.269832 29.33848 \r\n\" style=\"fill:none;stroke:#000000;stroke-linecap:square;stroke-linejoin:miter;stroke-width:0.8;\"/>\r\n   </g>\r\n   <g id=\"patch_30\">\r\n    <path d=\"M 160.331285 54.277028 \r\nL 185.269832 54.277028 \r\n\" style=\"fill:none;stroke:#000000;stroke-linecap:square;stroke-linejoin:miter;stroke-width:0.8;\"/>\r\n   </g>\r\n   <g id=\"patch_31\">\r\n    <path d=\"M 160.331285 29.33848 \r\nL 185.269832 29.33848 \r\n\" style=\"fill:none;stroke:#000000;stroke-linecap:square;stroke-linejoin:miter;stroke-width:0.8;\"/>\r\n   </g>\r\n   <g id=\"text_6\">\r\n    <!-- 9 -->\r\n    <defs>\r\n     <path d=\"M 10.984375 1.515625 \r\nL 10.984375 10.5 \r\nQ 14.703125 8.734375 18.5 7.8125 \r\nQ 22.3125 6.890625 25.984375 6.890625 \r\nQ 35.75 6.890625 40.890625 13.453125 \r\nQ 46.046875 20.015625 46.78125 33.40625 \r\nQ 43.953125 29.203125 39.59375 26.953125 \r\nQ 35.25 24.703125 29.984375 24.703125 \r\nQ 19.046875 24.703125 12.671875 31.3125 \r\nQ 6.296875 37.9375 6.296875 49.421875 \r\nQ 6.296875 60.640625 12.9375 67.421875 \r\nQ 19.578125 74.21875 30.609375 74.21875 \r\nQ 43.265625 74.21875 49.921875 64.515625 \r\nQ 56.59375 54.828125 56.59375 36.375 \r\nQ 56.59375 19.140625 48.40625 8.859375 \r\nQ 40.234375 -1.421875 26.421875 -1.421875 \r\nQ 22.703125 -1.421875 18.890625 -0.6875 \r\nQ 15.09375 0.046875 10.984375 1.515625 \r\nz\r\nM 30.609375 32.421875 \r\nQ 37.25 32.421875 41.125 36.953125 \r\nQ 45.015625 41.5 45.015625 49.421875 \r\nQ 45.015625 57.28125 41.125 61.84375 \r\nQ 37.25 66.40625 30.609375 66.40625 \r\nQ 23.96875 66.40625 20.09375 61.84375 \r\nQ 16.21875 57.28125 16.21875 49.421875 \r\nQ 16.21875 41.5 20.09375 36.953125 \r\nQ 23.96875 32.421875 30.609375 32.421875 \r\nz\r\n\" id=\"DejaVuSans-57\"/>\r\n    </defs>\r\n    <g transform=\"translate(169.68324 20.877188)scale(0.18 -0.18)\">\r\n     <use xlink:href=\"#DejaVuSans-57\"/>\r\n    </g>\r\n   </g>\r\n  </g>\r\n  <g id=\"axes_7\">\r\n   <g id=\"patch_32\">\r\n    <path d=\"M 190.257542 54.277028 \r\nL 215.196089 54.277028 \r\nL 215.196089 29.33848 \r\nL 190.257542 29.33848 \r\nz\r\n\" style=\"fill:#ffffff;\"/>\r\n   </g>\r\n   <g clip-path=\"url(#pd0ffe172c0)\">\r\n    <image height=\"25\" id=\"image4f18cc13c1\" transform=\"scale(1 -1)translate(0 -25)\" width=\"25\" x=\"190.257542\" xlink:href=\"data:image/png;base64,\r\niVBORw0KGgoAAAANSUhEUgAAABkAAAAZCAYAAADE6YVjAAAABHNCSVQICAgIfAhkiAAAAUBJREFUSInl1k+KwjAYh+E3gYpLKfUCLsSNGyvqYbyAK69iL1FP4QHEGwiuTAWhSEFJVNTPxcAwu2mkhYH5doGEJ39+CVEiItRcum7ACxERLpcLxhiu12s9yPl8ZrFYMJvNOBwO1SMiwn6/J0kS8jz3ArwQ5xyn04nj8YgxhsfjUS3ys4wxrNfrepHn84lzDp/kl0K01nQ6HabTqe+cyiMAjUaDdrsNgLWW1+tVPaKUotlsorUmTVOvlHmtZDQaEUURWZZxu92qR4IgoNvtEoYhAEVRlN6yj9+uNE253+/1Isvlks1mUyrKXkgURcRxDECe5+x2u+qRMAwZDAbf7VrORCnFeDym1+uhlCo9zhsZDofM53NarRbW2uq3C76i3O/3mUwmrFarcvdFPihrrWy3W0mSRJxzv/ZX/+8j8eeRNxKG6+WAXWaDAAAAAElFTkSuQmCC\" y=\"-29.277028\"/>\r\n   </g>\r\n   <g id=\"matplotlib.axis_13\">\r\n    <g id=\"xtick_7\">\r\n     <g id=\"line2d_25\">\r\n      <g>\r\n       <use style=\"stroke:#000000;stroke-width:0.8;\" x=\"190.702873\" xlink:href=\"#m034dcb9cfc\" y=\"54.277028\"/>\r\n      </g>\r\n     </g>\r\n    </g>\r\n   </g>\r\n   <g id=\"matplotlib.axis_14\">\r\n    <g id=\"ytick_7\">\r\n     <g id=\"line2d_26\">\r\n      <g>\r\n       <use style=\"stroke:#000000;stroke-width:0.8;\" x=\"190.257542\" xlink:href=\"#mcd130c91b7\" y=\"29.783812\"/>\r\n      </g>\r\n     </g>\r\n    </g>\r\n   </g>\r\n   <g id=\"line2d_27\">\r\n    <path clip-path=\"url(#pd0ffe172c0)\" d=\"M 190.257542 29.783812 \r\nL 215.196089 29.783812 \r\n\" style=\"fill:none;stroke:#1f77b4;stroke-linecap:square;stroke-width:1.5;\"/>\r\n   </g>\r\n   <g id=\"line2d_28\">\r\n    <path clip-path=\"url(#pd0ffe172c0)\" d=\"M 190.702873 54.277028 \r\nL 190.702873 29.33848 \r\n\" style=\"fill:none;stroke:#1f77b4;stroke-linecap:square;stroke-width:1.5;\"/>\r\n   </g>\r\n   <g id=\"patch_33\">\r\n    <path d=\"M 190.257542 54.277028 \r\nL 190.257542 29.33848 \r\n\" style=\"fill:none;stroke:#000000;stroke-linecap:square;stroke-linejoin:miter;stroke-width:0.8;\"/>\r\n   </g>\r\n   <g id=\"patch_34\">\r\n    <path d=\"M 215.196089 54.277028 \r\nL 215.196089 29.33848 \r\n\" style=\"fill:none;stroke:#000000;stroke-linecap:square;stroke-linejoin:miter;stroke-width:0.8;\"/>\r\n   </g>\r\n   <g id=\"patch_35\">\r\n    <path d=\"M 190.257542 54.277028 \r\nL 215.196089 54.277028 \r\n\" style=\"fill:none;stroke:#000000;stroke-linecap:square;stroke-linejoin:miter;stroke-width:0.8;\"/>\r\n   </g>\r\n   <g id=\"patch_36\">\r\n    <path d=\"M 190.257542 29.33848 \r\nL 215.196089 29.33848 \r\n\" style=\"fill:none;stroke:#000000;stroke-linecap:square;stroke-linejoin:miter;stroke-width:0.8;\"/>\r\n   </g>\r\n   <g id=\"text_7\">\r\n    <!-- 1 -->\r\n    <g transform=\"translate(199.609497 20.877188)scale(0.18 -0.18)\">\r\n     <use xlink:href=\"#DejaVuSans-49\"/>\r\n    </g>\r\n   </g>\r\n  </g>\r\n  <g id=\"axes_8\">\r\n   <g id=\"patch_37\">\r\n    <path d=\"M 220.183799 54.277028 \r\nL 245.122346 54.277028 \r\nL 245.122346 29.33848 \r\nL 220.183799 29.33848 \r\nz\r\n\" style=\"fill:#ffffff;\"/>\r\n   </g>\r\n   <g clip-path=\"url(#p3cfe804e37)\">\r\n    <image height=\"25\" id=\"image2c168977b3\" transform=\"scale(1 -1)translate(0 -25)\" width=\"25\" x=\"220.183799\" xlink:href=\"data:image/png;base64,\r\niVBORw0KGgoAAAANSUhEUgAAABkAAAAZCAYAAADE6YVjAAAABHNCSVQICAgIfAhkiAAAArNJREFUSIndlr1LI1EUxc98ZRIQg5nOpAmiaGeVIkJASFDRwkbBJgSxsjCN+FGaVsTSwsq/QbEQTONEsFGbAUUh4jQiiZqYTEKS8Wzjyi46+RDcYk/77rm/y7v38p5AkvhhiT8NAAC5VUCpVEKxWEShUIAgCOju7obP54OqqhAEoT0KmyiXy3FlZYUjIyOUJImKojAcDnNzc5OGYbDRaDSzf6gpZG1tjYqiMBqNcmNjg8vLyxwbG2NPTw/D4TB1XWc+n/8+5OHhgcFgkOPj48xms6xUKnx9feX9/T0zmQzj8TiHh4e5urr6fYhhGNQ0jbu7u3x7e/vrzLZt3t7ecmZmhpqmMZ1Of4r5U47TxffJ9nq9nxosiiKCwSBmZ2dRLpexsLCAfD7v2PeWI2zb9tdGUcT09DTW19dhmiaSyeRHYW1D3q8SmUzGsQBZlpFIJKAoCgzDQC6X6wzi8XigqiqOjo5Qq9UcQYFAAPF4HMViEaZpdgbx+/3o7e3F4+Mjbm5uHCGCIGBubg6y7LzXjhC3242BgQGUy2UcHBw4JgAAVVVhWZZjMU0bv7i4CLfbjdPTU1iW5RhXKpXw8vKC6+vrziGhUAiJRAK6rmN7exv1eh22bePy8hJPT08giXq9jsPDQ/h8PkQika8TtdrW/f19+v1+9vf3U9d1Xl1dMRaL8eLigrZt8+7ujl1dXRwaGmI2m+1s43+r0Wjw+PiYsixzcnKSW1tb7Ovr497eHs/Pzzk4OEiXy8WlpSXHrW8JIclqtcpUKkWPx0NRFClJEiVJoiiKdLlcnJiYoGVZjv62ICT5/PzM+fl5appGWZY/IFNTU6xWq029bUNIslAocGdnh9FolF6vl5FIhGdnZy19AtnZG1+r1WCaJk5OTjA6OopAIABJkpp6OoZ8R//kI/H/QH4B42+DwyW7ryoAAAAASUVORK5CYII=\" y=\"-29.277028\"/>\r\n   </g>\r\n   <g id=\"matplotlib.axis_15\">\r\n    <g id=\"xtick_8\">\r\n     <g id=\"line2d_29\">\r\n      <g>\r\n       <use style=\"stroke:#000000;stroke-width:0.8;\" x=\"220.62913\" xlink:href=\"#m034dcb9cfc\" y=\"54.277028\"/>\r\n      </g>\r\n     </g>\r\n    </g>\r\n   </g>\r\n   <g id=\"matplotlib.axis_16\">\r\n    <g id=\"ytick_8\">\r\n     <g id=\"line2d_30\">\r\n      <g>\r\n       <use style=\"stroke:#000000;stroke-width:0.8;\" x=\"220.183799\" xlink:href=\"#mcd130c91b7\" y=\"29.783812\"/>\r\n      </g>\r\n     </g>\r\n    </g>\r\n   </g>\r\n   <g id=\"line2d_31\">\r\n    <path clip-path=\"url(#p3cfe804e37)\" d=\"M 220.183799 29.783812 \r\nL 245.122346 29.783812 \r\n\" style=\"fill:none;stroke:#1f77b4;stroke-linecap:square;stroke-width:1.5;\"/>\r\n   </g>\r\n   <g id=\"line2d_32\">\r\n    <path clip-path=\"url(#p3cfe804e37)\" d=\"M 220.62913 54.277028 \r\nL 220.62913 29.33848 \r\n\" style=\"fill:none;stroke:#1f77b4;stroke-linecap:square;stroke-width:1.5;\"/>\r\n   </g>\r\n   <g id=\"patch_38\">\r\n    <path d=\"M 220.183799 54.277028 \r\nL 220.183799 29.33848 \r\n\" style=\"fill:none;stroke:#000000;stroke-linecap:square;stroke-linejoin:miter;stroke-width:0.8;\"/>\r\n   </g>\r\n   <g id=\"patch_39\">\r\n    <path d=\"M 245.122346 54.277028 \r\nL 245.122346 29.33848 \r\n\" style=\"fill:none;stroke:#000000;stroke-linecap:square;stroke-linejoin:miter;stroke-width:0.8;\"/>\r\n   </g>\r\n   <g id=\"patch_40\">\r\n    <path d=\"M 220.183799 54.277028 \r\nL 245.122346 54.277028 \r\n\" style=\"fill:none;stroke:#000000;stroke-linecap:square;stroke-linejoin:miter;stroke-width:0.8;\"/>\r\n   </g>\r\n   <g id=\"patch_41\">\r\n    <path d=\"M 220.183799 29.33848 \r\nL 245.122346 29.33848 \r\n\" style=\"fill:none;stroke:#000000;stroke-linecap:square;stroke-linejoin:miter;stroke-width:0.8;\"/>\r\n   </g>\r\n   <g id=\"text_8\">\r\n    <!-- 0 -->\r\n    <g transform=\"translate(229.535754 20.877188)scale(0.18 -0.18)\">\r\n     <use xlink:href=\"#DejaVuSans-48\"/>\r\n    </g>\r\n   </g>\r\n  </g>\r\n  <g id=\"axes_9\">\r\n   <g id=\"patch_42\">\r\n    <path d=\"M 250.110056 54.277028 \r\nL 275.048603 54.277028 \r\nL 275.048603 29.33848 \r\nL 250.110056 29.33848 \r\nz\r\n\" style=\"fill:#ffffff;\"/>\r\n   </g>\r\n   <g clip-path=\"url(#paba046ad39)\">\r\n    <image height=\"25\" id=\"image4bb8e5a455\" transform=\"scale(1 -1)translate(0 -25)\" width=\"25\" x=\"250.110056\" xlink:href=\"data:image/png;base64,\r\niVBORw0KGgoAAAANSUhEUgAAABkAAAAZCAYAAADE6YVjAAAABHNCSVQICAgIfAhkiAAAAvhJREFUSIndlj1La0sYhdfsmSQ7kkjUiAoaNYWk0cZGiEhMEwtBME0aCxXFz0L0Z1gLWltY+AssBSUqQRCrQFQIigTZMbBDvrZZpzjXwEF3PMfLucVdMM28DM+8H7MYQZL4y9L+NgAAlF2gWq0in8/DMAzouo729nZIKaHrOpSyPfa5aKNkMsnp6WlqmsZAIMClpSXu7Ozw7OyMr6+vtCzL7ugHCbuezM/PI5VKQUqJdDqNUqkEIQSGh4cRDocRjUYxMTEBv98PIcT3MpmZmeH5+TkzmQyPj4+5u7vLcDhMIQSllOzu7ubs7Cxvb2+/zMQWkk6nWSqVSJLVapWlUonpdJrLy8vs6emhUopSSk5OTrJSqXwPUq/XP90rl8t8fn5mIpGgUopKKW5tbX0PYlkWa7UaLcvi29vbh3ihUGAsFqOmaezq6uL9/b0txPadRKNReL1ejI+P4/DwENlsFsViEZVKBbVaDW63G8FgEEIIFItF3Nzc2Pa96Tspl8u4uLjA5eUl2traMDAwgKmpKfT29gIArq+vQRJKKfj9/j+frrm5OUopKYSgw+Ggx+OhEOLDklIyHo+zXC7/eU+Ojo7o8XioaRrHxsa4t7fHRCLBYDBIn89Hn8/Hvr4+bm5uMpPJ2AJI0rZcnZ2dUEpBCIFQKITFxUXE43HkcjkUi0UAgK7rGBwcRGtrq32pmpXLNE0eHBxQSslQKMRsNtv0ts1kCyHJTCbDjo4OOp1Orqys0DTNb0FsveufLLG2tob9/X24XC4EAgF4vd5GfGFhAaOjo3C5XBgZGWl42Acv++oWpmkyEol8Olnvy+l0MhKJcHV1lVdXVywUCr84xpeQer3O09NTDg0NsaWlhR6Pp2EnSilqmvYLUNd1bm9v8+XlpeEUTcv1LsuykEqlcHJyArfbjcfHx0bs7u4OT09PAIB8Po+Hhwc4HA6sr69jY2MD/f39+C1IM+VyORiGAQAwDAPJZBK1Wg0AEIvFfvbq30J+R//JR+L/A/kBH8gJxyvssO8AAAAASUVORK5CYII=\" y=\"-29.277028\"/>\r\n   </g>\r\n   <g id=\"matplotlib.axis_17\">\r\n    <g id=\"xtick_9\">\r\n     <g id=\"line2d_33\">\r\n      <g>\r\n       <use style=\"stroke:#000000;stroke-width:0.8;\" x=\"250.555387\" xlink:href=\"#m034dcb9cfc\" y=\"54.277028\"/>\r\n      </g>\r\n     </g>\r\n    </g>\r\n   </g>\r\n   <g id=\"matplotlib.axis_18\">\r\n    <g id=\"ytick_9\">\r\n     <g id=\"line2d_34\">\r\n      <g>\r\n       <use style=\"stroke:#000000;stroke-width:0.8;\" x=\"250.110056\" xlink:href=\"#mcd130c91b7\" y=\"29.783812\"/>\r\n      </g>\r\n     </g>\r\n    </g>\r\n   </g>\r\n   <g id=\"line2d_35\">\r\n    <path clip-path=\"url(#paba046ad39)\" d=\"M 250.110056 29.783812 \r\nL 275.048603 29.783812 \r\n\" style=\"fill:none;stroke:#1f77b4;stroke-linecap:square;stroke-width:1.5;\"/>\r\n   </g>\r\n   <g id=\"line2d_36\">\r\n    <path clip-path=\"url(#paba046ad39)\" d=\"M 250.555387 54.277028 \r\nL 250.555387 29.33848 \r\n\" style=\"fill:none;stroke:#1f77b4;stroke-linecap:square;stroke-width:1.5;\"/>\r\n   </g>\r\n   <g id=\"patch_43\">\r\n    <path d=\"M 250.110056 54.277028 \r\nL 250.110056 29.33848 \r\n\" style=\"fill:none;stroke:#000000;stroke-linecap:square;stroke-linejoin:miter;stroke-width:0.8;\"/>\r\n   </g>\r\n   <g id=\"patch_44\">\r\n    <path d=\"M 275.048603 54.277028 \r\nL 275.048603 29.33848 \r\n\" style=\"fill:none;stroke:#000000;stroke-linecap:square;stroke-linejoin:miter;stroke-width:0.8;\"/>\r\n   </g>\r\n   <g id=\"patch_45\">\r\n    <path d=\"M 250.110056 54.277028 \r\nL 275.048603 54.277028 \r\n\" style=\"fill:none;stroke:#000000;stroke-linecap:square;stroke-linejoin:miter;stroke-width:0.8;\"/>\r\n   </g>\r\n   <g id=\"patch_46\">\r\n    <path d=\"M 250.110056 29.33848 \r\nL 275.048603 29.33848 \r\n\" style=\"fill:none;stroke:#000000;stroke-linecap:square;stroke-linejoin:miter;stroke-width:0.8;\"/>\r\n   </g>\r\n   <g id=\"text_9\">\r\n    <!-- 5 -->\r\n    <defs>\r\n     <path d=\"M 10.796875 72.90625 \r\nL 49.515625 72.90625 \r\nL 49.515625 64.59375 \r\nL 19.828125 64.59375 \r\nL 19.828125 46.734375 \r\nQ 21.96875 47.46875 24.109375 47.828125 \r\nQ 26.265625 48.1875 28.421875 48.1875 \r\nQ 40.625 48.1875 47.75 41.5 \r\nQ 54.890625 34.8125 54.890625 23.390625 \r\nQ 54.890625 11.625 47.5625 5.09375 \r\nQ 40.234375 -1.421875 26.90625 -1.421875 \r\nQ 22.3125 -1.421875 17.546875 -0.640625 \r\nQ 12.796875 0.140625 7.71875 1.703125 \r\nL 7.71875 11.625 \r\nQ 12.109375 9.234375 16.796875 8.0625 \r\nQ 21.484375 6.890625 26.703125 6.890625 \r\nQ 35.15625 6.890625 40.078125 11.328125 \r\nQ 45.015625 15.765625 45.015625 23.390625 \r\nQ 45.015625 31 40.078125 35.4375 \r\nQ 35.15625 39.890625 26.703125 39.890625 \r\nQ 22.75 39.890625 18.8125 39.015625 \r\nQ 14.890625 38.140625 10.796875 36.28125 \r\nz\r\n\" id=\"DejaVuSans-53\"/>\r\n    </defs>\r\n    <g transform=\"translate(259.462011 20.877188)scale(0.18 -0.18)\">\r\n     <use xlink:href=\"#DejaVuSans-53\"/>\r\n    </g>\r\n   </g>\r\n  </g>\r\n  <g id=\"axes_10\">\r\n   <g id=\"patch_47\">\r\n    <path d=\"M 280.036313 54.277028 \r\nL 304.97486 54.277028 \r\nL 304.97486 29.33848 \r\nL 280.036313 29.33848 \r\nz\r\n\" style=\"fill:#ffffff;\"/>\r\n   </g>\r\n   <g clip-path=\"url(#p99f5b0f483)\">\r\n    <image height=\"25\" id=\"image2c62057b12\" transform=\"scale(1 -1)translate(0 -25)\" width=\"25\" x=\"280.036313\" xlink:href=\"data:image/png;base64,\r\niVBORw0KGgoAAAANSUhEUgAAABkAAAAZCAYAAADE6YVjAAAABHNCSVQICAgIfAhkiAAAAllJREFUSInt1b9LclEYwPHjPdcjXAzzRw0SQbVoiw0NTY3hEC0tzYG7i9NtD6NZqD8gCBqjBMGgySYpAgkkdFX6edXU9H7fQRAa0jTfd3qf8fzgc3iec57jABB/OfRhC5rNpmg0GsLlcgnDMITD4RgZ0YYtODk5EXNzcyIej4v39/eRgR8hMzMzot1ui/Pzc3F5eSm63e7kkbW1NbGxsSHe3t5EOp0W1WpVjFxGhoRt2xQKBaanp/H7/SQSCZ6enoZt+xJDEYBarcbq6ipSSoLBIPl8fvJIt9vl9vaWxcVFdF1nb2+Per0+WQSg0WhweHiI2+1mamqKq6srOp3OZBEAy7IwTRPDMAiFQjw8PGDb9u+QTqfz5bStVotMJsPy8jKaprG7u4tlWeMj9Xqdi4sLrq+vaTab/fGPjw8ODg7wer1IKUkmk+Mj9/f3BAIB5ufnSaVS1Gq1/lylUmFnZwelFLOzs5TL5fGQl5cXlpaWkFLi8/mIxWKk02na7Ta2bXN3d0coFMLpdLK9vT0QGliT4+NjAoEAUkqcTifRaJTHx0egV6/9/X2UUng8Hs7Ozr69BAORVqtFoVAgHA4jpcTj8ZBMJvtv5PX1lWg0iq7rhMNhstns6Aj0HuLNzQ0+nw8pJW63G9M0eX5+JpVKYRhGP6VHR0fjIdBLTS6XIxKJoJRC0zQ0TUNKiZQSr9fLwsLC7xDoNcpiscjm5iZKKfx+PysrK6yvr5PL5SiVSt82Tgf8vG9/fn6KfD4vTk9PRSQSEVtbW0IpJQzDGLhvJGTcGPpp/Uf+OfIHC5PpXsqfGPYAAAAASUVORK5CYII=\" y=\"-29.277028\"/>\r\n   </g>\r\n   <g id=\"matplotlib.axis_19\">\r\n    <g id=\"xtick_10\">\r\n     <g id=\"line2d_37\">\r\n      <g>\r\n       <use style=\"stroke:#000000;stroke-width:0.8;\" x=\"280.481644\" xlink:href=\"#m034dcb9cfc\" y=\"54.277028\"/>\r\n      </g>\r\n     </g>\r\n    </g>\r\n   </g>\r\n   <g id=\"matplotlib.axis_20\">\r\n    <g id=\"ytick_10\">\r\n     <g id=\"line2d_38\">\r\n      <g>\r\n       <use style=\"stroke:#000000;stroke-width:0.8;\" x=\"280.036313\" xlink:href=\"#mcd130c91b7\" y=\"29.783812\"/>\r\n      </g>\r\n     </g>\r\n    </g>\r\n   </g>\r\n   <g id=\"line2d_39\">\r\n    <path clip-path=\"url(#p99f5b0f483)\" d=\"M 280.036313 29.783812 \r\nL 304.97486 29.783812 \r\n\" style=\"fill:none;stroke:#1f77b4;stroke-linecap:square;stroke-width:1.5;\"/>\r\n   </g>\r\n   <g id=\"line2d_40\">\r\n    <path clip-path=\"url(#p99f5b0f483)\" d=\"M 280.481644 54.277028 \r\nL 280.481644 29.33848 \r\n\" style=\"fill:none;stroke:#1f77b4;stroke-linecap:square;stroke-width:1.5;\"/>\r\n   </g>\r\n   <g id=\"patch_48\">\r\n    <path d=\"M 280.036313 54.277028 \r\nL 280.036313 29.33848 \r\n\" style=\"fill:none;stroke:#000000;stroke-linecap:square;stroke-linejoin:miter;stroke-width:0.8;\"/>\r\n   </g>\r\n   <g id=\"patch_49\">\r\n    <path d=\"M 304.97486 54.277028 \r\nL 304.97486 29.33848 \r\n\" style=\"fill:none;stroke:#000000;stroke-linecap:square;stroke-linejoin:miter;stroke-width:0.8;\"/>\r\n   </g>\r\n   <g id=\"patch_50\">\r\n    <path d=\"M 280.036313 54.277028 \r\nL 304.97486 54.277028 \r\n\" style=\"fill:none;stroke:#000000;stroke-linecap:square;stroke-linejoin:miter;stroke-width:0.8;\"/>\r\n   </g>\r\n   <g id=\"patch_51\">\r\n    <path d=\"M 280.036313 29.33848 \r\nL 304.97486 29.33848 \r\n\" style=\"fill:none;stroke:#000000;stroke-linecap:square;stroke-linejoin:miter;stroke-width:0.8;\"/>\r\n   </g>\r\n   <g id=\"text_10\">\r\n    <!-- 7 -->\r\n    <defs>\r\n     <path d=\"M 8.203125 72.90625 \r\nL 55.078125 72.90625 \r\nL 55.078125 68.703125 \r\nL 28.609375 0 \r\nL 18.3125 0 \r\nL 43.21875 64.59375 \r\nL 8.203125 64.59375 \r\nz\r\n\" id=\"DejaVuSans-55\"/>\r\n    </defs>\r\n    <g transform=\"translate(289.388268 20.877188)scale(0.18 -0.18)\">\r\n     <use xlink:href=\"#DejaVuSans-55\"/>\r\n    </g>\r\n   </g>\r\n  </g>\r\n  <g id=\"axes_11\">\r\n   <g id=\"patch_52\">\r\n    <path d=\"M 309.96257 54.277028 \r\nL 334.901117 54.277028 \r\nL 334.901117 29.33848 \r\nL 309.96257 29.33848 \r\nz\r\n\" style=\"fill:#ffffff;\"/>\r\n   </g>\r\n   <g clip-path=\"url(#p62d79f46b5)\">\r\n    <image height=\"25\" id=\"image4b7dc73370\" transform=\"scale(1 -1)translate(0 -25)\" width=\"25\" x=\"309.96257\" xlink:href=\"data:image/png;base64,\r\niVBORw0KGgoAAAANSUhEUgAAABkAAAAZCAYAAADE6YVjAAAABHNCSVQICAgIfAhkiAAAAuJJREFUSIndlr1LI1sYxp8zH4wTBhRHsQjBgMRGQZCANmIlIgSxUStBUIKFtVY2VuKfYGqxEnttoqigTbQQREEIpAgGB8ExMzJz5tnCNdy9k+Deu+4W+8CB8/G+8+PhnPOeESSJ3yzldwP+GET76JBsNCEEFOXn+VJKAGiZ14B4noejoyNcX18jk8mgt7cXAwMDSCQS0HW9JcD3fRQKBby+vmJ8fBwjIyNxEL+rWq1yenqaQgjats2+vj7OzMxwY2ODNzc3fH5+ZhAE/KeklNzf36dpmlRVlfl8PhZDkg0nURTBdV0AgOM4cBwHDw8PODw8xO7uLpLJJHK5HHK5HNra2gAAl5eXWFtbg+/70DStMR/TB61Wq3F+fp5CiJbNNE12dnbStm3atk3LsiiEoKqqnJqaYrVajbng940mSYZhyHK5zO3tbfb399M0Teq6TlVVqWkaARDAD1AAVFWVY2NjrNVqTQEkKf59GUlCSgnHcXBycoKzszMkk0kUCgVIKeG6LhzHQRiGAIDh4WEUi0VYltXycKAlvol832epVOLi4iLb29sphKCiKFxfX6fneS3z/hPkQ09PT9za2mI2m6WiKLQsiwcHB3x7e/s6CEl6nserqytOTExQURQODg7y4uKCURR9HYQkoyji+fk5hRDUdZ0rKyt0XfdrIeS7o+XlZQohmM1meXt7G4v55QJpGAYWFhYAAJVKBff397EYLTbTRPV6HUEQwDCMprfaMAwA7wVS0+Kf/NSJlBKbm5vo7u7G0tISyuUygiBoVGzf91EqlQAAPT09SKVS/88JAIRhiL29Pdzd3SGfz2NychIvLy84Pj7G6uoqFEXB0NAQ0ul0PPmzjZVScmdnh4lE4oeSkk6n2dXV1RhnMhkWi8WmR/hTJ4qiYG5uDpVKBaenp7H1VCqFIAgwOzuL0dFRCCFiMbHa1UwkUa/X8fj4GFvr6OhAGIawbbvla/pTkF/V3/O38g1R1Hq0aambxgAAAABJRU5ErkJggg==\" y=\"-29.277028\"/>\r\n   </g>\r\n   <g id=\"matplotlib.axis_21\">\r\n    <g id=\"xtick_11\">\r\n     <g id=\"line2d_41\">\r\n      <g>\r\n       <use style=\"stroke:#000000;stroke-width:0.8;\" x=\"310.407901\" xlink:href=\"#m034dcb9cfc\" y=\"54.277028\"/>\r\n      </g>\r\n     </g>\r\n    </g>\r\n   </g>\r\n   <g id=\"matplotlib.axis_22\">\r\n    <g id=\"ytick_11\">\r\n     <g id=\"line2d_42\">\r\n      <g>\r\n       <use style=\"stroke:#000000;stroke-width:0.8;\" x=\"309.96257\" xlink:href=\"#mcd130c91b7\" y=\"29.783812\"/>\r\n      </g>\r\n     </g>\r\n    </g>\r\n   </g>\r\n   <g id=\"line2d_43\">\r\n    <path clip-path=\"url(#p62d79f46b5)\" d=\"M 309.96257 29.783812 \r\nL 334.901117 29.783812 \r\n\" style=\"fill:none;stroke:#1f77b4;stroke-linecap:square;stroke-width:1.5;\"/>\r\n   </g>\r\n   <g id=\"line2d_44\">\r\n    <path clip-path=\"url(#p62d79f46b5)\" d=\"M 310.407901 54.277028 \r\nL 310.407901 29.33848 \r\n\" style=\"fill:none;stroke:#1f77b4;stroke-linecap:square;stroke-width:1.5;\"/>\r\n   </g>\r\n   <g id=\"patch_53\">\r\n    <path d=\"M 309.96257 54.277028 \r\nL 309.96257 29.33848 \r\n\" style=\"fill:none;stroke:#000000;stroke-linecap:square;stroke-linejoin:miter;stroke-width:0.8;\"/>\r\n   </g>\r\n   <g id=\"patch_54\">\r\n    <path d=\"M 334.901117 54.277028 \r\nL 334.901117 29.33848 \r\n\" style=\"fill:none;stroke:#000000;stroke-linecap:square;stroke-linejoin:miter;stroke-width:0.8;\"/>\r\n   </g>\r\n   <g id=\"patch_55\">\r\n    <path d=\"M 309.96257 54.277028 \r\nL 334.901117 54.277028 \r\n\" style=\"fill:none;stroke:#000000;stroke-linecap:square;stroke-linejoin:miter;stroke-width:0.8;\"/>\r\n   </g>\r\n   <g id=\"patch_56\">\r\n    <path d=\"M 309.96257 29.33848 \r\nL 334.901117 29.33848 \r\n\" style=\"fill:none;stroke:#000000;stroke-linecap:square;stroke-linejoin:miter;stroke-width:0.8;\"/>\r\n   </g>\r\n   <g id=\"text_11\">\r\n    <!-- 2 -->\r\n    <defs>\r\n     <path d=\"M 19.1875 8.296875 \r\nL 53.609375 8.296875 \r\nL 53.609375 0 \r\nL 7.328125 0 \r\nL 7.328125 8.296875 \r\nQ 12.9375 14.109375 22.625 23.890625 \r\nQ 32.328125 33.6875 34.8125 36.53125 \r\nQ 39.546875 41.84375 41.421875 45.53125 \r\nQ 43.3125 49.21875 43.3125 52.78125 \r\nQ 43.3125 58.59375 39.234375 62.25 \r\nQ 35.15625 65.921875 28.609375 65.921875 \r\nQ 23.96875 65.921875 18.8125 64.3125 \r\nQ 13.671875 62.703125 7.8125 59.421875 \r\nL 7.8125 69.390625 \r\nQ 13.765625 71.78125 18.9375 73 \r\nQ 24.125 74.21875 28.421875 74.21875 \r\nQ 39.75 74.21875 46.484375 68.546875 \r\nQ 53.21875 62.890625 53.21875 53.421875 \r\nQ 53.21875 48.921875 51.53125 44.890625 \r\nQ 49.859375 40.875 45.40625 35.40625 \r\nQ 44.1875 33.984375 37.640625 27.21875 \r\nQ 31.109375 20.453125 19.1875 8.296875 \r\nz\r\n\" id=\"DejaVuSans-50\"/>\r\n    </defs>\r\n    <g transform=\"translate(319.314525 20.877188)scale(0.18 -0.18)\">\r\n     <use xlink:href=\"#DejaVuSans-50\"/>\r\n    </g>\r\n   </g>\r\n  </g>\r\n  <g id=\"axes_12\">\r\n   <g id=\"patch_57\">\r\n    <path d=\"M 339.888827 54.277028 \r\nL 364.827374 54.277028 \r\nL 364.827374 29.33848 \r\nL 339.888827 29.33848 \r\nz\r\n\" style=\"fill:#ffffff;\"/>\r\n   </g>\r\n   <g clip-path=\"url(#p9a3b6604bf)\">\r\n    <image height=\"25\" id=\"image51d84b6997\" transform=\"scale(1 -1)translate(0 -25)\" width=\"25\" x=\"339.888827\" xlink:href=\"data:image/png;base64,\r\niVBORw0KGgoAAAANSUhEUgAAABkAAAAZCAYAAADE6YVjAAAABHNCSVQICAgIfAhkiAAAAp9JREFUSIndlk9L41AUxU/SIQakSkSoXbSg6MJuogh24c4udFHcdC3o0nUQt34Fv4QfQBQKbgSrUGxxIaaiAV0UGrtQSo1t0pec2QyOw6R/HMdZzFne3Hd/ufedvDyJJPHFkr8aAADfej10HAe1Wg2dTuctJkkSRkZGoGkaFEVBJBL5HOTw8BA7OzuQ5Z8Ny7KM6elpLC0tYXFxEVNTU0gkElBVtWsdqdeeFItFHB8fI5PJvMWEECiXyzg7O8PFxQWSySSy2Sy2trYQjUbDC7GHOp0OX15efou3Wi3ats1CocCNjQ1qmsbt7W02m83QOj0h/eT7PhuNBtfW1jg7O8vb29vQvE+5S5ZlRKNRrK+vo16v4/T0NDzvMxAA+DENeJ6Hp6enrkl/LCEELy8vOTExwXQ63XVcH4YIIdhqtViv11koFJhIJDg/P8/z83O22+3QNT0t/H4k7XYbtm3j+voalmXh6OgId3d30HUdu7u7mJubgyRJoev7Qmq1GkzTxMnJCYrFIizLgqqq0HUd2WwWy8vLiMfjfd+ypwzDYDKZZCQS4cLCAg8ODmiaJm3bphBioBH3dVcul0MqlcLo6Ciq1Sry+Tw0TUMsFhvo3BqoEyEEHcfh4+Mj9/b2ODMzQ8Mw+Pz8zCAIBurkQ+5yXZeWZTGXyzGdTrNSqQwECoV4nsebmxs2m016nkff9xkEAYMgoO/7LJVKTKVSnJyc7Grb9wo96k3TxObmJjRNw8rKCjKZDMbGxuC6LhRFQSwWg67rKJVKeH19xdDQUM8t6WrhfD6P/f19VCoVVKtVKIoCx3GgqiqGh4fRaDRgGAYMw/jlf/MhCEm4rouHhwdcXV3h/v7+LS5JEsbHx7G6uop4PN71I+wL+Zv6JxeJ/wfyHRfokun5ha/CAAAAAElFTkSuQmCC\" y=\"-29.277028\"/>\r\n   </g>\r\n   <g id=\"matplotlib.axis_23\">\r\n    <g id=\"xtick_12\">\r\n     <g id=\"line2d_45\">\r\n      <g>\r\n       <use style=\"stroke:#000000;stroke-width:0.8;\" x=\"340.334158\" xlink:href=\"#m034dcb9cfc\" y=\"54.277028\"/>\r\n      </g>\r\n     </g>\r\n    </g>\r\n   </g>\r\n   <g id=\"matplotlib.axis_24\">\r\n    <g id=\"ytick_12\">\r\n     <g id=\"line2d_46\">\r\n      <g>\r\n       <use style=\"stroke:#000000;stroke-width:0.8;\" x=\"339.888827\" xlink:href=\"#mcd130c91b7\" y=\"29.783812\"/>\r\n      </g>\r\n     </g>\r\n    </g>\r\n   </g>\r\n   <g id=\"line2d_47\">\r\n    <path clip-path=\"url(#p9a3b6604bf)\" d=\"M 339.888827 29.783812 \r\nL 364.827374 29.783812 \r\n\" style=\"fill:none;stroke:#1f77b4;stroke-linecap:square;stroke-width:1.5;\"/>\r\n   </g>\r\n   <g id=\"line2d_48\">\r\n    <path clip-path=\"url(#p9a3b6604bf)\" d=\"M 340.334158 54.277028 \r\nL 340.334158 29.33848 \r\n\" style=\"fill:none;stroke:#1f77b4;stroke-linecap:square;stroke-width:1.5;\"/>\r\n   </g>\r\n   <g id=\"patch_58\">\r\n    <path d=\"M 339.888827 54.277028 \r\nL 339.888827 29.33848 \r\n\" style=\"fill:none;stroke:#000000;stroke-linecap:square;stroke-linejoin:miter;stroke-width:0.8;\"/>\r\n   </g>\r\n   <g id=\"patch_59\">\r\n    <path d=\"M 364.827374 54.277028 \r\nL 364.827374 29.33848 \r\n\" style=\"fill:none;stroke:#000000;stroke-linecap:square;stroke-linejoin:miter;stroke-width:0.8;\"/>\r\n   </g>\r\n   <g id=\"patch_60\">\r\n    <path d=\"M 339.888827 54.277028 \r\nL 364.827374 54.277028 \r\n\" style=\"fill:none;stroke:#000000;stroke-linecap:square;stroke-linejoin:miter;stroke-width:0.8;\"/>\r\n   </g>\r\n   <g id=\"patch_61\">\r\n    <path d=\"M 339.888827 29.33848 \r\nL 364.827374 29.33848 \r\n\" style=\"fill:none;stroke:#000000;stroke-linecap:square;stroke-linejoin:miter;stroke-width:0.8;\"/>\r\n   </g>\r\n   <g id=\"text_12\">\r\n    <!-- 3 -->\r\n    <defs>\r\n     <path d=\"M 40.578125 39.3125 \r\nQ 47.65625 37.796875 51.625 33 \r\nQ 55.609375 28.21875 55.609375 21.1875 \r\nQ 55.609375 10.40625 48.1875 4.484375 \r\nQ 40.765625 -1.421875 27.09375 -1.421875 \r\nQ 22.515625 -1.421875 17.65625 -0.515625 \r\nQ 12.796875 0.390625 7.625 2.203125 \r\nL 7.625 11.71875 \r\nQ 11.71875 9.328125 16.59375 8.109375 \r\nQ 21.484375 6.890625 26.8125 6.890625 \r\nQ 36.078125 6.890625 40.9375 10.546875 \r\nQ 45.796875 14.203125 45.796875 21.1875 \r\nQ 45.796875 27.640625 41.28125 31.265625 \r\nQ 36.765625 34.90625 28.71875 34.90625 \r\nL 20.21875 34.90625 \r\nL 20.21875 43.015625 \r\nL 29.109375 43.015625 \r\nQ 36.375 43.015625 40.234375 45.921875 \r\nQ 44.09375 48.828125 44.09375 54.296875 \r\nQ 44.09375 59.90625 40.109375 62.90625 \r\nQ 36.140625 65.921875 28.71875 65.921875 \r\nQ 24.65625 65.921875 20.015625 65.03125 \r\nQ 15.375 64.15625 9.8125 62.3125 \r\nL 9.8125 71.09375 \r\nQ 15.4375 72.65625 20.34375 73.4375 \r\nQ 25.25 74.21875 29.59375 74.21875 \r\nQ 40.828125 74.21875 47.359375 69.109375 \r\nQ 53.90625 64.015625 53.90625 55.328125 \r\nQ 53.90625 49.265625 50.4375 45.09375 \r\nQ 46.96875 40.921875 40.578125 39.3125 \r\nz\r\n\" id=\"DejaVuSans-51\"/>\r\n    </defs>\r\n    <g transform=\"translate(349.240782 20.877188)scale(0.18 -0.18)\">\r\n     <use xlink:href=\"#DejaVuSans-51\"/>\r\n    </g>\r\n   </g>\r\n  </g>\r\n  <g id=\"axes_13\">\r\n   <g id=\"patch_62\">\r\n    <path d=\"M 369.815084 54.277028 \r\nL 394.753631 54.277028 \r\nL 394.753631 29.33848 \r\nL 369.815084 29.33848 \r\nz\r\n\" style=\"fill:#ffffff;\"/>\r\n   </g>\r\n   <g clip-path=\"url(#pe3464fc2fa)\">\r\n    <image height=\"25\" id=\"imagecce69542ce\" transform=\"scale(1 -1)translate(0 -25)\" width=\"25\" x=\"369.815084\" xlink:href=\"data:image/png;base64,\r\niVBORw0KGgoAAAANSUhEUgAAABkAAAAZCAYAAADE6YVjAAAABHNCSVQICAgIfAhkiAAAAlxJREFUSIndVUFLakEYPffOzaaLptLClasgMN0ILsSltEsC29bWtUKblv6IcCFt+hO1FqPE2kaI0Col4oop2L2aznkr5fWw7n09eosODMwM3/nOfDOH+TSSxDdD/26BnyVizCeTyQS2bX8aLISAlBKGYXwat1TEcRycnJzg+vr60+C1tTVkMhnk83lEIhHouseLIEnbtlkul6nrOnVdJwBqmrZYz+dCCIbDYeZyOV5eXvLt7Y1eoJGkUgrdbhfn5+cAgEQigXg8/u5aRqMRqtUqqtUqLMuClBL1eh3b29vQNM29kjmUUouxDEopttttZrNZCiHo8/nY6/VcK4FrxB+YzWas1Wrc3NykEILHx8euHM8WJonZbAYASKVSyGazEELg+fnZlevJi47joNvtotVqQUqJ9fV1bG1twTRNOI7z7yIkcX9/j6OjIzQaDayuriIajSISiWAymXiysadKQqEQYrEYOp0O2u02hsMh7u7uAADD4dA9gZfHnk6nHAwGfHx8ZL1e5/7+Pv1+P4UQDAQCLBaL7Pf7H7ryS+4ajUa8uLhgMpmkEIJSSu7t7fHl5eXrIq+vr7y9vaVlWYvTKqU4GAzo9/up6zrD4TArlcpSvuurkUStVkM6nUYmk8Hp6Sksy8J4PIaUEmdnZwAATdM+/jjdqlBK8erqitFolMFgkKZp0jAM7u7uslQqsVAocGNjg4eHh3x6elqaQyPd26/jOGg2m7i5uUG/38fDw8O7trCzs4ODgwOEQqGlfE8iv2M6ncK2bSilFnumaWJlZeVDzl+LfAU/p8f/F5FfeZjgRGWSt5QAAAAASUVORK5CYII=\" y=\"-29.277028\"/>\r\n   </g>\r\n   <g id=\"matplotlib.axis_25\">\r\n    <g id=\"xtick_13\">\r\n     <g id=\"line2d_49\">\r\n      <g>\r\n       <use style=\"stroke:#000000;stroke-width:0.8;\" x=\"370.260415\" xlink:href=\"#m034dcb9cfc\" y=\"54.277028\"/>\r\n      </g>\r\n     </g>\r\n    </g>\r\n   </g>\r\n   <g id=\"matplotlib.axis_26\">\r\n    <g id=\"ytick_13\">\r\n     <g id=\"line2d_50\">\r\n      <g>\r\n       <use style=\"stroke:#000000;stroke-width:0.8;\" x=\"369.815084\" xlink:href=\"#mcd130c91b7\" y=\"29.783812\"/>\r\n      </g>\r\n     </g>\r\n    </g>\r\n   </g>\r\n   <g id=\"line2d_51\">\r\n    <path clip-path=\"url(#pe3464fc2fa)\" d=\"M 369.815084 29.783812 \r\nL 394.753631 29.783812 \r\n\" style=\"fill:none;stroke:#1f77b4;stroke-linecap:square;stroke-width:1.5;\"/>\r\n   </g>\r\n   <g id=\"line2d_52\">\r\n    <path clip-path=\"url(#pe3464fc2fa)\" d=\"M 370.260415 54.277028 \r\nL 370.260415 29.33848 \r\n\" style=\"fill:none;stroke:#1f77b4;stroke-linecap:square;stroke-width:1.5;\"/>\r\n   </g>\r\n   <g id=\"patch_63\">\r\n    <path d=\"M 369.815084 54.277028 \r\nL 369.815084 29.33848 \r\n\" style=\"fill:none;stroke:#000000;stroke-linecap:square;stroke-linejoin:miter;stroke-width:0.8;\"/>\r\n   </g>\r\n   <g id=\"patch_64\">\r\n    <path d=\"M 394.753631 54.277028 \r\nL 394.753631 29.33848 \r\n\" style=\"fill:none;stroke:#000000;stroke-linecap:square;stroke-linejoin:miter;stroke-width:0.8;\"/>\r\n   </g>\r\n   <g id=\"patch_65\">\r\n    <path d=\"M 369.815084 54.277028 \r\nL 394.753631 54.277028 \r\n\" style=\"fill:none;stroke:#000000;stroke-linecap:square;stroke-linejoin:miter;stroke-width:0.8;\"/>\r\n   </g>\r\n   <g id=\"patch_66\">\r\n    <path d=\"M 369.815084 29.33848 \r\nL 394.753631 29.33848 \r\n\" style=\"fill:none;stroke:#000000;stroke-linecap:square;stroke-linejoin:miter;stroke-width:0.8;\"/>\r\n   </g>\r\n   <g id=\"text_13\">\r\n    <!-- 3 -->\r\n    <g transform=\"translate(379.167039 20.877188)scale(0.18 -0.18)\">\r\n     <use xlink:href=\"#DejaVuSans-51\"/>\r\n    </g>\r\n   </g>\r\n  </g>\r\n  <g id=\"axes_14\">\r\n   <g id=\"patch_67\">\r\n    <path d=\"M 399.741341 54.277028 \r\nL 424.679888 54.277028 \r\nL 424.679888 29.33848 \r\nL 399.741341 29.33848 \r\nz\r\n\" style=\"fill:#ffffff;\"/>\r\n   </g>\r\n   <g clip-path=\"url(#p44c5a73563)\">\r\n    <image height=\"25\" id=\"image011d20d8f3\" transform=\"scale(1 -1)translate(0 -25)\" width=\"25\" x=\"399.741341\" xlink:href=\"data:image/png;base64,\r\niVBORw0KGgoAAAANSUhEUgAAABkAAAAZCAYAAADE6YVjAAAABHNCSVQICAgIfAhkiAAAArRJREFUSInVlj9LK0EUxc/OZnFjglk1EEjAxWijJIUodqYT/AIGC8Ha0sLaYKGNYuEXsIgpBNuk8Q+IjYWtIlZCgopFLJKYzWxyLHwJ5mU38T2x8MApdubO/e2w915WIUn8sMRPA34XhCReXl7w8PCARqPxNUi9XncMdlOtVsPGxgb29/dh23bHvufzg5QShUIBBwcHiMViGB8fh6qqME0TAwMDjgDLsnB9fY3j42OEw2Hc3d0hHo93XLWlYrHItbU1+nw+hkIhjo6OcmxsjMvLy8xmsyyVSpRSfj7CnZ0dmqZJj8fDhYUFPj098W+1QcrlMjc3N+n3+ymEaFnTNAYCAU5OTjKTydCyLEopmcvlODExQSEEDcPg3t4ebdvuDiHJSqXCbDbLSCTSBmp6eHiYU1NTnJ6eptfrpaqqDAQC3NraYrVa7QA4Qkjy9vaWiUSCuq47gj57dnaWp6enrNVqjgBXiG3bfH195erqKr1eb1fI5eWla/Km1FQqleqoayGg6zrm5uYAAKqqAgAMw2i50WjAsiyUy2WYpolQKAQhnNtOIbvPrnq9jnw+j0Kh0LZ+dXWFXC6H8/NzDA0N4eTkBLFYDIqidCbpeVcXvb298ezsjMFgkJqmMZFIMJ1Of626/kXVapXpdJr9/f0UQnBlZaWjj0jyW7Orr68PyWQSmUwGPp/PNe7bA1LTNMzPz2NwcNA1xuO680ckIaX8CPZ8hDerqDlEpZRgl/rpCalUKlhfX4eiKEgmkwgGgwiHwxBC4ObmBpZl4ejoCI+Pj13ftKuen58ZjUZbzWeaJhcXF7m0tNT64IZhMBqNcnt7+/+qy7ZtHh4ecmZmhoqitLk5oXd3d3lxccFiseiYo2czAkCpVEI+n8f9/X3beiQSwcjICPx+P3Rddz3/Jch39Xt+JHrpHTLsK82xdzWVAAAAAElFTkSuQmCC\" y=\"-29.277028\"/>\r\n   </g>\r\n   <g id=\"matplotlib.axis_27\">\r\n    <g id=\"xtick_14\">\r\n     <g id=\"line2d_53\">\r\n      <g>\r\n       <use style=\"stroke:#000000;stroke-width:0.8;\" x=\"400.186672\" xlink:href=\"#m034dcb9cfc\" y=\"54.277028\"/>\r\n      </g>\r\n     </g>\r\n    </g>\r\n   </g>\r\n   <g id=\"matplotlib.axis_28\">\r\n    <g id=\"ytick_14\">\r\n     <g id=\"line2d_54\">\r\n      <g>\r\n       <use style=\"stroke:#000000;stroke-width:0.8;\" x=\"399.741341\" xlink:href=\"#mcd130c91b7\" y=\"29.783812\"/>\r\n      </g>\r\n     </g>\r\n    </g>\r\n   </g>\r\n   <g id=\"line2d_55\">\r\n    <path clip-path=\"url(#p44c5a73563)\" d=\"M 399.741341 29.783812 \r\nL 424.679888 29.783812 \r\n\" style=\"fill:none;stroke:#1f77b4;stroke-linecap:square;stroke-width:1.5;\"/>\r\n   </g>\r\n   <g id=\"line2d_56\">\r\n    <path clip-path=\"url(#p44c5a73563)\" d=\"M 400.186672 54.277028 \r\nL 400.186672 29.33848 \r\n\" style=\"fill:none;stroke:#1f77b4;stroke-linecap:square;stroke-width:1.5;\"/>\r\n   </g>\r\n   <g id=\"patch_68\">\r\n    <path d=\"M 399.741341 54.277028 \r\nL 399.741341 29.33848 \r\n\" style=\"fill:none;stroke:#000000;stroke-linecap:square;stroke-linejoin:miter;stroke-width:0.8;\"/>\r\n   </g>\r\n   <g id=\"patch_69\">\r\n    <path d=\"M 424.679888 54.277028 \r\nL 424.679888 29.33848 \r\n\" style=\"fill:none;stroke:#000000;stroke-linecap:square;stroke-linejoin:miter;stroke-width:0.8;\"/>\r\n   </g>\r\n   <g id=\"patch_70\">\r\n    <path d=\"M 399.741341 54.277028 \r\nL 424.679888 54.277028 \r\n\" style=\"fill:none;stroke:#000000;stroke-linecap:square;stroke-linejoin:miter;stroke-width:0.8;\"/>\r\n   </g>\r\n   <g id=\"patch_71\">\r\n    <path d=\"M 399.741341 29.33848 \r\nL 424.679888 29.33848 \r\n\" style=\"fill:none;stroke:#000000;stroke-linecap:square;stroke-linejoin:miter;stroke-width:0.8;\"/>\r\n   </g>\r\n   <g id=\"text_14\">\r\n    <!-- 2 -->\r\n    <g transform=\"translate(409.093296 20.877188)scale(0.18 -0.18)\">\r\n     <use xlink:href=\"#DejaVuSans-50\"/>\r\n    </g>\r\n   </g>\r\n  </g>\r\n  <g id=\"axes_15\">\r\n   <g id=\"patch_72\">\r\n    <path d=\"M 429.667598 54.277028 \r\nL 454.606145 54.277028 \r\nL 454.606145 29.33848 \r\nL 429.667598 29.33848 \r\nz\r\n\" style=\"fill:#ffffff;\"/>\r\n   </g>\r\n   <g clip-path=\"url(#p8953127dbf)\">\r\n    <image height=\"25\" id=\"image330f34083b\" transform=\"scale(1 -1)translate(0 -25)\" width=\"25\" x=\"429.667598\" xlink:href=\"data:image/png;base64,\r\niVBORw0KGgoAAAANSUhEUgAAABkAAAAZCAYAAADE6YVjAAAABHNCSVQICAgIfAhkiAAAAyBJREFUSIndlrtLK1sYxddMboiTiTBRNIEUgYiPaMQHVoqiaKGQKiBELbS28T8Q7W0kla1olyAoNnaCoCQQUIQ8NAYtEvEBvmJmzGTWba6HczlRj8q5xV3l/tjfj73W3h9bIEn8YYl/GgAAf71XLJfLuL+/h6qqKBQKsNvtkGUZVVVVEATh+5BcLodoNIpwOIxsNotEIoGRkRF0d3djfHwcLpcLFovlt2BCpUwMw8Dc3BzW1tZQV1eHtrY2AMDt7S1SqRS6urrQ29uLqakpeDyej0GsoGw2y6amJgYCAaZSKebzeebzeWYyGYZCIfp8PsqyzImJCSaTyUot/qWKkJ2dHXo8HkajURqG8WPdMAwWi0Umk0l2dHRQkiSOjo5+DXJ2dkafz8dgMMhisfhLvVwuMx6P0+Fw0Gq18uTk5F1IxSusKArcbjcikQgCgQCur6/Bn6ITRRGapqFcLsNut6O+vv7zmZDk1dUVh4aGaDab2dfXx9PTU+q6TsMw+Pz8zMXFRcqyzKWlpa/Z9arj42MGAgE2NDTQ7/dzd3eX6XSa8/PzrK2tpdPpZCaT+R6EJO/u7hiJRChJEm02GxVFoSiK9Hq9XF9fp67rH0LeffH/2InLy0uYTCZomgZd1wEAzc3N8Pv9MJlMH7V4O5NXra6u0uFw0Ov1cmVlheFwmGNjY3S5XJyZmeHR0dH37Hp8fGRnZydbWloYi8WoqipLpRJjsRinp6cpSRL7+/t5cXHxdYimaXS73XQ6ndzf3/+xrus6C4UCJycnaTab2d7eznQ6/WYf08LCwsJbVqqqCkEQsL29jfPzc1RXV0NVVdhsNsiyjOHhYVgsFmxtbUGWZQwODlaeY++ek2SpVOLs7CxramooSRJlWWZrayvT6TRVVaWmaQwGg/T5fMzn85+362dQPB5nY2MjrVYrRVGk2WxmMBhkLBbj8vIyFUVhKBSquL/iqK+kl5cXHB4eYnNzEwcHB3h4eEAikcDT0xMEQcDAwAA2NjagKMove38b8ipd15HL5aCqKvb29nBzcwNBENDT0/NmJp+GfEX/yUfi/wP5G6HcMTQSsiOpAAAAAElFTkSuQmCC\" y=\"-29.277028\"/>\r\n   </g>\r\n   <g id=\"matplotlib.axis_29\">\r\n    <g id=\"xtick_15\">\r\n     <g id=\"line2d_57\">\r\n      <g>\r\n       <use style=\"stroke:#000000;stroke-width:0.8;\" x=\"430.112929\" xlink:href=\"#m034dcb9cfc\" y=\"54.277028\"/>\r\n      </g>\r\n     </g>\r\n    </g>\r\n   </g>\r\n   <g id=\"matplotlib.axis_30\">\r\n    <g id=\"ytick_15\">\r\n     <g id=\"line2d_58\">\r\n      <g>\r\n       <use style=\"stroke:#000000;stroke-width:0.8;\" x=\"429.667598\" xlink:href=\"#mcd130c91b7\" y=\"29.783812\"/>\r\n      </g>\r\n     </g>\r\n    </g>\r\n   </g>\r\n   <g id=\"line2d_59\">\r\n    <path clip-path=\"url(#p8953127dbf)\" d=\"M 429.667598 29.783812 \r\nL 454.606145 29.783812 \r\n\" style=\"fill:none;stroke:#1f77b4;stroke-linecap:square;stroke-width:1.5;\"/>\r\n   </g>\r\n   <g id=\"line2d_60\">\r\n    <path clip-path=\"url(#p8953127dbf)\" d=\"M 430.112929 54.277028 \r\nL 430.112929 29.33848 \r\n\" style=\"fill:none;stroke:#1f77b4;stroke-linecap:square;stroke-width:1.5;\"/>\r\n   </g>\r\n   <g id=\"patch_73\">\r\n    <path d=\"M 429.667598 54.277028 \r\nL 429.667598 29.33848 \r\n\" style=\"fill:none;stroke:#000000;stroke-linecap:square;stroke-linejoin:miter;stroke-width:0.8;\"/>\r\n   </g>\r\n   <g id=\"patch_74\">\r\n    <path d=\"M 454.606145 54.277028 \r\nL 454.606145 29.33848 \r\n\" style=\"fill:none;stroke:#000000;stroke-linecap:square;stroke-linejoin:miter;stroke-width:0.8;\"/>\r\n   </g>\r\n   <g id=\"patch_75\">\r\n    <path d=\"M 429.667598 54.277028 \r\nL 454.606145 54.277028 \r\n\" style=\"fill:none;stroke:#000000;stroke-linecap:square;stroke-linejoin:miter;stroke-width:0.8;\"/>\r\n   </g>\r\n   <g id=\"patch_76\">\r\n    <path d=\"M 429.667598 29.33848 \r\nL 454.606145 29.33848 \r\n\" style=\"fill:none;stroke:#000000;stroke-linecap:square;stroke-linejoin:miter;stroke-width:0.8;\"/>\r\n   </g>\r\n   <g id=\"text_15\">\r\n    <!-- 8 -->\r\n    <defs>\r\n     <path d=\"M 31.78125 34.625 \r\nQ 24.75 34.625 20.71875 30.859375 \r\nQ 16.703125 27.09375 16.703125 20.515625 \r\nQ 16.703125 13.921875 20.71875 10.15625 \r\nQ 24.75 6.390625 31.78125 6.390625 \r\nQ 38.8125 6.390625 42.859375 10.171875 \r\nQ 46.921875 13.96875 46.921875 20.515625 \r\nQ 46.921875 27.09375 42.890625 30.859375 \r\nQ 38.875 34.625 31.78125 34.625 \r\nz\r\nM 21.921875 38.8125 \r\nQ 15.578125 40.375 12.03125 44.71875 \r\nQ 8.5 49.078125 8.5 55.328125 \r\nQ 8.5 64.0625 14.71875 69.140625 \r\nQ 20.953125 74.21875 31.78125 74.21875 \r\nQ 42.671875 74.21875 48.875 69.140625 \r\nQ 55.078125 64.0625 55.078125 55.328125 \r\nQ 55.078125 49.078125 51.53125 44.71875 \r\nQ 48 40.375 41.703125 38.8125 \r\nQ 48.828125 37.15625 52.796875 32.3125 \r\nQ 56.78125 27.484375 56.78125 20.515625 \r\nQ 56.78125 9.90625 50.3125 4.234375 \r\nQ 43.84375 -1.421875 31.78125 -1.421875 \r\nQ 19.734375 -1.421875 13.25 4.234375 \r\nQ 6.78125 9.90625 6.78125 20.515625 \r\nQ 6.78125 27.484375 10.78125 32.3125 \r\nQ 14.796875 37.15625 21.921875 38.8125 \r\nz\r\nM 18.3125 54.390625 \r\nQ 18.3125 48.734375 21.84375 45.5625 \r\nQ 25.390625 42.390625 31.78125 42.390625 \r\nQ 38.140625 42.390625 41.71875 45.5625 \r\nQ 45.3125 48.734375 45.3125 54.390625 \r\nQ 45.3125 60.0625 41.71875 63.234375 \r\nQ 38.140625 66.40625 31.78125 66.40625 \r\nQ 25.390625 66.40625 21.84375 63.234375 \r\nQ 18.3125 60.0625 18.3125 54.390625 \r\nz\r\n\" id=\"DejaVuSans-56\"/>\r\n    </defs>\r\n    <g transform=\"translate(439.019553 20.877187)scale(0.18 -0.18)\">\r\n     <use xlink:href=\"#DejaVuSans-56\"/>\r\n    </g>\r\n   </g>\r\n  </g>\r\n  <g id=\"axes_16\">\r\n   <g id=\"patch_77\">\r\n    <path d=\"M 459.593855 54.277028 \r\nL 484.532402 54.277028 \r\nL 484.532402 29.33848 \r\nL 459.593855 29.33848 \r\nz\r\n\" style=\"fill:#ffffff;\"/>\r\n   </g>\r\n   <g clip-path=\"url(#p4080731690)\">\r\n    <image height=\"25\" id=\"image9e7a247b7f\" transform=\"scale(1 -1)translate(0 -25)\" width=\"25\" x=\"459.593855\" xlink:href=\"data:image/png;base64,\r\niVBORw0KGgoAAAANSUhEUgAAABkAAAAZCAYAAADE6YVjAAAABHNCSVQICAgIfAhkiAAAATZJREFUSInN1rEOgjAQxvF/i0QjBnkINS7GmcF3cOJtHZhxYHXq4KaLxog2KOdg3FuFxNsvv7ZfOapEROi4dNfAfyKPxwNjDGVZcr/f3RvFo/b7vWRZJrPZTIwx0jSNU1/PZyen04ntdosxhuv16tzndVxBENDrea3LH6nrGmstw+GQMAy7QUQEEWE+nxPHMUqpdpGmaTgcDhyPR5RSzoAXIiKcz2e/q+uL/FLOyOVyYbPZAFBVFc/ns13kc1QfJAiC9jNRSpEkCavVCoD1es14PG4Xgffq4zgGIIoitHaP86vgJ5NJNx+j1prRaAS8p7HPv84Z6ff7LJdLAPI853a7tY98wo+iiKIoqKrKGXEeqVprptMpaZpirfUKXvk8JKy17HY7rLUsFgsGg0H7yLf1X7Prl3oBZ/nSd4io+9gAAAAASUVORK5CYII=\" y=\"-29.277028\"/>\r\n   </g>\r\n   <g id=\"matplotlib.axis_31\">\r\n    <g id=\"xtick_16\">\r\n     <g id=\"line2d_61\">\r\n      <g>\r\n       <use style=\"stroke:#000000;stroke-width:0.8;\" x=\"460.039186\" xlink:href=\"#m034dcb9cfc\" y=\"54.277028\"/>\r\n      </g>\r\n     </g>\r\n    </g>\r\n   </g>\r\n   <g id=\"matplotlib.axis_32\">\r\n    <g id=\"ytick_16\">\r\n     <g id=\"line2d_62\">\r\n      <g>\r\n       <use style=\"stroke:#000000;stroke-width:0.8;\" x=\"459.593855\" xlink:href=\"#mcd130c91b7\" y=\"29.783812\"/>\r\n      </g>\r\n     </g>\r\n    </g>\r\n   </g>\r\n   <g id=\"line2d_63\">\r\n    <path clip-path=\"url(#p4080731690)\" d=\"M 459.593855 29.783812 \r\nL 484.532402 29.783812 \r\n\" style=\"fill:none;stroke:#1f77b4;stroke-linecap:square;stroke-width:1.5;\"/>\r\n   </g>\r\n   <g id=\"line2d_64\">\r\n    <path clip-path=\"url(#p4080731690)\" d=\"M 460.039186 54.277028 \r\nL 460.039186 29.33848 \r\n\" style=\"fill:none;stroke:#1f77b4;stroke-linecap:square;stroke-width:1.5;\"/>\r\n   </g>\r\n   <g id=\"patch_78\">\r\n    <path d=\"M 459.593855 54.277028 \r\nL 459.593855 29.33848 \r\n\" style=\"fill:none;stroke:#000000;stroke-linecap:square;stroke-linejoin:miter;stroke-width:0.8;\"/>\r\n   </g>\r\n   <g id=\"patch_79\">\r\n    <path d=\"M 484.532402 54.277028 \r\nL 484.532402 29.33848 \r\n\" style=\"fill:none;stroke:#000000;stroke-linecap:square;stroke-linejoin:miter;stroke-width:0.8;\"/>\r\n   </g>\r\n   <g id=\"patch_80\">\r\n    <path d=\"M 459.593855 54.277028 \r\nL 484.532402 54.277028 \r\n\" style=\"fill:none;stroke:#000000;stroke-linecap:square;stroke-linejoin:miter;stroke-width:0.8;\"/>\r\n   </g>\r\n   <g id=\"patch_81\">\r\n    <path d=\"M 459.593855 29.33848 \r\nL 484.532402 29.33848 \r\n\" style=\"fill:none;stroke:#000000;stroke-linecap:square;stroke-linejoin:miter;stroke-width:0.8;\"/>\r\n   </g>\r\n   <g id=\"text_16\">\r\n    <!-- 1 -->\r\n    <g transform=\"translate(468.94581 20.877187)scale(0.18 -0.18)\">\r\n     <use xlink:href=\"#DejaVuSans-49\"/>\r\n    </g>\r\n   </g>\r\n  </g>\r\n  <g id=\"axes_17\">\r\n   <g id=\"patch_82\">\r\n    <path d=\"M 489.520112 54.277028 \r\nL 514.458659 54.277028 \r\nL 514.458659 29.33848 \r\nL 489.520112 29.33848 \r\nz\r\n\" style=\"fill:#ffffff;\"/>\r\n   </g>\r\n   <g clip-path=\"url(#p2850c2deb8)\">\r\n    <image height=\"25\" id=\"image7a28166f69\" transform=\"scale(1 -1)translate(0 -25)\" width=\"25\" x=\"489.520112\" xlink:href=\"data:image/png;base64,\r\niVBORw0KGgoAAAANSUhEUgAAABkAAAAZCAYAAADE6YVjAAAABHNCSVQICAgIfAhkiAAAAelJREFUSInllk/rMVEUx7/3XoNmTLJiFJFmOxQr3gZJ3gF5Ed4BS2XnDVgrKUlWbK0lK39qKKPRnGen59evMZNSTz2n7uZ+z72fc879y4iI8GXj3wZ8DDmdTthut7jf79+D9Ho95PN5zOdz+Kn2RxDTNGHbNlar1fcgmUwGiqLg+Xz68v8Iks1mEYlEMB6P4TjOdyBCCDDGcDqdfPm/hRARHMf51TRNgyzLvoMKuAmWZWGxWOByufzSdrsdLMvC7XbD8XhEIpF4TyEX6/f7JMsycc4pGAxSLBajXC5Huq6TpmkkSRJxzmk4HLpN8TLXTHRdRzgcxuPxQKVSQbPZRKFQgBAC6/Ua3W4X+/0exWLRu15u9NvtRtVqlYQQVKvVyLKsl3Y4HKhYLBJjjDabjWcmrguvKAparRZkWcZ0OsVsNntpwWAQ4XAYjDHvLOCxu8rlMjqdDkzTxGAwwPl8BgBEo1Gk02lw7u8EvPUKhUJot9tIJpNYLpeYTCYAgEAgAEmSfAE8IQAQj8fR6XRwvV6x3W5/XCV+nyLX3fWKgnPU63Ws12uUSqUf/X7XxBPCGEMqlcJoNIIQ4tWvqio457Bt2xPi++76GwAAhmFAVVWYpuk51jMTN2s0GpAkCYZhePqy//sj8U9C/gBdUDGky2sNLQAAAABJRU5ErkJggg==\" y=\"-29.277028\"/>\r\n   </g>\r\n   <g id=\"matplotlib.axis_33\">\r\n    <g id=\"xtick_17\">\r\n     <g id=\"line2d_65\">\r\n      <g>\r\n       <use style=\"stroke:#000000;stroke-width:0.8;\" x=\"489.965443\" xlink:href=\"#m034dcb9cfc\" y=\"54.277028\"/>\r\n      </g>\r\n     </g>\r\n    </g>\r\n   </g>\r\n   <g id=\"matplotlib.axis_34\">\r\n    <g id=\"ytick_17\">\r\n     <g id=\"line2d_66\">\r\n      <g>\r\n       <use style=\"stroke:#000000;stroke-width:0.8;\" x=\"489.520112\" xlink:href=\"#mcd130c91b7\" y=\"29.783812\"/>\r\n      </g>\r\n     </g>\r\n    </g>\r\n   </g>\r\n   <g id=\"line2d_67\">\r\n    <path clip-path=\"url(#p2850c2deb8)\" d=\"M 489.520112 29.783812 \r\nL 514.458659 29.783812 \r\n\" style=\"fill:none;stroke:#1f77b4;stroke-linecap:square;stroke-width:1.5;\"/>\r\n   </g>\r\n   <g id=\"line2d_68\">\r\n    <path clip-path=\"url(#p2850c2deb8)\" d=\"M 489.965443 54.277028 \r\nL 489.965443 29.33848 \r\n\" style=\"fill:none;stroke:#1f77b4;stroke-linecap:square;stroke-width:1.5;\"/>\r\n   </g>\r\n   <g id=\"patch_83\">\r\n    <path d=\"M 489.520112 54.277028 \r\nL 489.520112 29.33848 \r\n\" style=\"fill:none;stroke:#000000;stroke-linecap:square;stroke-linejoin:miter;stroke-width:0.8;\"/>\r\n   </g>\r\n   <g id=\"patch_84\">\r\n    <path d=\"M 514.458659 54.277028 \r\nL 514.458659 29.33848 \r\n\" style=\"fill:none;stroke:#000000;stroke-linecap:square;stroke-linejoin:miter;stroke-width:0.8;\"/>\r\n   </g>\r\n   <g id=\"patch_85\">\r\n    <path d=\"M 489.520112 54.277028 \r\nL 514.458659 54.277028 \r\n\" style=\"fill:none;stroke:#000000;stroke-linecap:square;stroke-linejoin:miter;stroke-width:0.8;\"/>\r\n   </g>\r\n   <g id=\"patch_86\">\r\n    <path d=\"M 489.520112 29.33848 \r\nL 514.458659 29.33848 \r\n\" style=\"fill:none;stroke:#000000;stroke-linecap:square;stroke-linejoin:miter;stroke-width:0.8;\"/>\r\n   </g>\r\n   <g id=\"text_17\">\r\n    <!-- 4 -->\r\n    <defs>\r\n     <path d=\"M 37.796875 64.3125 \r\nL 12.890625 25.390625 \r\nL 37.796875 25.390625 \r\nz\r\nM 35.203125 72.90625 \r\nL 47.609375 72.90625 \r\nL 47.609375 25.390625 \r\nL 58.015625 25.390625 \r\nL 58.015625 17.1875 \r\nL 47.609375 17.1875 \r\nL 47.609375 0 \r\nL 37.796875 0 \r\nL 37.796875 17.1875 \r\nL 4.890625 17.1875 \r\nL 4.890625 26.703125 \r\nz\r\n\" id=\"DejaVuSans-52\"/>\r\n    </defs>\r\n    <g transform=\"translate(498.872067 20.877188)scale(0.18 -0.18)\">\r\n     <use xlink:href=\"#DejaVuSans-52\"/>\r\n    </g>\r\n   </g>\r\n  </g>\r\n  <g id=\"axes_18\">\r\n   <g id=\"patch_87\">\r\n    <path d=\"M 519.446369 54.277028 \r\nL 544.384916 54.277028 \r\nL 544.384916 29.33848 \r\nL 519.446369 29.33848 \r\nz\r\n\" style=\"fill:#ffffff;\"/>\r\n   </g>\r\n   <g clip-path=\"url(#pda639aca29)\">\r\n    <image height=\"25\" id=\"image833eff5052\" transform=\"scale(1 -1)translate(0 -25)\" width=\"25\" x=\"519.446369\" xlink:href=\"data:image/png;base64,\r\niVBORw0KGgoAAAANSUhEUgAAABkAAAAZCAYAAADE6YVjAAAABHNCSVQICAgIfAhkiAAAAjlJREFUSIntlLtqKkEcxr+ZWcTtVDAayMUmTdIoCRjS2FhYpbDJA9jnDQSr2KQLBItY+AQWgvaWQvIEubkGVBIrrxt250txUDjkGNeD1eH8YJphZn7z/+YiSBIrcF0XrutCKQWl1Krh35CrBmitUavVEIvFUK1W4bru5iUA8Pb2hn6/j9vbW7y8vGxeIoTA8fExdnd30Wq10Gg08Pn5uZ6FHphOpywUCgTAs7MzPj09eZm2wJNEa83Hx0cmk0n6fD6Wy2Xatr1ZCUlOJhNeXV1RKcWDgwO22+3NS7TWfH19ZSaToZSShUKBs9lssxKStG2b19fXNE2TSinP1Xi6wnN8Ph8uLi6QSqWgtUa5XIbjOCvnrSUBgGg0itPTU5imiVKphFartfqBrhPXnE6nw3g8TiEEA4EAPz4+/j4u13VRr9fx/v7+W//Ozg6y2SxM08R4PEa32/2xkKUSx3HQbDaRy+VQLBbR6/Vg2zZGoxEsy8JoNALw62+7ubn5thFPcT0/P/P8/JxSSgaDQV5eXvLh4YGVSoV3d3c8OTmhlJJCCEajUVqWtTQuQf75q3ccB7PZDIeHhxgMBshmsxBCoNFoQGuN4XC4uFmhUAj39/fY399fr5I5sViMUkoahkGlFKWUi6aUomEYTCQS1FovXcP48cQARCIRWJYFIQT8fj/8fj+2traQTqext7eHcDi8qHIZS+Oa02w2kc/ncXR0hHQ6jXg8ju3tbZimuWp/3iWbYO0X/1/yb0i+AEc3T7afZejfAAAAAElFTkSuQmCC\" y=\"-29.277028\"/>\r\n   </g>\r\n   <g id=\"matplotlib.axis_35\">\r\n    <g id=\"xtick_18\">\r\n     <g id=\"line2d_69\">\r\n      <g>\r\n       <use style=\"stroke:#000000;stroke-width:0.8;\" x=\"519.8917\" xlink:href=\"#m034dcb9cfc\" y=\"54.277028\"/>\r\n      </g>\r\n     </g>\r\n    </g>\r\n   </g>\r\n   <g id=\"matplotlib.axis_36\">\r\n    <g id=\"ytick_18\">\r\n     <g id=\"line2d_70\">\r\n      <g>\r\n       <use style=\"stroke:#000000;stroke-width:0.8;\" x=\"519.446369\" xlink:href=\"#mcd130c91b7\" y=\"29.783812\"/>\r\n      </g>\r\n     </g>\r\n    </g>\r\n   </g>\r\n   <g id=\"line2d_71\">\r\n    <path clip-path=\"url(#pda639aca29)\" d=\"M 519.446369 29.783812 \r\nL 544.384916 29.783812 \r\n\" style=\"fill:none;stroke:#1f77b4;stroke-linecap:square;stroke-width:1.5;\"/>\r\n   </g>\r\n   <g id=\"line2d_72\">\r\n    <path clip-path=\"url(#pda639aca29)\" d=\"M 519.8917 54.277028 \r\nL 519.8917 29.33848 \r\n\" style=\"fill:none;stroke:#1f77b4;stroke-linecap:square;stroke-width:1.5;\"/>\r\n   </g>\r\n   <g id=\"patch_88\">\r\n    <path d=\"M 519.446369 54.277028 \r\nL 519.446369 29.33848 \r\n\" style=\"fill:none;stroke:#000000;stroke-linecap:square;stroke-linejoin:miter;stroke-width:0.8;\"/>\r\n   </g>\r\n   <g id=\"patch_89\">\r\n    <path d=\"M 544.384916 54.277028 \r\nL 544.384916 29.33848 \r\n\" style=\"fill:none;stroke:#000000;stroke-linecap:square;stroke-linejoin:miter;stroke-width:0.8;\"/>\r\n   </g>\r\n   <g id=\"patch_90\">\r\n    <path d=\"M 519.446369 54.277028 \r\nL 544.384916 54.277028 \r\n\" style=\"fill:none;stroke:#000000;stroke-linecap:square;stroke-linejoin:miter;stroke-width:0.8;\"/>\r\n   </g>\r\n   <g id=\"patch_91\">\r\n    <path d=\"M 519.446369 29.33848 \r\nL 544.384916 29.33848 \r\n\" style=\"fill:none;stroke:#000000;stroke-linecap:square;stroke-linejoin:miter;stroke-width:0.8;\"/>\r\n   </g>\r\n   <g id=\"text_18\">\r\n    <!-- 7 -->\r\n    <g transform=\"translate(528.798324 20.877188)scale(0.18 -0.18)\">\r\n     <use xlink:href=\"#DejaVuSans-55\"/>\r\n    </g>\r\n   </g>\r\n  </g>\r\n  <g id=\"axes_19\">\r\n   <g id=\"patch_92\">\r\n    <path d=\"M 549.372626 54.277028 \r\nL 574.311173 54.277028 \r\nL 574.311173 29.33848 \r\nL 549.372626 29.33848 \r\nz\r\n\" style=\"fill:#ffffff;\"/>\r\n   </g>\r\n   <g clip-path=\"url(#p10e062c475)\">\r\n    <image height=\"25\" id=\"image69647ed3a1\" transform=\"scale(1 -1)translate(0 -25)\" width=\"25\" x=\"549.372626\" xlink:href=\"data:image/png;base64,\r\niVBORw0KGgoAAAANSUhEUgAAABkAAAAZCAYAAADE6YVjAAAABHNCSVQICAgIfAhkiAAAAU1JREFUSInN1q+uwjAchuF3bIGFEVAzgOePQCJwuyjugQtBcRU4BKhpHIEESEgoBAZr16M4uj1nTfj8lyftr2nraa01jlNxDfwZuV6vnM9niqJwg9zvd2azGdPplNfrZdQJbAClFOv1msViQRiGKKWMelYreb/fLJdLdrsdg8EA3/fLR4qi4Ha7IaUkSRKCwGwjrJDH48HpdCKKIobDIZWKWd0KOR6PrFYrut0uvV7PzXYppX6Pred5xj1jRErJ4XBACEEcx8bzsELyPGez2XC5XEiShCiKykeezydpmgLQbDaNh26FZFlGmqZWs7BGPvF9nzAM3Qz+k06nw2QyoVqtukOCIKBWq7ldyXg8Jo5jq44Rkuc5QgiklLTbber1ermI1pr9fs98PqfVatHv942vk088kzdeCMF2uyXLMkajEY1Go3zkv/nej8RXIj8H8oVA0Tu0AwAAAABJRU5ErkJggg==\" y=\"-29.277028\"/>\r\n   </g>\r\n   <g id=\"matplotlib.axis_37\">\r\n    <g id=\"xtick_19\">\r\n     <g id=\"line2d_73\">\r\n      <g>\r\n       <use style=\"stroke:#000000;stroke-width:0.8;\" x=\"549.817957\" xlink:href=\"#m034dcb9cfc\" y=\"54.277028\"/>\r\n      </g>\r\n     </g>\r\n    </g>\r\n   </g>\r\n   <g id=\"matplotlib.axis_38\">\r\n    <g id=\"ytick_19\">\r\n     <g id=\"line2d_74\">\r\n      <g>\r\n       <use style=\"stroke:#000000;stroke-width:0.8;\" x=\"549.372626\" xlink:href=\"#mcd130c91b7\" y=\"29.783812\"/>\r\n      </g>\r\n     </g>\r\n    </g>\r\n   </g>\r\n   <g id=\"line2d_75\">\r\n    <path clip-path=\"url(#p10e062c475)\" d=\"M 549.372626 29.783812 \r\nL 574.311173 29.783812 \r\n\" style=\"fill:none;stroke:#1f77b4;stroke-linecap:square;stroke-width:1.5;\"/>\r\n   </g>\r\n   <g id=\"line2d_76\">\r\n    <path clip-path=\"url(#p10e062c475)\" d=\"M 549.817957 54.277028 \r\nL 549.817957 29.33848 \r\n\" style=\"fill:none;stroke:#1f77b4;stroke-linecap:square;stroke-width:1.5;\"/>\r\n   </g>\r\n   <g id=\"patch_93\">\r\n    <path d=\"M 549.372626 54.277028 \r\nL 549.372626 29.33848 \r\n\" style=\"fill:none;stroke:#000000;stroke-linecap:square;stroke-linejoin:miter;stroke-width:0.8;\"/>\r\n   </g>\r\n   <g id=\"patch_94\">\r\n    <path d=\"M 574.311173 54.277028 \r\nL 574.311173 29.33848 \r\n\" style=\"fill:none;stroke:#000000;stroke-linecap:square;stroke-linejoin:miter;stroke-width:0.8;\"/>\r\n   </g>\r\n   <g id=\"patch_95\">\r\n    <path d=\"M 549.372626 54.277028 \r\nL 574.311173 54.277028 \r\n\" style=\"fill:none;stroke:#000000;stroke-linecap:square;stroke-linejoin:miter;stroke-width:0.8;\"/>\r\n   </g>\r\n   <g id=\"patch_96\">\r\n    <path d=\"M 549.372626 29.33848 \r\nL 574.311173 29.33848 \r\n\" style=\"fill:none;stroke:#000000;stroke-linecap:square;stroke-linejoin:miter;stroke-width:0.8;\"/>\r\n   </g>\r\n   <g id=\"text_19\">\r\n    <!-- 1 -->\r\n    <g transform=\"translate(558.724581 20.877187)scale(0.18 -0.18)\">\r\n     <use xlink:href=\"#DejaVuSans-49\"/>\r\n    </g>\r\n   </g>\r\n  </g>\r\n  <g id=\"axes_20\">\r\n   <g id=\"patch_97\">\r\n    <path d=\"M 579.298883 54.277028 \r\nL 604.23743 54.277028 \r\nL 604.23743 29.33848 \r\nL 579.298883 29.33848 \r\nz\r\n\" style=\"fill:#ffffff;\"/>\r\n   </g>\r\n   <g clip-path=\"url(#pa5f590e902)\">\r\n    <image height=\"25\" id=\"imagea1ea5bec39\" transform=\"scale(1 -1)translate(0 -25)\" width=\"25\" x=\"579.298883\" xlink:href=\"data:image/png;base64,\r\niVBORw0KGgoAAAANSUhEUgAAABkAAAAZCAYAAADE6YVjAAAABHNCSVQICAgIfAhkiAAAAuNJREFUSIntlT9LK00Yxc9usnG3UOMWSRE1oKhBhKRQUMR0omhhAhYKfgEtbG1UUmmlhUogWFla+AlskoDBwqiFiI1FthBMiKKruEt299zmvi83aEy8aHcPTDEwz/nNnzMzAknihyX+NOAf5MtyNzKoVCrh8PAQLS0tGBkZgWEYKJVKiEQiUBQFgiDA4/FAFD+es1AvXbquY2xsDIVCAW63G6qqwrIsmKYJn88HSZIgyzLi8Tjm5uagqio8Hk+1Cetoc3OToihSURQODw8zlUoxm83y+PiY+XyeFxcXXF9fZyAQYHd3N/f392kYRpXHp5BisUi/30+Xy8XZ2Vk+PDzQcZx3zbZt3t3dcXl5mbFYjJqmNQYxTZMzMzP0eDyUZZl+v5/JZJIvLy90HOfDGk3TOD8/z0wmQ9u260NOT0/Z1tbG0dFRLi0tMRAIsKuri6lUio+Pj1UmJOk4DnO5HEVR5NbWVtWW1YxwJpOBaZqIx+PY3t5GMpnEwMAANjY2kEgkkM/noev6f+eK5+dn5HI5qKqKjo6OqqQ1FOGmpiZMT08jHA7j5OQE6XQaKysriEQiCIVCkGUZl5eXuL29xdraGsbHxyFJUn2IIAgQBOH/vsvlQjAYRGdnJ6amplAoFJDNZvH09IRgMAi/349YLIahoSEoilLlVRPS3t4OURShado7uNfrhdfrRV9fHwBAkiREo1FIkgS3+wPLWgdfLpcZDoepqirPzs5qDWtIn96TxcVFSpLEiYkJViqVn4Hous7JyUk2Nzdzb2/vXWy/BUKS19fX9Pl8HBwc5Pn5OS3L+n6Ibdvc3d2loiiMRqNMp9N8fX39EsSVSCQSn90RQRAQCoUgSRLu7+9xcHAAWZbR39///rWtpUZnYxgGr66uuLCwwJ6eHu7s7LBcLjdUW/c/+VOWZaFYLOLm5gZHR0fQdR29vb1YXV39tO5LkN8rh+M4eHt7Q6VSgSiKaG1t/V7I3+gXHWgGAEN1KkQAAAAASUVORK5CYII=\" y=\"-29.277028\"/>\r\n   </g>\r\n   <g id=\"matplotlib.axis_39\">\r\n    <g id=\"xtick_20\">\r\n     <g id=\"line2d_77\">\r\n      <g>\r\n       <use style=\"stroke:#000000;stroke-width:0.8;\" x=\"579.744214\" xlink:href=\"#m034dcb9cfc\" y=\"54.277028\"/>\r\n      </g>\r\n     </g>\r\n    </g>\r\n   </g>\r\n   <g id=\"matplotlib.axis_40\">\r\n    <g id=\"ytick_20\">\r\n     <g id=\"line2d_78\">\r\n      <g>\r\n       <use style=\"stroke:#000000;stroke-width:0.8;\" x=\"579.298883\" xlink:href=\"#mcd130c91b7\" y=\"29.783812\"/>\r\n      </g>\r\n     </g>\r\n    </g>\r\n   </g>\r\n   <g id=\"line2d_79\">\r\n    <path clip-path=\"url(#pa5f590e902)\" d=\"M 579.298883 29.783812 \r\nL 604.23743 29.783812 \r\n\" style=\"fill:none;stroke:#1f77b4;stroke-linecap:square;stroke-width:1.5;\"/>\r\n   </g>\r\n   <g id=\"line2d_80\">\r\n    <path clip-path=\"url(#pa5f590e902)\" d=\"M 579.744214 54.277028 \r\nL 579.744214 29.33848 \r\n\" style=\"fill:none;stroke:#1f77b4;stroke-linecap:square;stroke-width:1.5;\"/>\r\n   </g>\r\n   <g id=\"patch_98\">\r\n    <path d=\"M 579.298883 54.277028 \r\nL 579.298883 29.33848 \r\n\" style=\"fill:none;stroke:#000000;stroke-linecap:square;stroke-linejoin:miter;stroke-width:0.8;\"/>\r\n   </g>\r\n   <g id=\"patch_99\">\r\n    <path d=\"M 604.23743 54.277028 \r\nL 604.23743 29.33848 \r\n\" style=\"fill:none;stroke:#000000;stroke-linecap:square;stroke-linejoin:miter;stroke-width:0.8;\"/>\r\n   </g>\r\n   <g id=\"patch_100\">\r\n    <path d=\"M 579.298883 54.277028 \r\nL 604.23743 54.277028 \r\n\" style=\"fill:none;stroke:#000000;stroke-linecap:square;stroke-linejoin:miter;stroke-width:0.8;\"/>\r\n   </g>\r\n   <g id=\"patch_101\">\r\n    <path d=\"M 579.298883 29.33848 \r\nL 604.23743 29.33848 \r\n\" style=\"fill:none;stroke:#000000;stroke-linecap:square;stroke-linejoin:miter;stroke-width:0.8;\"/>\r\n   </g>\r\n   <g id=\"text_20\">\r\n    <!-- 6 -->\r\n    <g transform=\"translate(588.650838 20.877187)scale(0.18 -0.18)\">\r\n     <use xlink:href=\"#DejaVuSans-54\"/>\r\n    </g>\r\n   </g>\r\n  </g>\r\n  <g id=\"axes_21\">\r\n   <g id=\"patch_102\">\r\n    <path d=\"M 609.22514 54.277028 \r\nL 634.163687 54.277028 \r\nL 634.163687 29.33848 \r\nL 609.22514 29.33848 \r\nz\r\n\" style=\"fill:#ffffff;\"/>\r\n   </g>\r\n   <g clip-path=\"url(#pa7dfac1c2a)\">\r\n    <image height=\"25\" id=\"imagecc6d81aa59\" transform=\"scale(1 -1)translate(0 -25)\" width=\"25\" x=\"609.22514\" xlink:href=\"data:image/png;base64,\r\niVBORw0KGgoAAAANSUhEUgAAABkAAAAZCAYAAADE6YVjAAAABHNCSVQICAgIfAhkiAAAAo1JREFUSIntlb9L61AUx09uE+iPBFroIqLgIHTp4FI6SRALkTpK6+Kkg7hIl+IkuAnFQZyqLt36J4gUCi5urZM/GrAlUHRQqA3U/sr9vuFhIK15T3l0kfeBu9x77v2ccyAnAgDQhGGTFvyXfBvR7WA4HFKr1SLOub0nCALJskw+n+/fJLquU6VSoaenJyoWi9TpdOwzj8dDqqpSPB533PH7/ZRIJMjr9X5uwQg3NzeIx+MIBAJgjI0tr9cLRVEcKxQKQVVVZDIZNBoN9Pt9x5vC6HeSy+Vob2/PzlwURVIUhXZ2digcDjsSLJfLdHFxYbfUsiyampqik5MT0jSNJEn6vJLDw0MIggDGGDY3N3F/f4/n52cMBoPRUJimiWaziWazCV3Xkc1m4fP5sL29jVarZceNSU5PTx2tOjo6wsvLy6eSUXRdRyQSAWMMt7e37pJ6vY719XX4/X4wxiDLMpLJJK6urtDr9b4kCQaDqNVq7pJut4u7uzssLCzY1Xg8HsRiMTw8PLgKTNPE2dkZotEostks3t7e3CUfVKtVlEolTE9P2xXt7u7i9fV1LLbdbuPy8hKzs7OIxWKoVqvgnP9dwjkH5xzn5+dYWloCYwyhUAgHBwdot9uOuEKhgPn5eYiiiK2trbFEXCUf9Ho9GIYBTdNsUT6fx/v7O0zTxMbGBmZmZiBJElKpFAzDgGVZ35N8ZFuv16GqKhhjSCQSyOVyWFtbgyRJkGUZx8fHMAzD0aZvSQDAsixcX19jbm7OMQECgQAWFxcdLRzFdUCOMhwO6fHxkTqdDjH2e3iHw2Ha39+n1dVVUhTF9e6XJZxzCgaDlE6n7b2VlRVaXl4mUfzzM2OzaxL8nD/jz5H8AitbWIY2OMYmAAAAAElFTkSuQmCC\" y=\"-29.277028\"/>\r\n   </g>\r\n   <g id=\"matplotlib.axis_41\">\r\n    <g id=\"xtick_21\">\r\n     <g id=\"line2d_81\">\r\n      <g>\r\n       <use style=\"stroke:#000000;stroke-width:0.8;\" x=\"609.670471\" xlink:href=\"#m034dcb9cfc\" y=\"54.277028\"/>\r\n      </g>\r\n     </g>\r\n    </g>\r\n   </g>\r\n   <g id=\"matplotlib.axis_42\">\r\n    <g id=\"ytick_21\">\r\n     <g id=\"line2d_82\">\r\n      <g>\r\n       <use style=\"stroke:#000000;stroke-width:0.8;\" x=\"609.22514\" xlink:href=\"#mcd130c91b7\" y=\"29.783812\"/>\r\n      </g>\r\n     </g>\r\n    </g>\r\n   </g>\r\n   <g id=\"line2d_83\">\r\n    <path clip-path=\"url(#pa7dfac1c2a)\" d=\"M 609.22514 29.783812 \r\nL 634.163687 29.783812 \r\n\" style=\"fill:none;stroke:#1f77b4;stroke-linecap:square;stroke-width:1.5;\"/>\r\n   </g>\r\n   <g id=\"line2d_84\">\r\n    <path clip-path=\"url(#pa7dfac1c2a)\" d=\"M 609.670471 54.277028 \r\nL 609.670471 29.33848 \r\n\" style=\"fill:none;stroke:#1f77b4;stroke-linecap:square;stroke-width:1.5;\"/>\r\n   </g>\r\n   <g id=\"patch_103\">\r\n    <path d=\"M 609.22514 54.277028 \r\nL 609.22514 29.33848 \r\n\" style=\"fill:none;stroke:#000000;stroke-linecap:square;stroke-linejoin:miter;stroke-width:0.8;\"/>\r\n   </g>\r\n   <g id=\"patch_104\">\r\n    <path d=\"M 634.163687 54.277028 \r\nL 634.163687 29.33848 \r\n\" style=\"fill:none;stroke:#000000;stroke-linecap:square;stroke-linejoin:miter;stroke-width:0.8;\"/>\r\n   </g>\r\n   <g id=\"patch_105\">\r\n    <path d=\"M 609.22514 54.277028 \r\nL 634.163687 54.277028 \r\n\" style=\"fill:none;stroke:#000000;stroke-linecap:square;stroke-linejoin:miter;stroke-width:0.8;\"/>\r\n   </g>\r\n   <g id=\"patch_106\">\r\n    <path d=\"M 609.22514 29.33848 \r\nL 634.163687 29.33848 \r\n\" style=\"fill:none;stroke:#000000;stroke-linecap:square;stroke-linejoin:miter;stroke-width:0.8;\"/>\r\n   </g>\r\n   <g id=\"text_21\">\r\n    <!-- 0 -->\r\n    <g transform=\"translate(618.577095 20.877188)scale(0.18 -0.18)\">\r\n     <use xlink:href=\"#DejaVuSans-48\"/>\r\n    </g>\r\n   </g>\r\n  </g>\r\n  <g id=\"axes_22\">\r\n   <g id=\"patch_107\">\r\n    <path d=\"M 639.151397 54.277028 \r\nL 664.089944 54.277028 \r\nL 664.089944 29.33848 \r\nL 639.151397 29.33848 \r\nz\r\n\" style=\"fill:#ffffff;\"/>\r\n   </g>\r\n   <g clip-path=\"url(#paab1655566)\">\r\n    <image height=\"25\" id=\"image3edb751b12\" transform=\"scale(1 -1)translate(0 -25)\" width=\"25\" x=\"639.151397\" xlink:href=\"data:image/png;base64,\r\niVBORw0KGgoAAAANSUhEUgAAABkAAAAZCAYAAADE6YVjAAAABHNCSVQICAgIfAhkiAAAAfZJREFUSIntlb+q6kAQxmc28Q8qKiIIlpGAhWIt2gsWPoJW+g4i2FsEEZ/DStL5DLaCIloYTGcbhex3mpvguVdjPOfcW92BZYdNZn47++2wDAD0l01952cAdLvdyHEccl2XYrEYxWIxUtUXaRDSXNeFZVkwDAO6rkMIgW63C9M04ThOYGwoiJQSp9MJ/X4fyWQSQggwM4QQKBQK2G6334c4joPxeOwnvoeoqor1eh0YL8Jo4boubTYbYmZ/jZmJmUlKSYZhBMaHFv5X1Q+/6br+MxBv554PgJiZhBDUbre/D2FmUlXVr+R+ZmZSFCU4QRjhAWC/3/uiK4riz5FI5KXwbzfj734+n6d0Oh0YFwoipSTLsh7eruFwSKVS6eXuntr1esX5fMZ0OkWr1fKPy+uTXq+Hy+Xy8qifQna7HWazGTqdDojoUwN6/nK5hJTyaxCvwwuFAhRFATP7Yt+ParWK0+n0NcjxeEStVvMrICIw8x9DCIFGowHDMN6HSCkxmUyQSCQ+XddHV1hRFGSzWczn8/cgAGDbNiqVCjKZTGAlzIxisQjbtt+HeLZaraBpGlKplF9JLpeDpmkol8vIZrMYjUaBORgIfn4B0GazocViQYfDgYiI6vU6NZtNikajZJomDQYDisfjT3O8hPyEhXpP/kP+KeQDtNqXtSAf1OoAAAAASUVORK5CYII=\" y=\"-29.277028\"/>\r\n   </g>\r\n   <g id=\"matplotlib.axis_43\">\r\n    <g id=\"xtick_22\">\r\n     <g id=\"line2d_85\">\r\n      <g>\r\n       <use style=\"stroke:#000000;stroke-width:0.8;\" x=\"639.596728\" xlink:href=\"#m034dcb9cfc\" y=\"54.277028\"/>\r\n      </g>\r\n     </g>\r\n    </g>\r\n   </g>\r\n   <g id=\"matplotlib.axis_44\">\r\n    <g id=\"ytick_22\">\r\n     <g id=\"line2d_86\">\r\n      <g>\r\n       <use style=\"stroke:#000000;stroke-width:0.8;\" x=\"639.151397\" xlink:href=\"#mcd130c91b7\" y=\"29.783812\"/>\r\n      </g>\r\n     </g>\r\n    </g>\r\n   </g>\r\n   <g id=\"line2d_87\">\r\n    <path clip-path=\"url(#paab1655566)\" d=\"M 639.151397 29.783812 \r\nL 664.089944 29.783812 \r\n\" style=\"fill:none;stroke:#1f77b4;stroke-linecap:square;stroke-width:1.5;\"/>\r\n   </g>\r\n   <g id=\"line2d_88\">\r\n    <path clip-path=\"url(#paab1655566)\" d=\"M 639.596728 54.277028 \r\nL 639.596728 29.33848 \r\n\" style=\"fill:none;stroke:#1f77b4;stroke-linecap:square;stroke-width:1.5;\"/>\r\n   </g>\r\n   <g id=\"patch_108\">\r\n    <path d=\"M 639.151397 54.277028 \r\nL 639.151397 29.33848 \r\n\" style=\"fill:none;stroke:#000000;stroke-linecap:square;stroke-linejoin:miter;stroke-width:0.8;\"/>\r\n   </g>\r\n   <g id=\"patch_109\">\r\n    <path d=\"M 664.089944 54.277028 \r\nL 664.089944 29.33848 \r\n\" style=\"fill:none;stroke:#000000;stroke-linecap:square;stroke-linejoin:miter;stroke-width:0.8;\"/>\r\n   </g>\r\n   <g id=\"patch_110\">\r\n    <path d=\"M 639.151397 54.277028 \r\nL 664.089944 54.277028 \r\n\" style=\"fill:none;stroke:#000000;stroke-linecap:square;stroke-linejoin:miter;stroke-width:0.8;\"/>\r\n   </g>\r\n   <g id=\"patch_111\">\r\n    <path d=\"M 639.151397 29.33848 \r\nL 664.089944 29.33848 \r\n\" style=\"fill:none;stroke:#000000;stroke-linecap:square;stroke-linejoin:miter;stroke-width:0.8;\"/>\r\n   </g>\r\n   <g id=\"text_22\">\r\n    <!-- 8 -->\r\n    <g transform=\"translate(648.503352 20.877188)scale(0.18 -0.18)\">\r\n     <use xlink:href=\"#DejaVuSans-56\"/>\r\n    </g>\r\n   </g>\r\n  </g>\r\n  <g id=\"axes_23\">\r\n   <g id=\"patch_112\">\r\n    <path d=\"M 669.077654 54.277028 \r\nL 694.016201 54.277028 \r\nL 694.016201 29.33848 \r\nL 669.077654 29.33848 \r\nz\r\n\" style=\"fill:#ffffff;\"/>\r\n   </g>\r\n   <g clip-path=\"url(#pcd6e013486)\">\r\n    <image height=\"25\" id=\"image38d2bc7ffe\" transform=\"scale(1 -1)translate(0 -25)\" width=\"25\" x=\"669.077654\" xlink:href=\"data:image/png;base64,\r\niVBORw0KGgoAAAANSUhEUgAAABkAAAAZCAYAAADE6YVjAAAABHNCSVQICAgIfAhkiAAAAm1JREFUSIndlrFLI0Echd8m5xYiWQ1i0LAsWASULWIjgTTB2iogBAMB28TCRkRQbMXWwj9BO7EKAYs0Cwp2hmCwCZq4hCBIXBJWZuddJ1yTHU694l49v/mY983AaCSJH07kpwEA8Ctsge/76Ha7+Pj4wOTkJAzDwNTUFKLRqDqFIalWqzRNk8lkkrZts1wus9VqUQgRNvqZ0LouLy/heR729vawtbWF29tb7O/v4+XlBao6QyG2bUNKiVgshkqlgqOjI9zf36NWq0EI8T2QjY0NRCIR1Go1AMDq6iqWlpbQ7/e/7ySzs7PI5/NwHAeO42A4HGIwGCht/hkVcd1ul5ZlMZ/Pc2dnh7qus1qtKstXgvi+z5OTE+q6Tk3TmM1m+fT0RCmlEkTpMeq6jmKxiOXlZQBAJpPBzMwMNE1TaksJIoTA3d0dnp+foWka6vU6XNdVFh9al5SS7XabqVSK6XSaxWKRhmFwd3eX7+/vSnWFQoIg4OHhIROJBM/Pz9npdFgqlbiwsMCLiwsl+aEQz/NoWRYzmQxfX18ppWSj0WA6naZpmjw7O6Prul+DDIdDzs/PM5fL0fM8kqQQgtfX14zH4zQMg9vb22P3CBU/MTEBwzAgpfwUHY1Gsba2hoODA4xGIzw+Po6/BGEnCYKAx8fHjMfjPD09/cOB7/tMpVKcnp7mzc3N39dFkm9vb8zlcrRtm1dXV3Rdl4PBgA8PD0wkElxZWWG9Xv8aRAhBx3G4vr5Oy7K4uLjIQqHAbDbLubk5ttvtsfMaqfaigiBAr9dDq9VCs9mE53kAANM0sbm5OXZWGfKV/JOPxP8D+Q0ZyeikUbn93gAAAABJRU5ErkJggg==\" y=\"-29.277028\"/>\r\n   </g>\r\n   <g id=\"matplotlib.axis_45\">\r\n    <g id=\"xtick_23\">\r\n     <g id=\"line2d_89\">\r\n      <g>\r\n       <use style=\"stroke:#000000;stroke-width:0.8;\" x=\"669.522985\" xlink:href=\"#m034dcb9cfc\" y=\"54.277028\"/>\r\n      </g>\r\n     </g>\r\n    </g>\r\n   </g>\r\n   <g id=\"matplotlib.axis_46\">\r\n    <g id=\"ytick_23\">\r\n     <g id=\"line2d_90\">\r\n      <g>\r\n       <use style=\"stroke:#000000;stroke-width:0.8;\" x=\"669.077654\" xlink:href=\"#mcd130c91b7\" y=\"29.783812\"/>\r\n      </g>\r\n     </g>\r\n    </g>\r\n   </g>\r\n   <g id=\"line2d_91\">\r\n    <path clip-path=\"url(#pcd6e013486)\" d=\"M 669.077654 29.783812 \r\nL 694.016201 29.783812 \r\n\" style=\"fill:none;stroke:#1f77b4;stroke-linecap:square;stroke-width:1.5;\"/>\r\n   </g>\r\n   <g id=\"line2d_92\">\r\n    <path clip-path=\"url(#pcd6e013486)\" d=\"M 669.522985 54.277028 \r\nL 669.522985 29.33848 \r\n\" style=\"fill:none;stroke:#1f77b4;stroke-linecap:square;stroke-width:1.5;\"/>\r\n   </g>\r\n   <g id=\"patch_113\">\r\n    <path d=\"M 669.077654 54.277028 \r\nL 669.077654 29.33848 \r\n\" style=\"fill:none;stroke:#000000;stroke-linecap:square;stroke-linejoin:miter;stroke-width:0.8;\"/>\r\n   </g>\r\n   <g id=\"patch_114\">\r\n    <path d=\"M 694.016201 54.277028 \r\nL 694.016201 29.33848 \r\n\" style=\"fill:none;stroke:#000000;stroke-linecap:square;stroke-linejoin:miter;stroke-width:0.8;\"/>\r\n   </g>\r\n   <g id=\"patch_115\">\r\n    <path d=\"M 669.077654 54.277028 \r\nL 694.016201 54.277028 \r\n\" style=\"fill:none;stroke:#000000;stroke-linecap:square;stroke-linejoin:miter;stroke-width:0.8;\"/>\r\n   </g>\r\n   <g id=\"patch_116\">\r\n    <path d=\"M 669.077654 29.33848 \r\nL 694.016201 29.33848 \r\n\" style=\"fill:none;stroke:#000000;stroke-linecap:square;stroke-linejoin:miter;stroke-width:0.8;\"/>\r\n   </g>\r\n   <g id=\"text_23\">\r\n    <!-- 8 -->\r\n    <g transform=\"translate(678.429609 20.877188)scale(0.18 -0.18)\">\r\n     <use xlink:href=\"#DejaVuSans-56\"/>\r\n    </g>\r\n   </g>\r\n  </g>\r\n  <g id=\"axes_24\">\r\n   <g id=\"patch_117\">\r\n    <path d=\"M 699.003911 54.277028 \r\nL 723.942458 54.277028 \r\nL 723.942458 29.33848 \r\nL 699.003911 29.33848 \r\nz\r\n\" style=\"fill:#ffffff;\"/>\r\n   </g>\r\n   <g clip-path=\"url(#p1b63abdda8)\">\r\n    <image height=\"25\" id=\"image9166b4fbe6\" transform=\"scale(1 -1)translate(0 -25)\" width=\"25\" x=\"699.003911\" xlink:href=\"data:image/png;base64,\r\niVBORw0KGgoAAAANSUhEUgAAABkAAAAZCAYAAADE6YVjAAAABHNCSVQICAgIfAhkiAAAAp1JREFUSIndlr9L61AUx783MRVti0s1oNBFEFFKwc0WxMVNXEQUF1F0aN26+De4FkcHh/4D2esgDg6CiGOmDmKhIqmSGpvrzfcNQsBn0xSf7w3vwFnuj/PJued8DxEkib9s2t8GAMDQIIeklHh8fMTz8zNSqRRM00QikRicwhgLgoD1ep2FQoFCCObzeVarVdq2TSll3HWSZCzk/f2dOzs7FEJ88mKxyJOTE7quyyAIfg4yPT3Nvb09zs3NUdd1plIpbm1t8eXl5WcghmHw4OCAzWaTjUaDq6ur1HWdmqaxVCrx9fU1MkZsdwkhsLa2hvHxcUgpMTo6imw2i/39faTTaZBErVZDrVYDo9QQlwlJKqXoOA6bzWa45rout7e3qWkahRAsFArsdrvfy8R1XbTbbQwPDyOTyYTryWQSlUoFQ0MfKlBKRcboqxPf93F0dISrqyvMz89jc3MTi4uLGBsbQxAE8Dwv7hvjId1uF5Zl4eHhAbe3t7AsC+vr69jY2ECr1cL19XWYQTqdjg7Urxa+79OyLK6srHBycpJCCBqGwUwmw0QiEWpmZGSEx8fHVEr1jBNbeKUUG40GLy4uWC6XaZrmJ1Hqus5qtcqnp6fIGAN1F/mhl3a7zbOzM2az2RCSy+X+XIy/m+d5PD095cTEBIUQTCaT34fc39/z/Pyc9XqdjuN82vN9n6VSiYZhUNM0ViqVvsOyJ8TzPC4tLYVPMjs7y7u7O3Y6ndAPDw/D4pum2Xes9Gxhx3EAfIwUkrBtG8ViMRQeAHQ6HUgpB9JJ5HNdXl5yd3eX+XyeuVyOU1NTBPDFZ2ZmWC6X+fb2FpmJIHtPNZKQUsK2bSil0Gq1cHNz8+Xc8vIyFhYWYBhGZCKRkJ+0f/Ij8f9AfgHowVFPZKx+ygAAAABJRU5ErkJggg==\" y=\"-29.277028\"/>\r\n   </g>\r\n   <g id=\"matplotlib.axis_47\">\r\n    <g id=\"xtick_24\">\r\n     <g id=\"line2d_93\">\r\n      <g>\r\n       <use style=\"stroke:#000000;stroke-width:0.8;\" x=\"699.449242\" xlink:href=\"#m034dcb9cfc\" y=\"54.277028\"/>\r\n      </g>\r\n     </g>\r\n    </g>\r\n   </g>\r\n   <g id=\"matplotlib.axis_48\">\r\n    <g id=\"ytick_24\">\r\n     <g id=\"line2d_94\">\r\n      <g>\r\n       <use style=\"stroke:#000000;stroke-width:0.8;\" x=\"699.003911\" xlink:href=\"#mcd130c91b7\" y=\"29.783812\"/>\r\n      </g>\r\n     </g>\r\n    </g>\r\n   </g>\r\n   <g id=\"line2d_95\">\r\n    <path clip-path=\"url(#p1b63abdda8)\" d=\"M 699.003911 29.783812 \r\nL 723.942458 29.783812 \r\n\" style=\"fill:none;stroke:#1f77b4;stroke-linecap:square;stroke-width:1.5;\"/>\r\n   </g>\r\n   <g id=\"line2d_96\">\r\n    <path clip-path=\"url(#p1b63abdda8)\" d=\"M 699.449242 54.277028 \r\nL 699.449242 29.33848 \r\n\" style=\"fill:none;stroke:#1f77b4;stroke-linecap:square;stroke-width:1.5;\"/>\r\n   </g>\r\n   <g id=\"patch_118\">\r\n    <path d=\"M 699.003911 54.277028 \r\nL 699.003911 29.33848 \r\n\" style=\"fill:none;stroke:#000000;stroke-linecap:square;stroke-linejoin:miter;stroke-width:0.8;\"/>\r\n   </g>\r\n   <g id=\"patch_119\">\r\n    <path d=\"M 723.942458 54.277028 \r\nL 723.942458 29.33848 \r\n\" style=\"fill:none;stroke:#000000;stroke-linecap:square;stroke-linejoin:miter;stroke-width:0.8;\"/>\r\n   </g>\r\n   <g id=\"patch_120\">\r\n    <path d=\"M 699.003911 54.277028 \r\nL 723.942458 54.277028 \r\n\" style=\"fill:none;stroke:#000000;stroke-linecap:square;stroke-linejoin:miter;stroke-width:0.8;\"/>\r\n   </g>\r\n   <g id=\"patch_121\">\r\n    <path d=\"M 699.003911 29.33848 \r\nL 723.942458 29.33848 \r\n\" style=\"fill:none;stroke:#000000;stroke-linecap:square;stroke-linejoin:miter;stroke-width:0.8;\"/>\r\n   </g>\r\n   <g id=\"text_24\">\r\n    <!-- 3 -->\r\n    <g transform=\"translate(708.355866 20.877188)scale(0.18 -0.18)\">\r\n     <use xlink:href=\"#DejaVuSans-51\"/>\r\n    </g>\r\n   </g>\r\n  </g>\r\n  <g id=\"axes_25\">\r\n   <g id=\"patch_122\">\r\n    <path d=\"M 728.930168 54.277028 \r\nL 753.868715 54.277028 \r\nL 753.868715 29.33848 \r\nL 728.930168 29.33848 \r\nz\r\n\" style=\"fill:#ffffff;\"/>\r\n   </g>\r\n   <g clip-path=\"url(#p931235ddbe)\">\r\n    <image height=\"25\" id=\"image0b4df3bdca\" transform=\"scale(1 -1)translate(0 -25)\" width=\"25\" x=\"728.930168\" xlink:href=\"data:image/png;base64,\r\niVBORw0KGgoAAAANSUhEUgAAABkAAAAZCAYAAADE6YVjAAAABHNCSVQICAgIfAhkiAAAAqBJREFUSIndliFPK0EUhc/OzLZlKaINDlUDiAZoICBwGIJCVICAkCAIiPY/EAwIkPyNWhQGUoNpRQ0CQ6BkYZNCNttuuzvnqW0eoaV98HjineSaTeZ+e++cOzMGSeKHJX4a8M8gqtdHkmg0Guh0Omi323AcB77vY2ZmBolE4u9Ams0mjo+PcX9/D8/zcHt7C9/3USgUsLKygkwmA8uyIKUcjsIeqtfrzGazlFJ2wzRNplIpzs3NsVgs0rZtaq17Lf+gnpBms8nFxcV3kCiEELQsi0tLS6zVakOBekK01ry8vOTa2hpN0+T8/Dw3Nze5urrKdDpNIQSllDw4OGCr1foaJAK5rstKpULHcRgEAT3P48nJCZPJJKWUVErx6OiI7Xb7a5BIYRiyXC7z+vqab29vtG2bxWKRIyMjlFIyFouxVqt9mqOnu35Xq9XC4eEhrq6uEIvFsLW1Bd/3u85SSkGIAeM2qJJGo8GJiQkKISiE4OjoKMfGxqiUohCCs7OzdBzn0xwDJ96yLOzt7XX/1vM8uK4LrTUAIJfLIZ1Of68SrTVt2+bp6Smz2Wy3osjSuVxuYCUDIRHI8zze3NxwY2ODyWSSSilKKWlZFqvVKsMw/B4kUmTjh4cHbm9vM5FIUErJ6elplsvl70HCMOTd3R3Pz8/5/PxMrTVfX1+5vr5OpRSVUszn8+x0Oj3XD3XUh2GIi4sLFAoF7O/vo1KpwHVd5PN5KKVAEk9PT2Cf+2/gnACAYRhIpVKIx+MolUoolUqIx+NYWFhAEASDEwy7Hy8vL9zd3eX4+Pg7d0WxvLzc93gZGhIEAR8fH3l2dsbJyUmaptm1s2ma3NnZ6bsnBvs1so+iS6xer3dbpZTC1NQUMpkMDMP42O4/hXxF/89r5Rd5s0R9Kulk7AAAAABJRU5ErkJggg==\" y=\"-29.277028\"/>\r\n   </g>\r\n   <g id=\"matplotlib.axis_49\">\r\n    <g id=\"xtick_25\">\r\n     <g id=\"line2d_97\">\r\n      <g>\r\n       <use style=\"stroke:#000000;stroke-width:0.8;\" x=\"729.375499\" xlink:href=\"#m034dcb9cfc\" y=\"54.277028\"/>\r\n      </g>\r\n     </g>\r\n    </g>\r\n   </g>\r\n   <g id=\"matplotlib.axis_50\">\r\n    <g id=\"ytick_25\">\r\n     <g id=\"line2d_98\">\r\n      <g>\r\n       <use style=\"stroke:#000000;stroke-width:0.8;\" x=\"728.930168\" xlink:href=\"#mcd130c91b7\" y=\"29.783812\"/>\r\n      </g>\r\n     </g>\r\n    </g>\r\n   </g>\r\n   <g id=\"line2d_99\">\r\n    <path clip-path=\"url(#p931235ddbe)\" d=\"M 728.930168 29.783812 \r\nL 753.868715 29.783812 \r\n\" style=\"fill:none;stroke:#1f77b4;stroke-linecap:square;stroke-width:1.5;\"/>\r\n   </g>\r\n   <g id=\"line2d_100\">\r\n    <path clip-path=\"url(#p931235ddbe)\" d=\"M 729.375499 54.277028 \r\nL 729.375499 29.33848 \r\n\" style=\"fill:none;stroke:#1f77b4;stroke-linecap:square;stroke-width:1.5;\"/>\r\n   </g>\r\n   <g id=\"patch_123\">\r\n    <path d=\"M 728.930168 54.277028 \r\nL 728.930168 29.33848 \r\n\" style=\"fill:none;stroke:#000000;stroke-linecap:square;stroke-linejoin:miter;stroke-width:0.8;\"/>\r\n   </g>\r\n   <g id=\"patch_124\">\r\n    <path d=\"M 753.868715 54.277028 \r\nL 753.868715 29.33848 \r\n\" style=\"fill:none;stroke:#000000;stroke-linecap:square;stroke-linejoin:miter;stroke-width:0.8;\"/>\r\n   </g>\r\n   <g id=\"patch_125\">\r\n    <path d=\"M 728.930168 54.277028 \r\nL 753.868715 54.277028 \r\n\" style=\"fill:none;stroke:#000000;stroke-linecap:square;stroke-linejoin:miter;stroke-width:0.8;\"/>\r\n   </g>\r\n   <g id=\"patch_126\">\r\n    <path d=\"M 728.930168 29.33848 \r\nL 753.868715 29.33848 \r\n\" style=\"fill:none;stroke:#000000;stroke-linecap:square;stroke-linejoin:miter;stroke-width:0.8;\"/>\r\n   </g>\r\n   <g id=\"text_25\">\r\n    <!-- 3 -->\r\n    <g transform=\"translate(738.282123 20.877188)scale(0.18 -0.18)\">\r\n     <use xlink:href=\"#DejaVuSans-51\"/>\r\n    </g>\r\n   </g>\r\n  </g>\r\n  <g id=\"axes_26\">\r\n   <g id=\"patch_127\">\r\n    <path d=\"M 758.856425 54.277028 \r\nL 783.794972 54.277028 \r\nL 783.794972 29.33848 \r\nL 758.856425 29.33848 \r\nz\r\n\" style=\"fill:#ffffff;\"/>\r\n   </g>\r\n   <g clip-path=\"url(#pcc50eb4ea7)\">\r\n    <image height=\"25\" id=\"image497b7e74cf\" transform=\"scale(1 -1)translate(0 -25)\" width=\"25\" x=\"758.856425\" xlink:href=\"data:image/png;base64,\r\niVBORw0KGgoAAAANSUhEUgAAABkAAAAZCAYAAADE6YVjAAAABHNCSVQICAgIfAhkiAAAAlNJREFUSIntlDFIalEcxj9fSiTYRV0uhCBKoVOYhFMQ1JJLg0tLs7MQNLsIrg61pVvjpUFwqCEnh1psEIQEJVs08Ij3XjU9X8PjQY+X6eu9+6b3red/vh/f+Q5/G0nCYn377NAwDPT7fWsh+Xweu7u70HXdOkg8Hke320WtVrMO4vf7sbe3B03TMJ1Ov07hHJXLZQaDQVar1XmjM/VpEgDY3t7G+vo6zs7OYJrm302iaRrr9TqllKxWq9zY2KCmaZxOpzRNk8/Pz2y1WhRCzE0yE3J5eclMJkMpJYfDIbPZLGOxGLPZLPf396koCl0uF9fW1hiJRHh4eMiHh4ffg7y+vrJQKFDXdUop+fT0xFgsRpvNxp2dHV5fX/Pl5YW9Xo+9Xo9CCA6Hww+9ZnZit9vh8/lwcnKCer2Ox8dHjEYjqKqKaDSKra0teDweKIoCRVGwurqK5eXlD71s5Oy1MplMcHFxgWKxiMFgAFVVcXR0hFKphM3NTRwfH2NlZeXrxb9/tlqtxvv7e7ZaLUopeXt7y0gkwpubG0op51nM7uQzGYbB8/NzHhwcsNFoWAP5AUqn00wkEux2u9ZASLLdbjMcDjOVStEwDGsgUkpWKhV6PB5eXV3NnLMvsBQAAFJKjMdjSCnR7/dhmibcbjcURYHX68Xp6SkCgQDC4TCWlpYW/8LvJYRAJpNBs9mEEAK6rsMwDIzHYwwGAwghEI1GkcvlEAqFfrq7cBKn04lkMgkA8Pl8cDgc0HUdpmmi0+ng7u7uu6H9V8uFk/yJ5q76/5B/DnkD42zAM8wSGPsAAAAASUVORK5CYII=\" y=\"-29.277028\"/>\r\n   </g>\r\n   <g id=\"matplotlib.axis_51\">\r\n    <g id=\"xtick_26\">\r\n     <g id=\"line2d_101\">\r\n      <g>\r\n       <use style=\"stroke:#000000;stroke-width:0.8;\" x=\"759.301756\" xlink:href=\"#m034dcb9cfc\" y=\"54.277028\"/>\r\n      </g>\r\n     </g>\r\n    </g>\r\n   </g>\r\n   <g id=\"matplotlib.axis_52\">\r\n    <g id=\"ytick_26\">\r\n     <g id=\"line2d_102\">\r\n      <g>\r\n       <use style=\"stroke:#000000;stroke-width:0.8;\" x=\"758.856425\" xlink:href=\"#mcd130c91b7\" y=\"29.783812\"/>\r\n      </g>\r\n     </g>\r\n    </g>\r\n   </g>\r\n   <g id=\"line2d_103\">\r\n    <path clip-path=\"url(#pcc50eb4ea7)\" d=\"M 758.856425 29.783812 \r\nL 783.794972 29.783812 \r\n\" style=\"fill:none;stroke:#1f77b4;stroke-linecap:square;stroke-width:1.5;\"/>\r\n   </g>\r\n   <g id=\"line2d_104\">\r\n    <path clip-path=\"url(#pcc50eb4ea7)\" d=\"M 759.301756 54.277028 \r\nL 759.301756 29.33848 \r\n\" style=\"fill:none;stroke:#1f77b4;stroke-linecap:square;stroke-width:1.5;\"/>\r\n   </g>\r\n   <g id=\"patch_128\">\r\n    <path d=\"M 758.856425 54.277028 \r\nL 758.856425 29.33848 \r\n\" style=\"fill:none;stroke:#000000;stroke-linecap:square;stroke-linejoin:miter;stroke-width:0.8;\"/>\r\n   </g>\r\n   <g id=\"patch_129\">\r\n    <path d=\"M 783.794972 54.277028 \r\nL 783.794972 29.33848 \r\n\" style=\"fill:none;stroke:#000000;stroke-linecap:square;stroke-linejoin:miter;stroke-width:0.8;\"/>\r\n   </g>\r\n   <g id=\"patch_130\">\r\n    <path d=\"M 758.856425 54.277028 \r\nL 783.794972 54.277028 \r\n\" style=\"fill:none;stroke:#000000;stroke-linecap:square;stroke-linejoin:miter;stroke-width:0.8;\"/>\r\n   </g>\r\n   <g id=\"patch_131\">\r\n    <path d=\"M 758.856425 29.33848 \r\nL 783.794972 29.33848 \r\n\" style=\"fill:none;stroke:#000000;stroke-linecap:square;stroke-linejoin:miter;stroke-width:0.8;\"/>\r\n   </g>\r\n   <g id=\"text_26\">\r\n    <!-- 7 -->\r\n    <g transform=\"translate(768.20838 20.877188)scale(0.18 -0.18)\">\r\n     <use xlink:href=\"#DejaVuSans-55\"/>\r\n    </g>\r\n   </g>\r\n  </g>\r\n  <g id=\"axes_27\">\r\n   <g id=\"patch_132\">\r\n    <path d=\"M 788.782682 54.277028 \r\nL 813.721229 54.277028 \r\nL 813.721229 29.33848 \r\nL 788.782682 29.33848 \r\nz\r\n\" style=\"fill:#ffffff;\"/>\r\n   </g>\r\n   <g clip-path=\"url(#p80058c62c9)\">\r\n    <image height=\"25\" id=\"image21780dd7c2\" transform=\"scale(1 -1)translate(0 -25)\" width=\"25\" x=\"788.782682\" xlink:href=\"data:image/png;base64,\r\niVBORw0KGgoAAAANSUhEUgAAABkAAAAZCAYAAADE6YVjAAAABHNCSVQICAgIfAhkiAAAAd1JREFUSIndlr3OaUEUht/ZYwQRdmJXGhHRUYhGLVFKVBqdm6B0AW5BotKoSBSuQWOHhAbJvoAtQghh3q8i5992Pt8pzpNMNyvPrFmzZkaQJL4Y46sFAOB7NoEklsslhBAwDAOhUAiWZSEQCHi38AmXy4VSSiqlmM/n2el06Lrus7DveJrJt2QyGVSrVYTD4VfCvNVEaw2tNSaTCRaLxUsCTxIpJfr9PoQQWK/XmM1m75cIIZBKpSCEwO12w3w+x+FweK/kDkmQxGg0guM4L0k8F/7es5VKBYlE4iWJp0yUUohEIjAMA91uF8PhEJfL5X0SIQTi8Tjq9Tqi0Shc18VgMMDxePQsedqMJKm15mazYalUopSS+Xye0+mUt9vNUzN6kpDk+Xxmr9ejZVkMBoMsFou0bZta6/dJSNK2bSYSCfp8PiqlmM1muVgs3itxXZedToe5XI5Kqcd9Ztv2+yRaa+52O9ZqNUopH6Pdbv8x7qX3RAgBpRTS6TRM04RhGBBCwHEc7Pf7Ry/91en6ke12y2azyVgsRiklw+EwW60WT6fT5zO5Y5omGo0GCoUCAOB6vWK1WuF6vf56B/jbHJ8zHo9h2zb8fj/K5TKSySQM4+d1f0rilX/ykfh/JB9gsdT2QgWvOAAAAABJRU5ErkJggg==\" y=\"-29.277028\"/>\r\n   </g>\r\n   <g id=\"matplotlib.axis_53\">\r\n    <g id=\"xtick_27\">\r\n     <g id=\"line2d_105\">\r\n      <g>\r\n       <use style=\"stroke:#000000;stroke-width:0.8;\" x=\"789.228013\" xlink:href=\"#m034dcb9cfc\" y=\"54.277028\"/>\r\n      </g>\r\n     </g>\r\n    </g>\r\n   </g>\r\n   <g id=\"matplotlib.axis_54\">\r\n    <g id=\"ytick_27\">\r\n     <g id=\"line2d_106\">\r\n      <g>\r\n       <use style=\"stroke:#000000;stroke-width:0.8;\" x=\"788.782682\" xlink:href=\"#mcd130c91b7\" y=\"29.783812\"/>\r\n      </g>\r\n     </g>\r\n    </g>\r\n   </g>\r\n   <g id=\"line2d_107\">\r\n    <path clip-path=\"url(#p80058c62c9)\" d=\"M 788.782682 29.783812 \r\nL 813.721229 29.783812 \r\n\" style=\"fill:none;stroke:#1f77b4;stroke-linecap:square;stroke-width:1.5;\"/>\r\n   </g>\r\n   <g id=\"line2d_108\">\r\n    <path clip-path=\"url(#p80058c62c9)\" d=\"M 789.228013 54.277028 \r\nL 789.228013 29.33848 \r\n\" style=\"fill:none;stroke:#1f77b4;stroke-linecap:square;stroke-width:1.5;\"/>\r\n   </g>\r\n   <g id=\"patch_133\">\r\n    <path d=\"M 788.782682 54.277028 \r\nL 788.782682 29.33848 \r\n\" style=\"fill:none;stroke:#000000;stroke-linecap:square;stroke-linejoin:miter;stroke-width:0.8;\"/>\r\n   </g>\r\n   <g id=\"patch_134\">\r\n    <path d=\"M 813.721229 54.277028 \r\nL 813.721229 29.33848 \r\n\" style=\"fill:none;stroke:#000000;stroke-linecap:square;stroke-linejoin:miter;stroke-width:0.8;\"/>\r\n   </g>\r\n   <g id=\"patch_135\">\r\n    <path d=\"M 788.782682 54.277028 \r\nL 813.721229 54.277028 \r\n\" style=\"fill:none;stroke:#000000;stroke-linecap:square;stroke-linejoin:miter;stroke-width:0.8;\"/>\r\n   </g>\r\n   <g id=\"patch_136\">\r\n    <path d=\"M 788.782682 29.33848 \r\nL 813.721229 29.33848 \r\n\" style=\"fill:none;stroke:#000000;stroke-linecap:square;stroke-linejoin:miter;stroke-width:0.8;\"/>\r\n   </g>\r\n   <g id=\"text_27\">\r\n    <!-- 1 -->\r\n    <g transform=\"translate(798.134637 20.877188)scale(0.18 -0.18)\">\r\n     <use xlink:href=\"#DejaVuSans-49\"/>\r\n    </g>\r\n   </g>\r\n  </g>\r\n  <g id=\"axes_28\">\r\n   <g id=\"patch_137\">\r\n    <path d=\"M 818.708939 54.277028 \r\nL 843.647486 54.277028 \r\nL 843.647486 29.33848 \r\nL 818.708939 29.33848 \r\nz\r\n\" style=\"fill:#ffffff;\"/>\r\n   </g>\r\n   <g clip-path=\"url(#pd6d6f1982f)\">\r\n    <image height=\"25\" id=\"image7dbc1bf223\" transform=\"scale(1 -1)translate(0 -25)\" width=\"25\" x=\"818.708939\" xlink:href=\"data:image/png;base64,\r\niVBORw0KGgoAAAANSUhEUgAAABkAAAAZCAYAAADE6YVjAAAABHNCSVQICAgIfAhkiAAAAl5JREFUSIntlb9L62AUhp98JJImKIaCYHGoirgIugiCsw4OUsEfuDn5DwgObv4Bbm66uDiLg4NOojioi90UitIi2KFWiYM1yXccLvTeXrmJ5rpcuO+Y9/3y5Jwk5xgiInxRYRgSRRGGYWBZFoZhxObVVwEAu7u75PN58vk819fXyQckhcrlsqysrIjrujIyMiL1ej02nwoiIlKpVCSXy4lpmrK2thabTdUuAM/zGB4eRkS4urqKzSZCfN+nVCrx/Pzcct1xHAYGBlAq+TljE77vs7y8TKFQYHNzkyAIml4QBNTrdQD6+/tjIWaceX5+zt7eHpZl4Xkepvkz/vj4yMnJCQCLi4vpKxkbG8PzPKIoolqtEoZh09NaNytra2tLD3Fdl/X1dRqNBjs7O5ydnTW9+/v7lvalhgAsLCyQzWZ5enri8vKyeeODgwNeXl6+B+I4DpZl4fs+xWKRt7e3Fr+9vZ3Ozs6/g/yqSqXC7e1tS5v6+vro6emJPRf7df2ui4sLVldXKRQKFItFAKamphJffOJYCcNQlpaWRCkltm1LV1eXdHd3i+u6Mj4+nji3RBJmVxAE8vr6Ktvb26KUkvn5ebm5uZHDw0PZ2tqSUqkkWutEiCHy531ydHTExsYGmUyG/f19BgcHmZ2dJZPJoLXGNE0Mw8C2bWZmZsjlciilPuyXWMjDwwOTk5OUy2W01jQaDaIowrZtTNNEaw2AUoqOjg7m5uaYnp5mdHQUx3E+B4Eff/bx8TG1Wo3T01Pu7u6YmJigt7f3QzabzTI0NITrup+v5LuUep/8h/zbkHcbOiMRbwirFwAAAABJRU5ErkJggg==\" y=\"-29.277028\"/>\r\n   </g>\r\n   <g id=\"matplotlib.axis_55\">\r\n    <g id=\"xtick_28\">\r\n     <g id=\"line2d_109\">\r\n      <g>\r\n       <use style=\"stroke:#000000;stroke-width:0.8;\" x=\"819.15427\" xlink:href=\"#m034dcb9cfc\" y=\"54.277028\"/>\r\n      </g>\r\n     </g>\r\n    </g>\r\n   </g>\r\n   <g id=\"matplotlib.axis_56\">\r\n    <g id=\"ytick_28\">\r\n     <g id=\"line2d_110\">\r\n      <g>\r\n       <use style=\"stroke:#000000;stroke-width:0.8;\" x=\"818.708939\" xlink:href=\"#mcd130c91b7\" y=\"29.783812\"/>\r\n      </g>\r\n     </g>\r\n    </g>\r\n   </g>\r\n   <g id=\"line2d_111\">\r\n    <path clip-path=\"url(#pd6d6f1982f)\" d=\"M 818.708939 29.783812 \r\nL 843.647486 29.783812 \r\n\" style=\"fill:none;stroke:#1f77b4;stroke-linecap:square;stroke-width:1.5;\"/>\r\n   </g>\r\n   <g id=\"line2d_112\">\r\n    <path clip-path=\"url(#pd6d6f1982f)\" d=\"M 819.15427 54.277028 \r\nL 819.15427 29.33848 \r\n\" style=\"fill:none;stroke:#1f77b4;stroke-linecap:square;stroke-width:1.5;\"/>\r\n   </g>\r\n   <g id=\"patch_138\">\r\n    <path d=\"M 818.708939 54.277028 \r\nL 818.708939 29.33848 \r\n\" style=\"fill:none;stroke:#000000;stroke-linecap:square;stroke-linejoin:miter;stroke-width:0.8;\"/>\r\n   </g>\r\n   <g id=\"patch_139\">\r\n    <path d=\"M 843.647486 54.277028 \r\nL 843.647486 29.33848 \r\n\" style=\"fill:none;stroke:#000000;stroke-linecap:square;stroke-linejoin:miter;stroke-width:0.8;\"/>\r\n   </g>\r\n   <g id=\"patch_140\">\r\n    <path d=\"M 818.708939 54.277028 \r\nL 843.647486 54.277028 \r\n\" style=\"fill:none;stroke:#000000;stroke-linecap:square;stroke-linejoin:miter;stroke-width:0.8;\"/>\r\n   </g>\r\n   <g id=\"patch_141\">\r\n    <path d=\"M 818.708939 29.33848 \r\nL 843.647486 29.33848 \r\n\" style=\"fill:none;stroke:#000000;stroke-linecap:square;stroke-linejoin:miter;stroke-width:0.8;\"/>\r\n   </g>\r\n   <g id=\"text_28\">\r\n    <!-- 5 -->\r\n    <g transform=\"translate(828.060894 20.877188)scale(0.18 -0.18)\">\r\n     <use xlink:href=\"#DejaVuSans-53\"/>\r\n    </g>\r\n   </g>\r\n  </g>\r\n  <g id=\"axes_29\">\r\n   <g id=\"patch_142\">\r\n    <path d=\"M 848.635196 54.277028 \r\nL 873.573743 54.277028 \r\nL 873.573743 29.33848 \r\nL 848.635196 29.33848 \r\nz\r\n\" style=\"fill:#ffffff;\"/>\r\n   </g>\r\n   <g clip-path=\"url(#peaeed933e1)\">\r\n    <image height=\"25\" id=\"image2aa6e99e6f\" transform=\"scale(1 -1)translate(0 -25)\" width=\"25\" x=\"848.635196\" xlink:href=\"data:image/png;base64,\r\niVBORw0KGgoAAAANSUhEUgAAABkAAAAZCAYAAADE6YVjAAAABHNCSVQICAgIfAhkiAAAAvNJREFUSInd1r9L42AcBvDnTUzSpKlDFaTVCirR4uov6CDqoqODWwcdXNwcnPwTBEcH8Q9QEEVE0F1QKAiKqBQEwYISKKJto9W0eW44Lly59qIcd8N9IUt43+cT3rzfl1eQJP5ySX8b+GdI02cGVatVOI6DXC6HXC6H9vZ2NDc3IxqNIhKJ/Dny8fGBzc1NnJyc4PT0FNfX1+jr60MikUB/fz/m5+dhWRYURWkcwt/Uy8sLFxcXGY1GKYTwHwAEQEVRODAwwOXlZT4/PzfM+S2yurrKUChUA4TDYaqqSgD+O8MwODc3x2w2+zXEtm2OjIz4QaZpcmFhgWdnZzw8PGR3d3cNbhgGl5aWWC6XP4+sra3RMAwKIdjU1MR0Os3X11d6nkfHcXhzc8PR0VFKkuRDlmXx+PiYnufVZNXdwtVqFff396hUKgCASCSCdDoNXdchhIBhGEgmk9jd3cXY2Bgk6XvMw8MDMpkMXNetyWuIaJrmTyaJUqn0y7iWlhZsbW1haGgIAPD+/o5MJoN8Ph+MvL29oVgswvM8kIQsy4jFYnV3Z2trK2ZmZkASlUoFmqYhFAoFI6ZpwjAMAIAQAvF4HJ2dnXUR27ZxcXEBAAiFQujq6oKu68GIJEnQdd1frmKxiLu7u7pIPp/H3t4ehBAIh8Po7e2FpmnBiOd5eHp6gud5AIBCoeBvgp+rXC5jZWXF/1+WZWF4eNj/uB9V91iRZRkdHR2QZRmu66JYLGJjYwOmaSKRSCAajYIkDg4OsLOzAwAwDANTU1P1l7VRnxwdHbGnp8fvAUmSqKoqdV3nxMQEU6mU30dCCCaTSd7e3n6t40ny/PyciqLUdPbPZ9cPPB6Pc319na7rfh25urri+Ph4QyQWi3FycpLZbLYhEIiQ5OXlJWOx2C+Iqqrc399nqVQKighGHMfh9vY2p6enmUql/GN/dnb2UwBJCjL4IlGtVmHbNhzHwePjIwqFAgYHB9HW1gYhRNB0fAr50/p/bivfAB53O9Zzo1JAAAAAAElFTkSuQmCC\" y=\"-29.277028\"/>\r\n   </g>\r\n   <g id=\"matplotlib.axis_57\">\r\n    <g id=\"xtick_29\">\r\n     <g id=\"line2d_113\">\r\n      <g>\r\n       <use style=\"stroke:#000000;stroke-width:0.8;\" x=\"849.080527\" xlink:href=\"#m034dcb9cfc\" y=\"54.277028\"/>\r\n      </g>\r\n     </g>\r\n    </g>\r\n   </g>\r\n   <g id=\"matplotlib.axis_58\">\r\n    <g id=\"ytick_29\">\r\n     <g id=\"line2d_114\">\r\n      <g>\r\n       <use style=\"stroke:#000000;stroke-width:0.8;\" x=\"848.635196\" xlink:href=\"#mcd130c91b7\" y=\"29.783812\"/>\r\n      </g>\r\n     </g>\r\n    </g>\r\n   </g>\r\n   <g id=\"line2d_115\">\r\n    <path clip-path=\"url(#peaeed933e1)\" d=\"M 848.635196 29.783812 \r\nL 873.573743 29.783812 \r\n\" style=\"fill:none;stroke:#1f77b4;stroke-linecap:square;stroke-width:1.5;\"/>\r\n   </g>\r\n   <g id=\"line2d_116\">\r\n    <path clip-path=\"url(#peaeed933e1)\" d=\"M 849.080527 54.277028 \r\nL 849.080527 29.33848 \r\n\" style=\"fill:none;stroke:#1f77b4;stroke-linecap:square;stroke-width:1.5;\"/>\r\n   </g>\r\n   <g id=\"patch_143\">\r\n    <path d=\"M 848.635196 54.277028 \r\nL 848.635196 29.33848 \r\n\" style=\"fill:none;stroke:#000000;stroke-linecap:square;stroke-linejoin:miter;stroke-width:0.8;\"/>\r\n   </g>\r\n   <g id=\"patch_144\">\r\n    <path d=\"M 873.573743 54.277028 \r\nL 873.573743 29.33848 \r\n\" style=\"fill:none;stroke:#000000;stroke-linecap:square;stroke-linejoin:miter;stroke-width:0.8;\"/>\r\n   </g>\r\n   <g id=\"patch_145\">\r\n    <path d=\"M 848.635196 54.277028 \r\nL 873.573743 54.277028 \r\n\" style=\"fill:none;stroke:#000000;stroke-linecap:square;stroke-linejoin:miter;stroke-width:0.8;\"/>\r\n   </g>\r\n   <g id=\"patch_146\">\r\n    <path d=\"M 848.635196 29.33848 \r\nL 873.573743 29.33848 \r\n\" style=\"fill:none;stroke:#000000;stroke-linecap:square;stroke-linejoin:miter;stroke-width:0.8;\"/>\r\n   </g>\r\n   <g id=\"text_29\">\r\n    <!-- 0 -->\r\n    <g transform=\"translate(857.987151 20.877188)scale(0.18 -0.18)\">\r\n     <use xlink:href=\"#DejaVuSans-48\"/>\r\n    </g>\r\n   </g>\r\n  </g>\r\n  <g id=\"axes_30\">\r\n   <g id=\"patch_147\">\r\n    <path d=\"M 878.561453 54.277028 \r\nL 903.5 54.277028 \r\nL 903.5 29.33848 \r\nL 878.561453 29.33848 \r\nz\r\n\" style=\"fill:#ffffff;\"/>\r\n   </g>\r\n   <g clip-path=\"url(#p483deb68af)\">\r\n    <image height=\"25\" id=\"imagead2409a452\" transform=\"scale(1 -1)translate(0 -25)\" width=\"25\" x=\"878.561453\" xlink:href=\"data:image/png;base64,\r\niVBORw0KGgoAAAANSUhEUgAAABkAAAAZCAYAAADE6YVjAAAABHNCSVQICAgIfAhkiAAAAohJREFUSIndlT9L62AUxp+80dLaYKSRCoK2Lg6Sgq1O6qKDumcpdXBzcG+XruLuF3B16CcoFNEipR1soKAUHEoXXRSU/qOG9LnDvbcYk6ogLh54l5PD+b2c93lOJJLED4f4acDvgox9VtDv92FZlisvyzL8fj8kSfoe5ObmBrlcDre3t65v09PT2N7eRjweRyQS+ZhCj3h5eeHh4SEXFxepKAqFEK7j8/k4MzPDWCzGdDrNTqfj1Yok6YJ0u11mMhkGg0HP5l4nGAxyb2+PlUqFtm27INJ7n9RqNezv76NWqwEA/H4/dnd3YRiGYwLNZhMnJyd4fHwESUiShOXlZZyeniIWiznf6i2x1+vx+PiYiqJQlmUuLCywWq3SsizX7WzbZqfTYSqVoqZplGWZQggmk0k+PDyMHtfd3R3X19cphOD8/Dyvrq44GAxGzpokW60WC4UC5+bmKIRgKBRisVh01Dh8Uq/XUSqVAABbW1tYXV39VKKKomBjYwObm5sAgOfnZ7RaLUfN73G8AzI5OYmpqSkAwPn5OarVKjhiSb++vuL+/h7NZhPZbBYXFxejKW8fqN1u8+joiKqqDtVlmqanuhqNBldWVjg7O8tAIDBU19raGuv1+mh1kX/dbhjG0GgTExM0DINnZ2e8vr6mZVm0bZsHBwccHx93mDIej9M0TZciXRDbtlkul5lMJqlpmqOJqqpcWlqirutUVXWY1zSNqVSK5XLZ0/Geu+v/6C4vL6nrOsPhMH0+n2t3hcNh6rrOYrHIdrs9qpV7rbyPRqMB0zSRz+fx9PQ0zGuahp2dHSQSCUSj0Q/V9SnknzjQ6/UwGAyGOSEEAoHAl/4nX4J8N36p438q/gAiHp9urlp/pAAAAABJRU5ErkJggg==\" y=\"-29.277028\"/>\r\n   </g>\r\n   <g id=\"matplotlib.axis_59\">\r\n    <g id=\"xtick_30\">\r\n     <g id=\"line2d_117\">\r\n      <g>\r\n       <use style=\"stroke:#000000;stroke-width:0.8;\" x=\"879.006784\" xlink:href=\"#m034dcb9cfc\" y=\"54.277028\"/>\r\n      </g>\r\n     </g>\r\n    </g>\r\n   </g>\r\n   <g id=\"matplotlib.axis_60\">\r\n    <g id=\"ytick_30\">\r\n     <g id=\"line2d_118\">\r\n      <g>\r\n       <use style=\"stroke:#000000;stroke-width:0.8;\" x=\"878.561453\" xlink:href=\"#mcd130c91b7\" y=\"29.783812\"/>\r\n      </g>\r\n     </g>\r\n    </g>\r\n   </g>\r\n   <g id=\"line2d_119\">\r\n    <path clip-path=\"url(#p483deb68af)\" d=\"M 878.561453 29.783812 \r\nL 903.5 29.783812 \r\n\" style=\"fill:none;stroke:#1f77b4;stroke-linecap:square;stroke-width:1.5;\"/>\r\n   </g>\r\n   <g id=\"line2d_120\">\r\n    <path clip-path=\"url(#p483deb68af)\" d=\"M 879.006784 54.277028 \r\nL 879.006784 29.33848 \r\n\" style=\"fill:none;stroke:#1f77b4;stroke-linecap:square;stroke-width:1.5;\"/>\r\n   </g>\r\n   <g id=\"patch_148\">\r\n    <path d=\"M 878.561453 54.277028 \r\nL 878.561453 29.33848 \r\n\" style=\"fill:none;stroke:#000000;stroke-linecap:square;stroke-linejoin:miter;stroke-width:0.8;\"/>\r\n   </g>\r\n   <g id=\"patch_149\">\r\n    <path d=\"M 903.5 54.277028 \r\nL 903.5 29.33848 \r\n\" style=\"fill:none;stroke:#000000;stroke-linecap:square;stroke-linejoin:miter;stroke-width:0.8;\"/>\r\n   </g>\r\n   <g id=\"patch_150\">\r\n    <path d=\"M 878.561453 54.277028 \r\nL 903.5 54.277028 \r\n\" style=\"fill:none;stroke:#000000;stroke-linecap:square;stroke-linejoin:miter;stroke-width:0.8;\"/>\r\n   </g>\r\n   <g id=\"patch_151\">\r\n    <path d=\"M 878.561453 29.33848 \r\nL 903.5 29.33848 \r\n\" style=\"fill:none;stroke:#000000;stroke-linecap:square;stroke-linejoin:miter;stroke-width:0.8;\"/>\r\n   </g>\r\n   <g id=\"text_30\">\r\n    <!-- 0 -->\r\n    <g transform=\"translate(887.913408 20.877188)scale(0.18 -0.18)\">\r\n     <use xlink:href=\"#DejaVuSans-48\"/>\r\n    </g>\r\n   </g>\r\n  </g>\r\n </g>\r\n <defs>\r\n  <clipPath id=\"pdc81e2fbfc\">\r\n   <rect height=\"24.938547\" width=\"24.938547\" x=\"10.7\" y=\"29.33848\"/>\r\n  </clipPath>\r\n  <clipPath id=\"pdf20d35e9d\">\r\n   <rect height=\"24.938547\" width=\"24.938547\" x=\"40.626257\" y=\"29.33848\"/>\r\n  </clipPath>\r\n  <clipPath id=\"pba5eb7eabe\">\r\n   <rect height=\"24.938547\" width=\"24.938547\" x=\"70.552514\" y=\"29.33848\"/>\r\n  </clipPath>\r\n  <clipPath id=\"pf10b05b563\">\r\n   <rect height=\"24.938547\" width=\"24.938547\" x=\"100.478771\" y=\"29.33848\"/>\r\n  </clipPath>\r\n  <clipPath id=\"pbe416eba9f\">\r\n   <rect height=\"24.938547\" width=\"24.938547\" x=\"130.405028\" y=\"29.33848\"/>\r\n  </clipPath>\r\n  <clipPath id=\"pea57ab6f5a\">\r\n   <rect height=\"24.938547\" width=\"24.938547\" x=\"160.331285\" y=\"29.33848\"/>\r\n  </clipPath>\r\n  <clipPath id=\"pd0ffe172c0\">\r\n   <rect height=\"24.938547\" width=\"24.938547\" x=\"190.257542\" y=\"29.33848\"/>\r\n  </clipPath>\r\n  <clipPath id=\"p3cfe804e37\">\r\n   <rect height=\"24.938547\" width=\"24.938547\" x=\"220.183799\" y=\"29.33848\"/>\r\n  </clipPath>\r\n  <clipPath id=\"paba046ad39\">\r\n   <rect height=\"24.938547\" width=\"24.938547\" x=\"250.110056\" y=\"29.33848\"/>\r\n  </clipPath>\r\n  <clipPath id=\"p99f5b0f483\">\r\n   <rect height=\"24.938547\" width=\"24.938547\" x=\"280.036313\" y=\"29.33848\"/>\r\n  </clipPath>\r\n  <clipPath id=\"p62d79f46b5\">\r\n   <rect height=\"24.938547\" width=\"24.938547\" x=\"309.96257\" y=\"29.33848\"/>\r\n  </clipPath>\r\n  <clipPath id=\"p9a3b6604bf\">\r\n   <rect height=\"24.938547\" width=\"24.938547\" x=\"339.888827\" y=\"29.33848\"/>\r\n  </clipPath>\r\n  <clipPath id=\"pe3464fc2fa\">\r\n   <rect height=\"24.938547\" width=\"24.938547\" x=\"369.815084\" y=\"29.33848\"/>\r\n  </clipPath>\r\n  <clipPath id=\"p44c5a73563\">\r\n   <rect height=\"24.938547\" width=\"24.938547\" x=\"399.741341\" y=\"29.33848\"/>\r\n  </clipPath>\r\n  <clipPath id=\"p8953127dbf\">\r\n   <rect height=\"24.938547\" width=\"24.938547\" x=\"429.667598\" y=\"29.33848\"/>\r\n  </clipPath>\r\n  <clipPath id=\"p4080731690\">\r\n   <rect height=\"24.938547\" width=\"24.938547\" x=\"459.593855\" y=\"29.33848\"/>\r\n  </clipPath>\r\n  <clipPath id=\"p2850c2deb8\">\r\n   <rect height=\"24.938547\" width=\"24.938547\" x=\"489.520112\" y=\"29.33848\"/>\r\n  </clipPath>\r\n  <clipPath id=\"pda639aca29\">\r\n   <rect height=\"24.938547\" width=\"24.938547\" x=\"519.446369\" y=\"29.33848\"/>\r\n  </clipPath>\r\n  <clipPath id=\"p10e062c475\">\r\n   <rect height=\"24.938547\" width=\"24.938547\" x=\"549.372626\" y=\"29.33848\"/>\r\n  </clipPath>\r\n  <clipPath id=\"pa5f590e902\">\r\n   <rect height=\"24.938547\" width=\"24.938547\" x=\"579.298883\" y=\"29.33848\"/>\r\n  </clipPath>\r\n  <clipPath id=\"pa7dfac1c2a\">\r\n   <rect height=\"24.938547\" width=\"24.938547\" x=\"609.22514\" y=\"29.33848\"/>\r\n  </clipPath>\r\n  <clipPath id=\"paab1655566\">\r\n   <rect height=\"24.938547\" width=\"24.938547\" x=\"639.151397\" y=\"29.33848\"/>\r\n  </clipPath>\r\n  <clipPath id=\"pcd6e013486\">\r\n   <rect height=\"24.938547\" width=\"24.938547\" x=\"669.077654\" y=\"29.33848\"/>\r\n  </clipPath>\r\n  <clipPath id=\"p1b63abdda8\">\r\n   <rect height=\"24.938547\" width=\"24.938547\" x=\"699.003911\" y=\"29.33848\"/>\r\n  </clipPath>\r\n  <clipPath id=\"p931235ddbe\">\r\n   <rect height=\"24.938547\" width=\"24.938547\" x=\"728.930168\" y=\"29.33848\"/>\r\n  </clipPath>\r\n  <clipPath id=\"pcc50eb4ea7\">\r\n   <rect height=\"24.938547\" width=\"24.938547\" x=\"758.856425\" y=\"29.33848\"/>\r\n  </clipPath>\r\n  <clipPath id=\"p80058c62c9\">\r\n   <rect height=\"24.938547\" width=\"24.938547\" x=\"788.782682\" y=\"29.33848\"/>\r\n  </clipPath>\r\n  <clipPath id=\"pd6d6f1982f\">\r\n   <rect height=\"24.938547\" width=\"24.938547\" x=\"818.708939\" y=\"29.33848\"/>\r\n  </clipPath>\r\n  <clipPath id=\"peaeed933e1\">\r\n   <rect height=\"24.938547\" width=\"24.938547\" x=\"848.635196\" y=\"29.33848\"/>\r\n  </clipPath>\r\n  <clipPath id=\"p483deb68af\">\r\n   <rect height=\"24.938547\" width=\"24.938547\" x=\"878.561453\" y=\"29.33848\"/>\r\n  </clipPath>\r\n </defs>\r\n</svg>\r\n",
            "image/png": "[encoded data removed]"
          },
          "metadata": {
            "needs_background": "light"
          }
        }
      ],
      "source": [
        "# make sure utils.py is in the same directory as this code\n",
        "from utils import load_data, one_hot_encode\n",
        "\n",
        "# note we also shrink the intensity values (X) from 0-255 to 0-1. This helps the model converge faster.\n",
        "X_train = load_data(os.path.join(data_folder, 'train-images-idx3-ubyte.gz'), False) / 255.0\n",
        "X_test = load_data(os.path.join(data_folder, 't10k-images-idx3-ubyte.gz'), False) / 255.0\n",
        "y_train = load_data(os.path.join(data_folder, 'train-labels-idx1-ubyte.gz'), True).reshape(-1)\n",
        "y_test = load_data(os.path.join(data_folder, 't10k-labels-idx1-ubyte.gz'), True).reshape(-1)\n",
        "\n",
        "# now let's show some randomly chosen images from the training set.\n",
        "count = 0\n",
        "sample_size = 30\n",
        "plt.figure(figsize = (16, 6))\n",
        "for i in np.random.permutation(X_train.shape[0])[:sample_size]:\n",
        "    count = count + 1\n",
        "    plt.subplot(1, sample_size, count)\n",
        "    plt.axhline('')\n",
        "    plt.axvline('')\n",
        "    plt.text(x=10, y=-10, s=y_train[i], fontsize=18)\n",
        "    plt.imshow(X_train[i].reshape(28, 28), cmap=plt.cm.Greys)\n",
        "plt.show()"
      ]
    },
    {
      "cell_type": "markdown",
      "metadata": {},
      "source": [
        "Now you have an idea of what these images look like and the expected prediction outcome."
      ]
    },
    {
      "cell_type": "markdown",
      "metadata": {
        "nbpresent": {
          "id": "defe921f-8097-44c3-8336-8af6700804a7"
        }
      },
      "source": [
        "## Create a FileDataset\n",
        "A FileDataset references one or multiple files in your datastores or public urls. The files can be of any format. FileDataset provides you with the ability to download or mount the files to your compute. By creating a dataset, you create a reference to the data source location. If you applied any subsetting transformations to the dataset, they will be stored in the dataset as well. The data remains in its existing location, so no extra storage cost is incurred. [Learn More](https://aka.ms/azureml/howto/createdatasets)"
      ]
    },
    {
      "cell_type": "code",
      "execution_count": 8,
      "metadata": {},
      "outputs": [],
      "source": [
        "from azureml.core.dataset import Dataset\n",
        "web_paths = ['https://azureopendatastorage.blob.core.windows.net/mnist/train-images-idx3-ubyte.gz',\n",
        "             'https://azureopendatastorage.blob.core.windows.net/mnist/train-labels-idx1-ubyte.gz',\n",
        "             'https://azureopendatastorage.blob.core.windows.net/mnist/t10k-images-idx3-ubyte.gz',\n",
        "             'https://azureopendatastorage.blob.core.windows.net/mnist/t10k-labels-idx1-ubyte.gz'\n",
        "            ]\n",
        "dataset = Dataset.File.from_files(path = web_paths)"
      ]
    },
    {
      "cell_type": "markdown",
      "metadata": {},
      "source": [
        "Use the `register()` method to register datasets to your workspace so they can be shared with others, reused across various experiments, and referred to by name in your training script.\n",
        "You can try get the dataset first to see if it's already registered."
      ]
    },
    {
      "cell_type": "code",
      "execution_count": 9,
      "metadata": {},
      "outputs": [
        {
          "output_type": "stream",
          "name": "stdout",
          "text": [
            "The dataset mnist-dataset is not registered in workspace yet.\n"
          ]
        }
      ],
      "source": [
        "dataset_registered = False\n",
        "try:\n",
        "    temp = Dataset.get_by_name(workspace = ws, name = 'mnist-dataset')\n",
        "    dataset_registered = True\n",
        "except:\n",
        "    print(\"The dataset mnist-dataset is not registered in workspace yet.\")\n",
        "\n",
        "if not dataset_registered:\n",
        "    dataset = dataset.register(workspace = ws,\n",
        "                               name = 'mnist-dataset',\n",
        "                               description='training and test dataset',\n",
        "                               create_new_version=True)"
      ]
    },
    {
      "cell_type": "markdown",
      "metadata": {},
      "source": [
        "## Create or Attach existing AmlCompute\n",
        "You will need to create a [compute target](https://docs.microsoft.com/azure/machine-learning/service/concept-azure-machine-learning-architecture#compute-target) for training your model. In this tutorial, you create `AmlCompute` as your training compute resource."
      ]
    },
    {
      "cell_type": "markdown",
      "metadata": {},
      "source": [
        "If we could not find the cluster with the given name, then we will create a new cluster here. We will create an `AmlCompute` cluster of `STANDARD_NC6` GPU VMs. This process is broken down into 3 steps:\n",
        "1. create the configuration (this step is local and only takes a second)\n",
        "2. create the cluster (this step will take about **20 seconds**)\n",
        "3. provision the VMs to bring the cluster to the initial size (of 1 in this case). This step will take about **3-5 minutes** and is providing only sparse output in the process. Please make sure to wait until the call returns before moving to the next cell"
      ]
    },
    {
      "cell_type": "code",
      "execution_count": 10,
      "metadata": {},
      "outputs": [
        {
          "output_type": "stream",
          "name": "stdout",
          "text": [
            "Found existing compute target\n",
            "{'currentNodeCount': 0, 'targetNodeCount': 0, 'nodeStateCounts': {'preparingNodeCount': 0, 'runningNodeCount': 0, 'idleNodeCount': 0, 'unusableNodeCount': 0, 'leavingNodeCount': 0, 'preemptedNodeCount': 0}, 'allocationState': 'Steady', 'allocationStateTransitionTime': '2020-10-17T10:38:01.701000+00:00', 'errors': None, 'creationTime': '2020-10-17T10:11:29.283575+00:00', 'modifiedTime': '2020-10-17T10:11:44.998582+00:00', 'provisioningState': 'Succeeded', 'provisioningStateTransitionTime': None, 'scaleSettings': {'minNodeCount': 0, 'maxNodeCount': 4, 'nodeIdleTimeBeforeScaleDown': 'PT300S'}, 'vmPriority': 'LowPriority', 'vmSize': 'STANDARD_DS2_V2'}\n"
          ]
        }
      ],
      "source": [
        "from azureml.core.compute import ComputeTarget, AmlCompute\n",
        "from azureml.core.compute_target import ComputeTargetException\n",
        "\n",
        "# choose a name for your cluster\n",
        "cluster_name = \"train-cluster\"\n",
        "\n",
        "try:\n",
        "    compute_target = ComputeTarget(workspace=ws, name=cluster_name)\n",
        "    print('Found existing compute target')\n",
        "except ComputeTargetException:\n",
        "    print('Creating a new compute target...')\n",
        "    compute_config = AmlCompute.provisioning_configuration(vm_size='STANDARD_NC6', \n",
        "                                                           max_nodes=4)\n",
        "\n",
        "    # create the cluster\n",
        "    compute_target = ComputeTarget.create(ws, cluster_name, compute_config)\n",
        "\n",
        "    # can poll for a minimum number of nodes and for a specific timeout. \n",
        "    # if no min node count is provided it uses the scale settings for the cluster\n",
        "    compute_target.wait_for_completion(show_output=True, min_node_count=None, timeout_in_minutes=20)\n",
        "\n",
        "# use get_status() to get a detailed status for the current cluster. \n",
        "print(compute_target.get_status().serialize())"
      ]
    },
    {
      "cell_type": "markdown",
      "metadata": {},
      "source": [
        "Now that you have created the compute target, let's see what the workspace's `compute_targets` property returns. You should now see one entry named \"gpu-cluster\" of type `AmlCompute`."
      ]
    },
    {
      "cell_type": "code",
      "execution_count": 11,
      "metadata": {},
      "outputs": [
        {
          "output_type": "stream",
          "name": "stdout",
          "text": [
            "train-cluster AmlCompute Succeeded\n"
          ]
        }
      ],
      "source": [
        "compute_targets = ws.compute_targets\n",
        "for name, ct in compute_targets.items():\n",
        "    print(name, ct.type, ct.provisioning_state)"
      ]
    },
    {
      "cell_type": "markdown",
      "metadata": {},
      "source": [
        "## Copy the training files into the script folder\n",
        "The Keras training script is already created for you. You can simply copy it into the script folder, together with the utility library used to load compressed data file into numpy array."
      ]
    },
    {
      "cell_type": "code",
      "execution_count": 12,
      "metadata": {},
      "outputs": [
        {
          "output_type": "execute_result",
          "data": {
            "text/plain": [
              "'./keras-mnist\\\\utils.py'"
            ]
          },
          "metadata": {},
          "execution_count": 12
        }
      ],
      "source": [
        "import shutil\n",
        "\n",
        "# the training logic is in the keras_mnist.py file.\n",
        "shutil.copy('./keras_mnist.py', script_folder)\n",
        "\n",
        "# the utils.py just helps loading data from the downloaded MNIST dataset into numpy arrays.\n",
        "shutil.copy('./utils.py', script_folder)"
      ]
    },
    {
      "cell_type": "markdown",
      "metadata": {
        "nbpresent": {
          "id": "2039d2d5-aca6-4f25-a12f-df9ae6529cae"
        }
      },
      "source": [
        "## Construct neural network in Keras\n",
        "In the training script `keras_mnist.py`, it creates a very simple DNN (deep neural network), with just 2 hidden layers. The input layer has 28 * 28 = 784 neurons, each representing a pixel in an image. The first hidden layer has 300 neurons, and the second hidden layer has 100 neurons. The output layer has 10 neurons, each representing a targeted label from 0 to 9.\n",
        "\n",
        "![DNN](nn.png)"
      ]
    },
    {
      "cell_type": "markdown",
      "metadata": {},
      "source": [
        "### Azure ML concepts  \n",
        "Please note the following three things in the code below:\n",
        "1. The script accepts arguments using the argparse package. In this case there is one argument `--data_folder` which specifies the FileDataset in which the script can find the MNIST data\n",
        "```\n",
        "    parser = argparse.ArgumentParser()\n",
        "    parser.add_argument('--data_folder')\n",
        "```\n",
        "2. The script is accessing the Azure ML `Run` object by executing `run = Run.get_context()`. Further down the script is using the `run` to report the loss and accuracy at the end of each epoch via callback.\n",
        "```\n",
        "    run.log('Loss', log['val_loss'])\n",
        "    run.log('Accuracy', log['val_accuracy'])\n",
        "```\n",
        "3. When running the script on Azure ML, you can write files out to a folder `./outputs` that is relative to the root directory. This folder is specially tracked by Azure ML in the sense that any files written to that folder during script execution on the remote target will be picked up by Run History; these files (known as artifacts) will be available as part of the run history record."
      ]
    },
    {
      "cell_type": "markdown",
      "metadata": {},
      "source": [
        "The next cell will print out the training code for you to inspect."
      ]
    },
    {
      "cell_type": "code",
      "execution_count": 13,
      "metadata": {},
      "outputs": [
        {
          "output_type": "stream",
          "name": "stdout",
          "text": [
            "# Copyright (c) Microsoft Corporation. All rights reserved.\n# Licensed under the MIT License.\n\nimport numpy as np\nimport argparse\nimport os\nimport glob\n\nimport matplotlib.pyplot as plt\n\nimport keras\nfrom keras.models import Sequential, model_from_json\nfrom keras.layers import Dense\nfrom keras.optimizers import RMSprop\nfrom keras.callbacks import Callback\n\nimport tensorflow as tf\n\nfrom azureml.core import Run\nfrom utils import load_data, one_hot_encode\n\nprint(\"Keras version:\", keras.__version__)\nprint(\"Tensorflow version:\", tf.__version__)\n\nparser = argparse.ArgumentParser()\nparser.add_argument('--data-folder', type=str, dest='data_folder', default='data', help='data folder mounting point')\nparser.add_argument('--batch-size', type=int, dest='batch_size', default=50, help='mini batch size for training')\nparser.add_argument('--first-layer-neurons', type=int, dest='n_hidden_1', default=100,\n                    help='# of neurons in the first layer')\nparser.add_argument('--second-layer-neurons', type=int, dest='n_hidden_2', default=100,\n                    help='# of neurons in the second layer')\nparser.add_argument('--learning-rate', type=float, dest='learning_rate', default=0.001, help='learning rate')\n\nargs = parser.parse_args()\n\ndata_folder = args.data_folder\n\nprint('training dataset is stored here:', data_folder)\n\nX_train_path = glob.glob(os.path.join(data_folder, '**/train-images-idx3-ubyte.gz'), recursive=True)[0]\nX_test_path = glob.glob(os.path.join(data_folder, '**/t10k-images-idx3-ubyte.gz'), recursive=True)[0]\ny_train_path = glob.glob(os.path.join(data_folder, '**/train-labels-idx1-ubyte.gz'), recursive=True)[0]\ny_test_path = glob.glob(os.path.join(data_folder, '**/t10k-labels-idx1-ubyte.gz'), recursive=True)[0]\n\nX_train = load_data(X_train_path, False) / 255.0\nX_test = load_data(X_test_path, False) / 255.0\ny_train = load_data(y_train_path, True).reshape(-1)\ny_test = load_data(y_test_path, True).reshape(-1)\n\ntraining_set_size = X_train.shape[0]\n\nn_inputs = 28 * 28\nn_h1 = args.n_hidden_1\nn_h2 = args.n_hidden_2\nn_outputs = 10\nn_epochs = 20\nbatch_size = args.batch_size\nlearning_rate = args.learning_rate\n\ny_train = one_hot_encode(y_train, n_outputs)\ny_test = one_hot_encode(y_test, n_outputs)\nprint(X_train.shape, y_train.shape, X_test.shape, y_test.shape, sep='\\n')\n\n# Build a simple MLP model\nmodel = Sequential()\n# first hidden layer\nmodel.add(Dense(n_h1, activation='relu', input_shape=(n_inputs,)))\n# second hidden layer\nmodel.add(Dense(n_h2, activation='relu'))\n# output layer\nmodel.add(Dense(n_outputs, activation='softmax'))\n\nmodel.summary()\n\nmodel.compile(loss='categorical_crossentropy',\n              optimizer=RMSprop(lr=learning_rate),\n              metrics=['accuracy'])\n\n# start an Azure ML run\nrun = Run.get_context()\n\n\nclass LogRunMetrics(Callback):\n    # callback at the end of every epoch\n    def on_epoch_end(self, epoch, log):\n        # log a value repeated which creates a list\n        run.log('Loss', log['val_loss'])\n        run.log('Accuracy', log['val_accuracy'])\n\n\nhistory = model.fit(X_train, y_train,\n                    batch_size=batch_size,\n                    epochs=n_epochs,\n                    verbose=2,\n                    validation_data=(X_test, y_test),\n                    callbacks=[LogRunMetrics()])\n\nscore = model.evaluate(X_test, y_test, verbose=0)\n\n# log a single value\nrun.log(\"Final test loss\", score[0])\nprint('Test loss:', score[0])\n\nrun.log('Final test accuracy', score[1])\nprint('Test accuracy:', score[1])\n\nplt.figure(figsize=(6, 3))\nplt.title('MNIST with Keras MLP ({} epochs)'.format(n_epochs), fontsize=14)\nplt.plot(history.history['val_accuracy'], 'b-', label='Accuracy', lw=4, alpha=0.5)\nplt.plot(history.history['val_loss'], 'r--', label='Loss', lw=4, alpha=0.5)\nplt.legend(fontsize=12)\nplt.grid(True)\n\n# log an image\nrun.log_image('Accuracy vs Loss', plot=plt)\n\n# create a ./outputs/model folder in the compute target\n# files saved in the \"./outputs\" folder are automatically uploaded into run history\nos.makedirs('./outputs/model', exist_ok=True)\n\n# serialize NN architecture to JSON\nmodel_json = model.to_json()\n# save model JSON\nwith open('./outputs/model/model.json', 'w') as f:\n    f.write(model_json)\n# save model weights\nmodel.save_weights('./outputs/model/model.h5')\nprint(\"model saved in ./outputs/model folder\")\n"
          ]
        }
      ],
      "source": [
        "with open(os.path.join(script_folder, './keras_mnist.py'), 'r') as f:\n",
        "    print(f.read())"
      ]
    },
    {
      "cell_type": "markdown",
      "metadata": {},
      "source": [
        "## Create an environment\n",
        "\n",
        "Define a conda environment YAML file with your training script dependencies, which include TensorFlow, Keras and matplotlib, and create an Azure ML environment."
      ]
    },
    {
      "cell_type": "code",
      "execution_count": 14,
      "metadata": {},
      "outputs": [
        {
          "output_type": "stream",
          "name": "stdout",
          "text": [
            "Writing conda_dependencies.yml\n"
          ]
        }
      ],
      "source": [
        "%%writefile conda_dependencies.yml\n",
        "\n",
        "channels:\n",
        "- conda-forge\n",
        "dependencies:\n",
        "- python=3.6.2\n",
        "- pip:\n",
        "  - azureml-defaults==1.13.0\n",
        "  - tensorflow==2.0.0\n",
        "  - keras<=2.3.1\n",
        "  - matplotlib"
      ]
    },
    {
      "cell_type": "code",
      "execution_count": 15,
      "metadata": {},
      "outputs": [],
      "source": [
        "from azureml.core import Environment\n",
        "\n",
        "keras_env = Environment.from_conda_specification(name = 'keras-2.3.1', file_path = './conda_dependencies.yml')\n",
        "\n",
        "# Specify a GPU base image\n",
        "keras_env.docker.enabled = True\n",
        "keras_env.docker.base_image = 'mcr.microsoft.com/azureml/openmpi3.1.2-cuda10.0-cudnn7-ubuntu18.04'"
      ]
    },
    {
      "cell_type": "markdown",
      "metadata": {},
      "source": [
        "## Configure the training job\n",
        "\n",
        "Create a ScriptRunConfig object to specify the configuration details of your training job, including your training script, environment to use, and the compute target to run on.\n",
        "\n",
        "Note that we are specifying a DatasetConsumptionConfig for our FileDataset as an argument to the training script. Azure ML will resolve this DatasetConsumptionConfig to the mount-point of the backing datastore, which we access from the training script."
      ]
    },
    {
      "cell_type": "code",
      "execution_count": 16,
      "metadata": {},
      "outputs": [
        {
          "output_type": "execute_result",
          "data": {
            "text/plain": [
              "['/https%3A/%2Fazureopendatastorage.blob.core.windows.net/mnist/train-images-idx3-ubyte.gz',\n",
              " '/https%3A/%2Fazureopendatastorage.blob.core.windows.net/mnist/train-labels-idx1-ubyte.gz',\n",
              " '/https%3A/%2Fazureopendatastorage.blob.core.windows.net/mnist/t10k-images-idx3-ubyte.gz',\n",
              " '/https%3A/%2Fazureopendatastorage.blob.core.windows.net/mnist/t10k-labels-idx1-ubyte.gz']"
            ]
          },
          "metadata": {},
          "execution_count": 16
        }
      ],
      "source": [
        "dataset = Dataset.get_by_name(ws, 'mnist-dataset')\n",
        "\n",
        "# list the files referenced by mnist dataset\n",
        "dataset.to_path()"
      ]
    },
    {
      "cell_type": "code",
      "execution_count": 20,
      "metadata": {},
      "outputs": [
        {
          "output_type": "error",
          "ename": "TypeError",
          "evalue": "__init__() got an unexpected keyword argument 'compute_target'",
          "traceback": [
            "\u001b[1;31m---------------------------------------------------------------------------\u001b[0m",
            "\u001b[1;31mTypeError\u001b[0m                                 Traceback (most recent call last)",
            "\u001b[1;32m<ipython-input-20-da54809ef294>\u001b[0m in \u001b[0;36m<module>\u001b[1;34m\u001b[0m\n\u001b[0;32m     11\u001b[0m                       \u001b[0marguments\u001b[0m\u001b[1;33m=\u001b[0m\u001b[0margs\u001b[0m\u001b[1;33m,\u001b[0m\u001b[1;33m\u001b[0m\u001b[1;33m\u001b[0m\u001b[0m\n\u001b[0;32m     12\u001b[0m                       \u001b[0mcompute_target\u001b[0m\u001b[1;33m=\u001b[0m\u001b[0mcompute_targets\u001b[0m\u001b[1;33m,\u001b[0m\u001b[1;33m\u001b[0m\u001b[1;33m\u001b[0m\u001b[0m\n\u001b[1;32m---> 13\u001b[1;33m                       environment=keras_env)\n\u001b[0m",
            "\u001b[1;32m~\\Anaconda3\\envs\\HSBC\\lib\\site-packages\\azureml\\core\\_experiment_method.py\u001b[0m in \u001b[0;36mwrapper\u001b[1;34m(self, *args, **kwargs)\u001b[0m\n\u001b[0;32m     91\u001b[0m             \"\"\"\n\u001b[0;32m     92\u001b[0m             \u001b[0mExperimentSubmitRegistrar\u001b[0m\u001b[1;33m.\u001b[0m\u001b[0mregister_submit_function\u001b[0m\u001b[1;33m(\u001b[0m\u001b[0mself\u001b[0m\u001b[1;33m.\u001b[0m\u001b[0m__class__\u001b[0m\u001b[1;33m,\u001b[0m \u001b[0msubmit_function\u001b[0m\u001b[1;33m)\u001b[0m\u001b[1;33m\u001b[0m\u001b[1;33m\u001b[0m\u001b[0m\n\u001b[1;32m---> 93\u001b[1;33m             \u001b[1;32mreturn\u001b[0m \u001b[0minit_func\u001b[0m\u001b[1;33m(\u001b[0m\u001b[0mself\u001b[0m\u001b[1;33m,\u001b[0m \u001b[1;33m*\u001b[0m\u001b[0margs\u001b[0m\u001b[1;33m,\u001b[0m \u001b[1;33m**\u001b[0m\u001b[0mkwargs\u001b[0m\u001b[1;33m)\u001b[0m\u001b[1;33m\u001b[0m\u001b[1;33m\u001b[0m\u001b[0m\n\u001b[0m\u001b[0;32m     94\u001b[0m         \u001b[1;32mreturn\u001b[0m \u001b[0mwrapper\u001b[0m\u001b[1;33m\u001b[0m\u001b[1;33m\u001b[0m\u001b[0m\n\u001b[0;32m     95\u001b[0m     \u001b[1;32mreturn\u001b[0m \u001b[0mreal_decorator\u001b[0m\u001b[1;33m\u001b[0m\u001b[1;33m\u001b[0m\u001b[0m\n",
            "\u001b[1;31mTypeError\u001b[0m: __init__() got an unexpected keyword argument 'compute_target'"
          ]
        }
      ],
      "source": [
        "from azureml.core import ScriptRunConfig\n",
        "\n",
        "args = ['--data-folder', dataset.as_named_input('mnist').as_mount(),\n",
        "        '--batch-size', 50,\n",
        "        '--first-layer-neurons', 300,\n",
        "        '--second-layer-neurons', 100,\n",
        "        '--learning-rate', 0.001]\n",
        "\n",
        "src = ScriptRunConfig(source_directory=script_folder,\n",
        "                      script='keras_mnist.py',\n",
        "                      arguments=args,\n",
        "                      compute_target=compute_targets,\n",
        "                      environment=keras_env)"
      ]
    },
    {
      "cell_type": "markdown",
      "metadata": {},
      "source": [
        "## Submit job to run\n",
        "Submit the ScriptRunConfig to the Azure ML experiment to kick off the execution."
      ]
    },
    {
      "cell_type": "code",
      "execution_count": null,
      "metadata": {},
      "outputs": [],
      "source": [
        "run = exp.submit(src)"
      ]
    },
    {
      "cell_type": "markdown",
      "metadata": {},
      "source": [
        "### Monitor the Run\n",
        "As the Run is executed, it will go through the following stages:\n",
        "1. Preparing: A docker image is created matching the Python environment specified by the Azure ML environment, and it will be uploaded to the workspace's Azure Container Registry. This step will only happen once for each Python environment -- the container will then be cached for subsequent runs. Creating and uploading the image takes about **5 minutes**. While the job is preparing, logs are streamed to the run history and can be viewed to monitor the progress of the image creation.\n",
        "\n",
        "2. Scaling: If the compute needs to be scaled up (i.e. the AmlCompute cluster requires more nodes to execute the run than currently available), the cluster will attempt to scale up in order to make the required amount of nodes available. Scaling typically takes about **5 minutes**.\n",
        "\n",
        "3. Running: All scripts in the script folder are uploaded to the compute target, data stores are mounted/copied and the `entry_script` is executed. While the job is running, stdout and the `./logs` folder are streamed to the run history and can be viewed to monitor the progress of the run.\n",
        "\n",
        "4. Post-Processing: The `./outputs` folder of the run is copied over to the run history\n",
        "\n",
        "There are multiple ways to check the progress of a running job. We can use a Jupyter notebook widget. \n",
        "\n",
        "**Note: The widget will automatically update ever 10-15 seconds, always showing you the most up-to-date information about the run**"
      ]
    },
    {
      "cell_type": "code",
      "execution_count": null,
      "metadata": {},
      "outputs": [],
      "source": [
        "from azureml.widgets import RunDetails\n",
        "RunDetails(run).show()"
      ]
    },
    {
      "cell_type": "markdown",
      "metadata": {},
      "source": [
        "We can also periodically check the status of the run object, and navigate to Azure portal to monitor the run."
      ]
    },
    {
      "cell_type": "code",
      "execution_count": null,
      "metadata": {},
      "outputs": [],
      "source": [
        "run"
      ]
    },
    {
      "cell_type": "code",
      "execution_count": null,
      "metadata": {},
      "outputs": [],
      "source": [
        "run.wait_for_completion(show_output=True)"
      ]
    },
    {
      "cell_type": "markdown",
      "metadata": {},
      "source": [
        "In the outputs of the training script, it prints out the Keras version number. Please make a note of it."
      ]
    },
    {
      "cell_type": "markdown",
      "metadata": {},
      "source": [
        "### The Run object\n",
        "The Run object provides the interface to the run history -- both to the job and to the control plane (this notebook), and both while the job is running and after it has completed. It provides a number of interesting features for instance:\n",
        "* `run.get_details()`: Provides a rich set of properties of the run\n",
        "* `run.get_metrics()`: Provides a dictionary with all the metrics that were reported for the Run\n",
        "* `run.get_file_names()`: List all the files that were uploaded to the run history for this Run. This will include the `outputs` and `logs` folder, azureml-logs and other logs, as well as files that were explicitly uploaded to the run using `run.upload_file()`\n",
        "\n",
        "Below are some examples -- please run through them and inspect their output. "
      ]
    },
    {
      "cell_type": "code",
      "execution_count": null,
      "metadata": {},
      "outputs": [],
      "source": [
        "run.get_details()"
      ]
    },
    {
      "cell_type": "code",
      "execution_count": null,
      "metadata": {},
      "outputs": [],
      "source": [
        "run.get_metrics()"
      ]
    },
    {
      "cell_type": "code",
      "execution_count": null,
      "metadata": {},
      "outputs": [],
      "source": [
        "run.get_file_names()"
      ]
    },
    {
      "cell_type": "markdown",
      "metadata": {},
      "source": [
        "## Download the saved model"
      ]
    },
    {
      "cell_type": "markdown",
      "metadata": {},
      "source": [
        "In the training script, the Keras model is saved into two files, `model.json` and `model.h5`, in the `outputs/models` folder on the gpu-cluster AmlCompute node. Azure ML automatically uploaded anything written in the `./outputs` folder into run history file store. Subsequently, we can use the `run` object to download the model files. They are under the the `outputs/model` folder in the run history file store, and are downloaded into a local folder named `model`."
      ]
    },
    {
      "cell_type": "code",
      "execution_count": null,
      "metadata": {},
      "outputs": [],
      "source": [
        "# create a model folder in the current directory\n",
        "os.makedirs('./model', exist_ok=True)\n",
        "\n",
        "for f in run.get_file_names():\n",
        "    if f.startswith('outputs/model'):\n",
        "        output_file_path = os.path.join('./model', f.split('/')[-1])\n",
        "        print('Downloading from {} to {} ...'.format(f, output_file_path))\n",
        "        run.download_file(name=f, output_file_path=output_file_path)"
      ]
    },
    {
      "cell_type": "markdown",
      "metadata": {},
      "source": [
        "## Predict on the test set (Optional)\n",
        "Let's check the version of the local Keras. Make sure it matches with the version number printed out in the training script. Otherwise you might not be able to load the model properly."
      ]
    },
    {
      "cell_type": "markdown",
      "metadata": {},
      "source": [
        "    import keras\n",
        "    import tensorflow as tf\n",
        "\n",
        "    print(\"Keras version:\", keras.__version__)\n",
        "    print(\"Tensorflow version:\", tf.__version__)"
      ]
    },
    {
      "cell_type": "markdown",
      "metadata": {},
      "source": [
        "Now let's load the downloaded model."
      ]
    },
    {
      "cell_type": "markdown",
      "metadata": {},
      "source": [
        "    from keras.models import model_from_json\n",
        "\n",
        "    # load json and create model\n",
        "    json_file = open('model/model.json', 'r')\n",
        "    loaded_model_json = json_file.read()\n",
        "    json_file.close()\n",
        "    loaded_model = model_from_json(loaded_model_json)\n",
        "    # load weights into new model\n",
        "    loaded_model.load_weights(\"model/model.h5\")\n",
        "    print(\"Model loaded from disk.\")"
      ]
    },
    {
      "cell_type": "markdown",
      "metadata": {},
      "source": [
        "Feed test dataset to the persisted model to get predictions."
      ]
    },
    {
      "cell_type": "markdown",
      "metadata": {},
      "source": [
        "    # evaluate loaded model on test data\n",
        "    loaded_model.compile(loss='binary_crossentropy', optimizer='rmsprop', metrics=['accuracy'])\n",
        "    y_test_ohe = one_hot_encode(y_test, 10)\n",
        "    y_hat = np.argmax(loaded_model.predict(X_test), axis=1)\n",
        "\n",
        "    # print the first 30 labels and predictions\n",
        "    print('labels:  \\t', y_test[:30])\n",
        "    print('predictions:\\t', y_hat[:30])"
      ]
    },
    {
      "cell_type": "markdown",
      "metadata": {},
      "source": [
        "Calculate the overall accuracy by comparing the predicted value against the test set."
      ]
    },
    {
      "cell_type": "markdown",
      "metadata": {},
      "source": [
        "    print(\"Accuracy on the test set:\", np.average(y_hat == y_test))"
      ]
    },
    {
      "cell_type": "markdown",
      "metadata": {},
      "source": [
        "## Intelligent hyperparameter tuning\n",
        "We have trained the model with one set of hyperparameters, now let's how we can do hyperparameter tuning by launching multiple runs on the cluster. First let's define the parameter space using random sampling."
      ]
    },
    {
      "cell_type": "code",
      "execution_count": null,
      "metadata": {},
      "outputs": [],
      "source": [
        "from azureml.train.hyperdrive import RandomParameterSampling, BanditPolicy, HyperDriveConfig, PrimaryMetricGoal\n",
        "from azureml.train.hyperdrive import choice, loguniform\n",
        "\n",
        "ps = RandomParameterSampling(\n",
        "    {\n",
        "        '--batch-size': choice(25, 50, 100),\n",
        "        '--first-layer-neurons': choice(10, 50, 200, 300, 500),\n",
        "        '--second-layer-neurons': choice(10, 50, 200, 500),\n",
        "        '--learning-rate': loguniform(-6, -1)\n",
        "    }\n",
        ")"
      ]
    },
    {
      "cell_type": "markdown",
      "metadata": {},
      "source": [
        "Next, we will create a new ScriptRunConfig without the above arguments since they will be passed in later by our Hyperdrive configuration. Note we still need to keep the `data-folder` parameter since that's not a hyperparameter we will sweep."
      ]
    },
    {
      "cell_type": "code",
      "execution_count": null,
      "metadata": {},
      "outputs": [],
      "source": [
        "args = ['--data-folder', dataset.as_named_input('mnist').as_mount()]\n",
        "\n",
        "src = ScriptRunConfig(source_directory=script_folder,\n",
        "                      script='keras_mnist.py',\n",
        "                      arguments=args,\n",
        "                      compute_target=compute_target,\n",
        "                      environment=keras_env)"
      ]
    },
    {
      "cell_type": "markdown",
      "metadata": {},
      "source": [
        "Now we will define an early termnination policy. The `BanditPolicy` basically states to check the job every 2 iterations. If the primary metric (defined later) falls outside of the top 10% range, Azure ML terminate the job. This saves us from continuing to explore hyperparameters that don't show promise of helping reach our target metric."
      ]
    },
    {
      "cell_type": "code",
      "execution_count": null,
      "metadata": {},
      "outputs": [],
      "source": [
        "policy = BanditPolicy(evaluation_interval=2, slack_factor=0.1)"
      ]
    },
    {
      "cell_type": "markdown",
      "metadata": {},
      "source": [
        "Now we are ready to configure a run configuration object, and specify the primary metric `Accuracy` that's recorded in your training runs. If you go back to visit the training script, you will notice that this value is being logged after every epoch (a full batch set). We also want to tell the service that we are looking to maximizing this value. We also set the number of samples to 20, and maximal concurrent job to 4, which is the same as the number of nodes in our computer cluster."
      ]
    },
    {
      "cell_type": "code",
      "execution_count": null,
      "metadata": {},
      "outputs": [],
      "source": [
        "hyperdrive_config = HyperDriveConfig(run_config=src,\n",
        "                                     hyperparameter_sampling=ps,\n",
        "                                     policy=policy,\n",
        "                                     primary_metric_name='Accuracy',\n",
        "                                     primary_metric_goal=PrimaryMetricGoal.MAXIMIZE,\n",
        "                                     max_total_runs=20,\n",
        "                                     max_concurrent_runs=4)"
      ]
    },
    {
      "cell_type": "markdown",
      "metadata": {},
      "source": [
        "Finally, let's launch the hyperparameter tuning job."
      ]
    },
    {
      "cell_type": "code",
      "execution_count": null,
      "metadata": {},
      "outputs": [],
      "source": [
        "hyperdrive_run = exp.submit(config=hyperdrive_config)"
      ]
    },
    {
      "cell_type": "markdown",
      "metadata": {},
      "source": [
        "We can use a run history widget to show the progress. Be patient as this might take a while to complete."
      ]
    },
    {
      "cell_type": "code",
      "execution_count": null,
      "metadata": {},
      "outputs": [],
      "source": [
        "RunDetails(hyperdrive_run).show()"
      ]
    },
    {
      "cell_type": "code",
      "execution_count": null,
      "metadata": {},
      "outputs": [],
      "source": [
        "hyperdrive_run.wait_for_completion(show_output=True)"
      ]
    },
    {
      "cell_type": "code",
      "execution_count": null,
      "metadata": {},
      "outputs": [],
      "source": [
        "assert(hyperdrive_run.get_status() == \"Completed\")"
      ]
    },
    {
      "cell_type": "markdown",
      "metadata": {},
      "source": [
        "### Warm start a Hyperparameter Tuning experiment and resuming child runs\n",
        "Often times, finding the best hyperparameter values for your model can be an iterative process, needing multiple tuning runs that learn from previous hyperparameter tuning runs. Reusing knowledge from these previous runs will accelerate the hyperparameter tuning process, thereby reducing the cost of tuning the model and will potentially improve the primary metric of the resulting model. When warm starting a hyperparameter tuning experiment with Bayesian sampling, trials from the previous run will be used as prior knowledge to intelligently pick new samples, so as to improve the primary metric. Additionally, when using Random or Grid sampling, any early termination decisions will leverage metrics from the previous runs to determine poorly performing training runs. \n",
        "\n",
        "Azure Machine Learning allows you to warm start your hyperparameter tuning run by leveraging knowledge from up to 5 previously completed hyperparameter tuning parent runs. \n",
        "\n",
        "Additionally, there might be occasions when individual training runs of a hyperparameter tuning experiment are cancelled due to budget constraints or fail due to other reasons. It is now possible to resume such individual training runs from the last checkpoint (assuming your training script handles checkpoints). Resuming an individual training run will use the same hyperparameter configuration and mount the storage used for that run. The training script should accept the \"--resume-from\" argument, which contains the checkpoint or model files from which to resume the training run. You can also resume individual runs as part of an experiment that spends additional budget on hyperparameter tuning. Any additional budget, after resuming the specified training runs is used for exploring additional configurations.\n",
        "\n",
        "For more information on warm starting and resuming hyperparameter tuning runs, please refer to the [Hyperparameter Tuning for Azure Machine Learning documentation](https://docs.microsoft.com/en-us/azure/machine-learning/service/how-to-tune-hyperparameters) \n",
        "\n",
        "## Find and register best model\n",
        "When all the jobs finish, we can find out the one that has the highest accuracy."
      ]
    },
    {
      "cell_type": "code",
      "execution_count": null,
      "metadata": {},
      "outputs": [],
      "source": [
        "best_run = hyperdrive_run.get_best_run_by_primary_metric()\n",
        "print(best_run.get_details()['runDefinition']['arguments'])"
      ]
    },
    {
      "cell_type": "markdown",
      "metadata": {},
      "source": [
        "Now let's list the model files uploaded during the run."
      ]
    },
    {
      "cell_type": "code",
      "execution_count": null,
      "metadata": {},
      "outputs": [],
      "source": [
        "print(best_run.get_file_names())"
      ]
    },
    {
      "cell_type": "markdown",
      "metadata": {},
      "source": [
        "We can then register the folder (and all files in it) as a model named `keras-dnn-mnist` under the workspace for deployment."
      ]
    },
    {
      "cell_type": "code",
      "execution_count": null,
      "metadata": {},
      "outputs": [],
      "source": [
        "model = best_run.register_model(model_name='keras-mlp-mnist', model_path='outputs/model')"
      ]
    },
    {
      "cell_type": "markdown",
      "metadata": {},
      "source": [
        "## Deploy the model in ACI\n",
        "Now we are ready to deploy the model as a web service running in Azure Container Instance [ACI](https://azure.microsoft.com/en-us/services/container-instances/). Azure Machine Learning accomplishes this by constructing a Docker image with the scoring logic and model baked in.\n",
        "### Create score.py\n",
        "First, we will create a scoring script that will be invoked by the web service call. \n",
        "\n",
        "* Note that the scoring script must have two required functions, `init()` and `run(input_data)`. \n",
        "  * In `init()` function, you typically load the model into a global object. This function is executed only once when the Docker container is started. \n",
        "  * In `run(input_data)` function, the model is used to predict a value based on the input data. The input and output to `run` typically use JSON as serialization and de-serialization format but you are not limited to that."
      ]
    },
    {
      "cell_type": "code",
      "execution_count": null,
      "metadata": {},
      "outputs": [],
      "source": [
        "%%writefile score.py\n",
        "import json\n",
        "import numpy as np\n",
        "import os\n",
        "from keras.models import model_from_json\n",
        "\n",
        "from azureml.core.model import Model\n",
        "\n",
        "def init():\n",
        "    global model\n",
        "    \n",
        "    model_root = Model.get_model_path('keras-mlp-mnist')\n",
        "    # load json and create model\n",
        "    json_file = open(os.path.join(model_root, 'model.json'), 'r')\n",
        "    model_json = json_file.read()\n",
        "    json_file.close()\n",
        "    model = model_from_json(model_json)\n",
        "    # load weights into new model\n",
        "    model.load_weights(os.path.join(model_root, \"model.h5\"))   \n",
        "    model.compile(loss='binary_crossentropy', optimizer='rmsprop', metrics=['accuracy'])\n",
        "    \n",
        "def run(raw_data):\n",
        "    data = np.array(json.loads(raw_data)['data'])\n",
        "    # make prediction\n",
        "    y_hat = np.argmax(model.predict(data), axis=1)\n",
        "    return y_hat.tolist()"
      ]
    },
    {
      "cell_type": "markdown",
      "metadata": {},
      "source": [
        "### Create myenv.yml\n",
        "We also need to create an environment file so that Azure Machine Learning can install the necessary packages in the Docker image which are required by your scoring script. In this case, we need to specify conda packages `tensorflow` and `keras`."
      ]
    },
    {
      "cell_type": "code",
      "execution_count": null,
      "metadata": {},
      "outputs": [],
      "source": [
        "from azureml.core.conda_dependencies import CondaDependencies\n",
        "\n",
        "cd = CondaDependencies.create()\n",
        "cd.add_tensorflow_conda_package()\n",
        "cd.add_conda_package('keras<=2.3.1')\n",
        "cd.add_pip_package(\"azureml-defaults\")\n",
        "cd.save_to_file(base_directory='./', conda_file_path='myenv.yml')\n",
        "\n",
        "print(cd.serialize_to_string())"
      ]
    },
    {
      "cell_type": "markdown",
      "metadata": {},
      "source": [
        "### Deploy to ACI\n",
        "We are almost ready to deploy. Create the inference configuration and deployment configuration and deploy to ACI. This cell will run for about 7-8 minutes."
      ]
    },
    {
      "cell_type": "code",
      "execution_count": null,
      "metadata": {},
      "outputs": [],
      "source": [
        "from azureml.core.webservice import AciWebservice\n",
        "from azureml.core.model import InferenceConfig\n",
        "from azureml.core.model import Model\n",
        "from azureml.core.environment import Environment\n",
        "\n",
        "\n",
        "myenv = Environment.from_conda_specification(name=\"myenv\", file_path=\"myenv.yml\")\n",
        "inference_config = InferenceConfig(entry_script=\"score.py\", environment=myenv)\n",
        "\n",
        "aciconfig = AciWebservice.deploy_configuration(cpu_cores=1,\n",
        "                                               auth_enabled=True, # this flag generates API keys to secure access\n",
        "                                               memory_gb=1,\n",
        "                                               tags={'name': 'mnist', 'framework': 'Keras'},\n",
        "                                               description='Keras MLP on MNIST')\n",
        "\n",
        "service = Model.deploy(workspace=ws, \n",
        "                           name='keras-mnist-svc', \n",
        "                           models=[model], \n",
        "                           inference_config=inference_config, \n",
        "                           deployment_config=aciconfig)\n",
        "\n",
        "service.wait_for_deployment(True)\n",
        "print(service.state)"
      ]
    },
    {
      "cell_type": "markdown",
      "metadata": {},
      "source": [
        "**Tip: If something goes wrong with the deployment, the first thing to look at is the logs from the service by running the following command:** `print(service.get_logs())`"
      ]
    },
    {
      "cell_type": "markdown",
      "metadata": {},
      "source": [
        "This is the scoring web service endpoint:"
      ]
    },
    {
      "cell_type": "code",
      "execution_count": null,
      "metadata": {},
      "outputs": [],
      "source": [
        "print(service.scoring_uri)"
      ]
    },
    {
      "cell_type": "markdown",
      "metadata": {},
      "source": [
        "### Test the deployed model\n",
        "Let's test the deployed model. Pick 30 random samples from the test set, and send it to the web service hosted in ACI. Note here we are using the `run` API in the SDK to invoke the service. You can also make raw HTTP calls using any HTTP tool such as curl.\n",
        "\n",
        "After the invocation, we print the returned predictions and plot them along with the input images. Use red font color and inversed image (white on black) to highlight the misclassified samples. Note since the model accuracy is pretty high, you might have to run the below cell a few times before you can see a misclassified sample."
      ]
    },
    {
      "cell_type": "code",
      "execution_count": null,
      "metadata": {},
      "outputs": [],
      "source": [
        "import json\n",
        "\n",
        "# find 30 random samples from test set\n",
        "n = 30\n",
        "sample_indices = np.random.permutation(X_test.shape[0])[0:n]\n",
        "\n",
        "test_samples = json.dumps({\"data\": X_test[sample_indices].tolist()})\n",
        "test_samples = bytes(test_samples, encoding='utf8')\n",
        "\n",
        "# predict using the deployed model\n",
        "result = service.run(input_data=test_samples)\n",
        "\n",
        "# compare actual value vs. the predicted values:\n",
        "i = 0\n",
        "plt.figure(figsize = (20, 1))\n",
        "\n",
        "for s in sample_indices:\n",
        "    plt.subplot(1, n, i + 1)\n",
        "    plt.axhline('')\n",
        "    plt.axvline('')\n",
        "    \n",
        "    # use different color for misclassified sample\n",
        "    font_color = 'red' if y_test[s] != result[i] else 'black'\n",
        "    clr_map = plt.cm.gray if y_test[s] != result[i] else plt.cm.Greys\n",
        "    \n",
        "    plt.text(x=10, y=-10, s=result[i], fontsize=18, color=font_color)\n",
        "    plt.imshow(X_test[s].reshape(28, 28), cmap=clr_map)\n",
        "    \n",
        "    i = i + 1\n",
        "plt.show()"
      ]
    },
    {
      "cell_type": "markdown",
      "metadata": {},
      "source": [
        "We can retrieve the API keys used for accessing the HTTP endpoint."
      ]
    },
    {
      "cell_type": "code",
      "execution_count": null,
      "metadata": {},
      "outputs": [],
      "source": [
        "# Retrieve the API keys. Two keys were generated.\n",
        "key1, Key2 = service.get_keys()\n",
        "print(key1)"
      ]
    },
    {
      "cell_type": "markdown",
      "metadata": {},
      "source": [
        "We can now send construct raw HTTP request and send to the service. Don't forget to add key to the HTTP header."
      ]
    },
    {
      "cell_type": "code",
      "execution_count": null,
      "metadata": {},
      "outputs": [],
      "source": [
        "import requests\n",
        "\n",
        "# send a random row from the test set to score\n",
        "random_index = np.random.randint(0, len(X_test)-1)\n",
        "input_data = \"{\\\"data\\\": [\" + str(list(X_test[random_index])) + \"]}\"\n",
        "\n",
        "headers = {'Content-Type':'application/json', 'Authorization': 'Bearer ' + key1}\n",
        "\n",
        "resp = requests.post(service.scoring_uri, input_data, headers=headers)\n",
        "\n",
        "print(\"POST to url\", service.scoring_uri)\n",
        "#print(\"input data:\", input_data)\n",
        "print(\"label:\", y_test[random_index])\n",
        "print(\"prediction:\", resp.text)"
      ]
    },
    {
      "cell_type": "markdown",
      "metadata": {},
      "source": [
        "Let's look at the workspace after the web service was deployed. You should see \n",
        "* a registered model named 'keras-mlp-mnist' and with the id 'model:1'  \n",
        "* a webservice called 'keras-mnist-svc' with some scoring URL"
      ]
    },
    {
      "cell_type": "code",
      "execution_count": null,
      "metadata": {},
      "outputs": [],
      "source": [
        "model = ws.models['keras-mlp-mnist']\n",
        "print(\"Model: {}, ID: {}\".format('keras-mlp-mnist', model.id))\n",
        "    \n",
        "webservice = ws.webservices['keras-mnist-svc']\n",
        "print(\"Webservice: {}, scoring URI: {}\".format('keras-mnist-svc', webservice.scoring_uri))"
      ]
    },
    {
      "cell_type": "markdown",
      "metadata": {},
      "source": [
        "## Clean up\n",
        "You can delete the ACI deployment with a simple delete API call."
      ]
    },
    {
      "cell_type": "code",
      "execution_count": null,
      "metadata": {},
      "outputs": [],
      "source": [
        "service.delete()"
      ]
    }
  ],
  "metadata": {
    "authors": [
      {
        "name": "swatig"
      }
    ],
    "category": "training",
    "compute": [
      "AML Compute"
    ],
    "datasets": [
      "MNIST"
    ],
    "deployment": [
      "Azure Container Instance"
    ],
    "exclude_from_index": false,
    "framework": [
      "TensorFlow"
    ],
    "friendly_name": "Train a DNN using hyperparameter tuning and deploying with Keras",
    "index_order": 1,
    "kernelspec": {
      "name": "Python 3.7.7 64-bit ('HSBC': conda)",
      "display_name": "Python 3.7.7 64-bit ('HSBC': conda)",
      "metadata": {
        "interpreter": {
          "hash": "b62a425965a0065b861d84ee9352ec6a3004145d33dd781d2a501f2c7131f7c6"
        }
      }
    },
    "language_info": {
      "codemirror_mode": {
        "name": "ipython",
        "version": 3
      },
      "file_extension": ".py",
      "mimetype": "text/x-python",
      "name": "python",
      "nbconvert_exporter": "python",
      "pygments_lexer": "ipython3",
      "version": "3.7.7-final"
    },
    "tags": [
      "None"
    ],
    "task": "Create a multi-class classifier"
  },
  "nbformat": 4,
  "nbformat_minor": 2
}