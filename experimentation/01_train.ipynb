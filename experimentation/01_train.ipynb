{
 "metadata": {
  "language_info": {
   "codemirror_mode": {
    "name": "ipython",
    "version": 3
   },
   "file_extension": ".py",
   "mimetype": "text/x-python",
   "name": "python",
   "nbconvert_exporter": "python",
   "pygments_lexer": "ipython3",
   "version": "3.7.7-final"
  },
  "orig_nbformat": 2,
  "kernelspec": {
   "name": "Python 3.7.7 64-bit ('HSBC': conda)",
   "display_name": "Python 3.7.7 64-bit ('HSBC': conda)",
   "metadata": {
    "interpreter": {
     "hash": "b62a425965a0065b861d84ee9352ec6a3004145d33dd781d2a501f2c7131f7c6"
    }
   }
  }
 },
 "nbformat": 4,
 "nbformat_minor": 2,
 "cells": [
  {
   "cell_type": "code",
   "execution_count": 1,
   "metadata": {},
   "outputs": [
    {
     "output_type": "stream",
     "name": "stdout",
     "text": [
      "Keras version: 2.4.3\nTensorflow version: 2.3.1\n"
     ]
    }
   ],
   "source": [
    "import numpy as np\n",
    "import argparse\n",
    "import os\n",
    "import glob\n",
    "\n",
    "import matplotlib.pyplot as plt\n",
    "\n",
    "import keras\n",
    "from keras.models import Sequential, model_from_json\n",
    "from keras.layers import Dense\n",
    "from keras.optimizers import RMSprop\n",
    "from keras.callbacks import Callback\n",
    "\n",
    "import tensorflow as tf\n",
    "\n",
    "from azureml.core import Run\n",
    "from utils import load_data, one_hot_encode\n",
    "\n",
    "print(\"Keras version:\", keras.__version__)\n",
    "print(\"Tensorflow version:\", tf.__version__)"
   ]
  },
  {
   "cell_type": "code",
   "execution_count": 3,
   "metadata": {},
   "outputs": [
    {
     "output_type": "stream",
     "name": "stdout",
     "text": [
      "(60000, 784)\n",
      "(60000, 10)\n",
      "(10000, 784)\n",
      "(10000, 10)\n",
      "Model: \"sequential_1\"\n",
      "_________________________________________________________________\n",
      "Layer (type)                 Output Shape              Param #   \n",
      "=================================================================\n",
      "dense_3 (Dense)              (None, 300)               235500    \n",
      "_________________________________________________________________\n",
      "dense_4 (Dense)              (None, 100)               30100     \n",
      "_________________________________________________________________\n",
      "dense_5 (Dense)              (None, 10)                1010      \n",
      "=================================================================\n",
      "Total params: 266,610\n",
      "Trainable params: 266,610\n",
      "Non-trainable params: 0\n",
      "_________________________________________________________________\n",
      "Epoch 1/20\n",
      "3000/3000 - 7s - loss: 0.2032 - accuracy: 0.9402 - val_loss: 0.1145 - val_accuracy: 0.9679\n",
      "Epoch 2/20\n",
      "3000/3000 - 7s - loss: 0.1026 - accuracy: 0.9725 - val_loss: 0.1214 - val_accuracy: 0.9692\n",
      "Epoch 3/20\n",
      "3000/3000 - 7s - loss: 0.0846 - accuracy: 0.9789 - val_loss: 0.1241 - val_accuracy: 0.9711\n",
      "Epoch 4/20\n",
      "3000/3000 - 7s - loss: 0.0766 - accuracy: 0.9820 - val_loss: 0.1309 - val_accuracy: 0.9730\n",
      "Epoch 5/20\n",
      "3000/3000 - 7s - loss: 0.0674 - accuracy: 0.9849 - val_loss: 0.1469 - val_accuracy: 0.9734\n",
      "Epoch 6/20\n",
      "3000/3000 - 7s - loss: 0.0649 - accuracy: 0.9861 - val_loss: 0.1314 - val_accuracy: 0.9789\n",
      "Epoch 7/20\n",
      "3000/3000 - 7s - loss: 0.0567 - accuracy: 0.9876 - val_loss: 0.1692 - val_accuracy: 0.9765\n",
      "Epoch 8/20\n",
      "3000/3000 - 8s - loss: 0.0521 - accuracy: 0.9888 - val_loss: 0.1717 - val_accuracy: 0.9780\n",
      "Epoch 9/20\n",
      "3000/3000 - 7s - loss: 0.0463 - accuracy: 0.9902 - val_loss: 0.1859 - val_accuracy: 0.9779\n",
      "Epoch 10/20\n",
      "3000/3000 - 8s - loss: 0.0485 - accuracy: 0.9909 - val_loss: 0.2281 - val_accuracy: 0.9757\n",
      "Epoch 11/20\n",
      "3000/3000 - 8s - loss: 0.0445 - accuracy: 0.9918 - val_loss: 0.2393 - val_accuracy: 0.9772\n",
      "Epoch 12/20\n",
      "3000/3000 - 7s - loss: 0.0375 - accuracy: 0.9927 - val_loss: 0.2254 - val_accuracy: 0.9761\n",
      "Epoch 13/20\n",
      "3000/3000 - 7s - loss: 0.0348 - accuracy: 0.9938 - val_loss: 0.2416 - val_accuracy: 0.9779\n",
      "Epoch 14/20\n",
      "3000/3000 - 8s - loss: 0.0349 - accuracy: 0.9934 - val_loss: 0.2331 - val_accuracy: 0.9789\n",
      "Epoch 15/20\n",
      "3000/3000 - 8s - loss: 0.0306 - accuracy: 0.9941 - val_loss: 0.2432 - val_accuracy: 0.9783\n",
      "Epoch 16/20\n",
      "3000/3000 - 8s - loss: 0.0340 - accuracy: 0.9938 - val_loss: 0.2507 - val_accuracy: 0.9804\n",
      "Epoch 17/20\n",
      "3000/3000 - 9s - loss: 0.0256 - accuracy: 0.9949 - val_loss: 0.2642 - val_accuracy: 0.9783\n",
      "Epoch 18/20\n",
      "3000/3000 - 9s - loss: 0.0298 - accuracy: 0.9948 - val_loss: 0.2928 - val_accuracy: 0.9789\n",
      "Epoch 19/20\n",
      "3000/3000 - 9s - loss: 0.0244 - accuracy: 0.9960 - val_loss: 0.2859 - val_accuracy: 0.9781\n",
      "Epoch 20/20\n",
      "3000/3000 - 8s - loss: 0.0238 - accuracy: 0.9956 - val_loss: 0.2935 - val_accuracy: 0.9796\n",
      "Test loss: 0.2935269773006439\n",
      "Test accuracy: 0.9796000123023987\n"
     ]
    }
   ],
   "source": [
    "data_folder = \"data\"\n",
    "X_train_path = glob.glob(os.path.join(data_folder, '**/train-images-idx3-ubyte.gz'), recursive=True)[0]\n",
    "X_test_path = glob.glob(os.path.join(data_folder, '**/t10k-images-idx3-ubyte.gz'), recursive=True)[0]\n",
    "y_train_path = glob.glob(os.path.join(data_folder, '**/train-labels-idx1-ubyte.gz'), recursive=True)[0]\n",
    "y_test_path = glob.glob(os.path.join(data_folder, '**/t10k-labels-idx1-ubyte.gz'), recursive=True)[0]\n",
    "\n",
    "X_train = load_data(X_train_path, False) / 255.0\n",
    "X_test = load_data(X_test_path, False) / 255.0\n",
    "y_train = load_data(y_train_path, True).reshape(-1)\n",
    "y_test = load_data(y_test_path, True).reshape(-1)\n",
    "\n",
    "training_set_size = X_train.shape[0]\n",
    "\n",
    "n_inputs = 28 * 28\n",
    "n_h1 = 300\n",
    "n_h2 = 100\n",
    "n_outputs = 10\n",
    "n_epochs = 20\n",
    "batch_size = 20\n",
    "learning_rate = 0.001\n",
    "\n",
    "y_train = one_hot_encode(y_train, n_outputs)\n",
    "y_test = one_hot_encode(y_test, n_outputs)\n",
    "print(X_train.shape, y_train.shape, X_test.shape, y_test.shape, sep='\\n')\n",
    "\n",
    "# Build a simple MLP model\n",
    "model = Sequential()\n",
    "# first hidden layer\n",
    "model.add(Dense(n_h1, activation='relu', input_shape=(n_inputs,)))\n",
    "# second hidden layer\n",
    "model.add(Dense(n_h2, activation='relu'))\n",
    "# output layer\n",
    "model.add(Dense(n_outputs, activation='softmax'))\n",
    "\n",
    "model.summary()\n",
    "\n",
    "model.compile(loss='categorical_crossentropy',\n",
    "              optimizer=RMSprop(lr=learning_rate),\n",
    "              metrics=['accuracy'])\n",
    "\n",
    "history = model.fit(X_train, y_train,\n",
    "                    batch_size=batch_size,\n",
    "                    epochs=n_epochs,\n",
    "                    verbose=2,\n",
    "                    validation_data=(X_test, y_test))\n",
    "                    #callbacks=[LogRunMetrics()])\n",
    "\n",
    "score = model.evaluate(X_test, y_test, verbose=0)\n",
    "\n",
    "# log a single value\n",
    "print('Test loss:', score[0])\n",
    "print('Test accuracy:', score[1])"
   ]
  },
  {
   "cell_type": "code",
   "execution_count": 4,
   "metadata": {},
   "outputs": [],
   "source": [
    "model.save(\"mnist.h5\")"
   ]
  },
  {
   "cell_type": "code",
   "execution_count": 5,
   "metadata": {},
   "outputs": [
    {
     "output_type": "stream",
     "name": "stdout",
     "text": [
      "Model: \"sequential_1\"\n_________________________________________________________________\nLayer (type)                 Output Shape              Param #   \n=================================================================\ndense_3 (Dense)              (None, 300)               235500    \n_________________________________________________________________\ndense_4 (Dense)              (None, 100)               30100     \n_________________________________________________________________\ndense_5 (Dense)              (None, 10)                1010      \n=================================================================\nTotal params: 266,610\nTrainable params: 266,610\nNon-trainable params: 0\n_________________________________________________________________\n"
     ]
    }
   ],
   "source": [
    "model.summary()"
   ]
  },
  {
   "cell_type": "code",
   "execution_count": null,
   "metadata": {},
   "outputs": [],
   "source": []
  }
 ]
}